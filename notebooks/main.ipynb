{
 "cells": [
  {
   "cell_type": "code",
   "execution_count": 21,
   "id": "664df541",
   "metadata": {},
   "outputs": [],
   "source": [
    "import pandas as pd\n",
    "import numpy as np\n",
    "from sklearn.model_selection import train_test_split\n",
    "from sklearn.naive_bayes import GaussianNB\n",
    "from sklearn.preprocessing import LabelEncoder\n",
    "from sklearn.metrics import f1_score, classification_report\n",
    "from sklearn.impute import SimpleImputer\n",
    "from sklearn.neural_network import MLPClassifier\n",
    "from sklearn.linear_model import SGDClassifier\n",
    "from sklearn.ensemble import RandomForestClassifier, VotingClassifier"
   ]
  },
  {
   "cell_type": "code",
   "execution_count": 22,
   "id": "cd0ec8f7",
   "metadata": {},
   "outputs": [
    {
     "name": "stdout",
     "output_type": "stream",
     "text": [
      "Raw Train DataFrame:\n"
     ]
    },
    {
     "data": {
      "application/vnd.microsoft.datawrangler.viewer.v0+json": {
       "columns": [
        {
         "name": "index",
         "rawType": "int64",
         "type": "integer"
        },
        {
         "name": "Time_spent_Alone",
         "rawType": "float64",
         "type": "float"
        },
        {
         "name": "Stage_fear",
         "rawType": "object",
         "type": "string"
        },
        {
         "name": "Social_event_attendance",
         "rawType": "float64",
         "type": "float"
        },
        {
         "name": "Going_outside",
         "rawType": "float64",
         "type": "float"
        },
        {
         "name": "Drained_after_socializing",
         "rawType": "object",
         "type": "unknown"
        },
        {
         "name": "Friends_circle_size",
         "rawType": "float64",
         "type": "float"
        },
        {
         "name": "Post_frequency",
         "rawType": "float64",
         "type": "float"
        },
        {
         "name": "Personality",
         "rawType": "object",
         "type": "string"
        }
       ],
       "ref": "b7371a87-2c9e-401f-8e82-cd2d438701db",
       "rows": [
        [
         "0",
         "0.0",
         "No",
         "6.0",
         "4.0",
         "No",
         "15.0",
         "5.0",
         "Extrovert"
        ],
        [
         "1",
         "1.0",
         "No",
         "7.0",
         "3.0",
         "No",
         "10.0",
         "8.0",
         "Extrovert"
        ],
        [
         "2",
         "6.0",
         "Yes",
         "1.0",
         "0.0",
         null,
         "3.0",
         "0.0",
         "Introvert"
        ],
        [
         "3",
         "3.0",
         "No",
         "7.0",
         "3.0",
         "No",
         "11.0",
         "5.0",
         "Extrovert"
        ],
        [
         "4",
         "1.0",
         "No",
         "4.0",
         "4.0",
         "No",
         "13.0",
         null,
         "Extrovert"
        ],
        [
         "5",
         "2.0",
         "No",
         "8.0",
         "5.0",
         "No",
         null,
         "3.0",
         "Extrovert"
        ]
       ],
       "shape": {
        "columns": 8,
        "rows": 6
       }
      },
      "text/html": [
       "<div>\n",
       "<style scoped>\n",
       "    .dataframe tbody tr th:only-of-type {\n",
       "        vertical-align: middle;\n",
       "    }\n",
       "\n",
       "    .dataframe tbody tr th {\n",
       "        vertical-align: top;\n",
       "    }\n",
       "\n",
       "    .dataframe thead th {\n",
       "        text-align: right;\n",
       "    }\n",
       "</style>\n",
       "<table border=\"1\" class=\"dataframe\">\n",
       "  <thead>\n",
       "    <tr style=\"text-align: right;\">\n",
       "      <th></th>\n",
       "      <th>Time_spent_Alone</th>\n",
       "      <th>Stage_fear</th>\n",
       "      <th>Social_event_attendance</th>\n",
       "      <th>Going_outside</th>\n",
       "      <th>Drained_after_socializing</th>\n",
       "      <th>Friends_circle_size</th>\n",
       "      <th>Post_frequency</th>\n",
       "      <th>Personality</th>\n",
       "    </tr>\n",
       "  </thead>\n",
       "  <tbody>\n",
       "    <tr>\n",
       "      <th>0</th>\n",
       "      <td>0.0</td>\n",
       "      <td>No</td>\n",
       "      <td>6.0</td>\n",
       "      <td>4.0</td>\n",
       "      <td>No</td>\n",
       "      <td>15.0</td>\n",
       "      <td>5.0</td>\n",
       "      <td>Extrovert</td>\n",
       "    </tr>\n",
       "    <tr>\n",
       "      <th>1</th>\n",
       "      <td>1.0</td>\n",
       "      <td>No</td>\n",
       "      <td>7.0</td>\n",
       "      <td>3.0</td>\n",
       "      <td>No</td>\n",
       "      <td>10.0</td>\n",
       "      <td>8.0</td>\n",
       "      <td>Extrovert</td>\n",
       "    </tr>\n",
       "    <tr>\n",
       "      <th>2</th>\n",
       "      <td>6.0</td>\n",
       "      <td>Yes</td>\n",
       "      <td>1.0</td>\n",
       "      <td>0.0</td>\n",
       "      <td>NaN</td>\n",
       "      <td>3.0</td>\n",
       "      <td>0.0</td>\n",
       "      <td>Introvert</td>\n",
       "    </tr>\n",
       "    <tr>\n",
       "      <th>3</th>\n",
       "      <td>3.0</td>\n",
       "      <td>No</td>\n",
       "      <td>7.0</td>\n",
       "      <td>3.0</td>\n",
       "      <td>No</td>\n",
       "      <td>11.0</td>\n",
       "      <td>5.0</td>\n",
       "      <td>Extrovert</td>\n",
       "    </tr>\n",
       "    <tr>\n",
       "      <th>4</th>\n",
       "      <td>1.0</td>\n",
       "      <td>No</td>\n",
       "      <td>4.0</td>\n",
       "      <td>4.0</td>\n",
       "      <td>No</td>\n",
       "      <td>13.0</td>\n",
       "      <td>NaN</td>\n",
       "      <td>Extrovert</td>\n",
       "    </tr>\n",
       "    <tr>\n",
       "      <th>5</th>\n",
       "      <td>2.0</td>\n",
       "      <td>No</td>\n",
       "      <td>8.0</td>\n",
       "      <td>5.0</td>\n",
       "      <td>No</td>\n",
       "      <td>NaN</td>\n",
       "      <td>3.0</td>\n",
       "      <td>Extrovert</td>\n",
       "    </tr>\n",
       "  </tbody>\n",
       "</table>\n",
       "</div>"
      ],
      "text/plain": [
       "   Time_spent_Alone Stage_fear  Social_event_attendance  Going_outside  \\\n",
       "0               0.0         No                      6.0            4.0   \n",
       "1               1.0         No                      7.0            3.0   \n",
       "2               6.0        Yes                      1.0            0.0   \n",
       "3               3.0         No                      7.0            3.0   \n",
       "4               1.0         No                      4.0            4.0   \n",
       "5               2.0         No                      8.0            5.0   \n",
       "\n",
       "  Drained_after_socializing  Friends_circle_size  Post_frequency Personality  \n",
       "0                        No                 15.0             5.0   Extrovert  \n",
       "1                        No                 10.0             8.0   Extrovert  \n",
       "2                       NaN                  3.0             0.0   Introvert  \n",
       "3                        No                 11.0             5.0   Extrovert  \n",
       "4                        No                 13.0             NaN   Extrovert  \n",
       "5                        No                  NaN             3.0   Extrovert  "
      ]
     },
     "metadata": {},
     "output_type": "display_data"
    },
    {
     "name": "stdout",
     "output_type": "stream",
     "text": [
      "Raw Sub DataFrame:\n"
     ]
    },
    {
     "data": {
      "application/vnd.microsoft.datawrangler.viewer.v0+json": {
       "columns": [
        {
         "name": "index",
         "rawType": "int64",
         "type": "integer"
        },
        {
         "name": "Time_spent_Alone",
         "rawType": "float64",
         "type": "float"
        },
        {
         "name": "Stage_fear",
         "rawType": "object",
         "type": "string"
        },
        {
         "name": "Social_event_attendance",
         "rawType": "float64",
         "type": "float"
        },
        {
         "name": "Going_outside",
         "rawType": "float64",
         "type": "float"
        },
        {
         "name": "Drained_after_socializing",
         "rawType": "object",
         "type": "string"
        },
        {
         "name": "Friends_circle_size",
         "rawType": "float64",
         "type": "float"
        },
        {
         "name": "Post_frequency",
         "rawType": "float64",
         "type": "float"
        }
       ],
       "ref": "eca2ac1f-37fe-48fe-9c5e-f942eb72755f",
       "rows": [
        [
         "0",
         "3.0",
         "No",
         "7.0",
         "4.0",
         "No",
         "6.0",
         null
        ],
        [
         "1",
         null,
         "Yes",
         "0.0",
         "0.0",
         "Yes",
         "5.0",
         "1.0"
        ],
        [
         "2",
         "3.0",
         "No",
         "5.0",
         "6.0",
         "No",
         "15.0",
         "9.0"
        ],
        [
         "3",
         "3.0",
         "No",
         "4.0",
         "4.0",
         "No",
         "5.0",
         "6.0"
        ],
        [
         "4",
         "9.0",
         "Yes",
         "1.0",
         "2.0",
         "Yes",
         "1.0",
         "1.0"
        ],
        [
         "5",
         "2.0",
         "No",
         "5.0",
         "3.0",
         "No",
         "10.0",
         "4.0"
        ]
       ],
       "shape": {
        "columns": 7,
        "rows": 6
       }
      },
      "text/html": [
       "<div>\n",
       "<style scoped>\n",
       "    .dataframe tbody tr th:only-of-type {\n",
       "        vertical-align: middle;\n",
       "    }\n",
       "\n",
       "    .dataframe tbody tr th {\n",
       "        vertical-align: top;\n",
       "    }\n",
       "\n",
       "    .dataframe thead th {\n",
       "        text-align: right;\n",
       "    }\n",
       "</style>\n",
       "<table border=\"1\" class=\"dataframe\">\n",
       "  <thead>\n",
       "    <tr style=\"text-align: right;\">\n",
       "      <th></th>\n",
       "      <th>Time_spent_Alone</th>\n",
       "      <th>Stage_fear</th>\n",
       "      <th>Social_event_attendance</th>\n",
       "      <th>Going_outside</th>\n",
       "      <th>Drained_after_socializing</th>\n",
       "      <th>Friends_circle_size</th>\n",
       "      <th>Post_frequency</th>\n",
       "    </tr>\n",
       "  </thead>\n",
       "  <tbody>\n",
       "    <tr>\n",
       "      <th>0</th>\n",
       "      <td>3.0</td>\n",
       "      <td>No</td>\n",
       "      <td>7.0</td>\n",
       "      <td>4.0</td>\n",
       "      <td>No</td>\n",
       "      <td>6.0</td>\n",
       "      <td>NaN</td>\n",
       "    </tr>\n",
       "    <tr>\n",
       "      <th>1</th>\n",
       "      <td>NaN</td>\n",
       "      <td>Yes</td>\n",
       "      <td>0.0</td>\n",
       "      <td>0.0</td>\n",
       "      <td>Yes</td>\n",
       "      <td>5.0</td>\n",
       "      <td>1.0</td>\n",
       "    </tr>\n",
       "    <tr>\n",
       "      <th>2</th>\n",
       "      <td>3.0</td>\n",
       "      <td>No</td>\n",
       "      <td>5.0</td>\n",
       "      <td>6.0</td>\n",
       "      <td>No</td>\n",
       "      <td>15.0</td>\n",
       "      <td>9.0</td>\n",
       "    </tr>\n",
       "    <tr>\n",
       "      <th>3</th>\n",
       "      <td>3.0</td>\n",
       "      <td>No</td>\n",
       "      <td>4.0</td>\n",
       "      <td>4.0</td>\n",
       "      <td>No</td>\n",
       "      <td>5.0</td>\n",
       "      <td>6.0</td>\n",
       "    </tr>\n",
       "    <tr>\n",
       "      <th>4</th>\n",
       "      <td>9.0</td>\n",
       "      <td>Yes</td>\n",
       "      <td>1.0</td>\n",
       "      <td>2.0</td>\n",
       "      <td>Yes</td>\n",
       "      <td>1.0</td>\n",
       "      <td>1.0</td>\n",
       "    </tr>\n",
       "    <tr>\n",
       "      <th>5</th>\n",
       "      <td>2.0</td>\n",
       "      <td>No</td>\n",
       "      <td>5.0</td>\n",
       "      <td>3.0</td>\n",
       "      <td>No</td>\n",
       "      <td>10.0</td>\n",
       "      <td>4.0</td>\n",
       "    </tr>\n",
       "  </tbody>\n",
       "</table>\n",
       "</div>"
      ],
      "text/plain": [
       "   Time_spent_Alone Stage_fear  Social_event_attendance  Going_outside  \\\n",
       "0               3.0         No                      7.0            4.0   \n",
       "1               NaN        Yes                      0.0            0.0   \n",
       "2               3.0         No                      5.0            6.0   \n",
       "3               3.0         No                      4.0            4.0   \n",
       "4               9.0        Yes                      1.0            2.0   \n",
       "5               2.0         No                      5.0            3.0   \n",
       "\n",
       "  Drained_after_socializing  Friends_circle_size  Post_frequency  \n",
       "0                        No                  6.0             NaN  \n",
       "1                       Yes                  5.0             1.0  \n",
       "2                        No                 15.0             9.0  \n",
       "3                        No                  5.0             6.0  \n",
       "4                       Yes                  1.0             1.0  \n",
       "5                        No                 10.0             4.0  "
      ]
     },
     "metadata": {},
     "output_type": "display_data"
    },
    {
     "name": "stdout",
     "output_type": "stream",
     "text": [
      "Cleaned Train DataFrame:\n"
     ]
    },
    {
     "data": {
      "application/vnd.microsoft.datawrangler.viewer.v0+json": {
       "columns": [
        {
         "name": "index",
         "rawType": "int64",
         "type": "integer"
        },
        {
         "name": "Time_spent_Alone",
         "rawType": "float64",
         "type": "float"
        },
        {
         "name": "Stage_fear",
         "rawType": "float64",
         "type": "float"
        },
        {
         "name": "Social_event_attendance",
         "rawType": "float64",
         "type": "float"
        },
        {
         "name": "Going_outside",
         "rawType": "float64",
         "type": "float"
        },
        {
         "name": "Drained_after_socializing",
         "rawType": "float64",
         "type": "float"
        },
        {
         "name": "Friends_circle_size",
         "rawType": "float64",
         "type": "float"
        },
        {
         "name": "Post_frequency",
         "rawType": "float64",
         "type": "float"
        },
        {
         "name": "Personality",
         "rawType": "float64",
         "type": "float"
        }
       ],
       "ref": "b66826e7-70e1-4768-b583-bef5cf01797e",
       "rows": [
        [
         "0",
         "0.0",
         "0.0",
         "6.0",
         "4.0",
         "0.0",
         "15.0",
         "5.0",
         "0.0"
        ],
        [
         "1",
         "1.0",
         "0.0",
         "7.0",
         "3.0",
         "0.0",
         "10.0",
         "8.0",
         "0.0"
        ],
        [
         "2",
         "6.0",
         "1.0",
         "1.0",
         "0.0",
         "0.23378417266187052",
         "3.0",
         "0.0",
         "1.0"
        ],
        [
         "3",
         "3.0",
         "0.0",
         "7.0",
         "3.0",
         "0.0",
         "11.0",
         "5.0",
         "0.0"
        ],
        [
         "4",
         "1.0",
         "0.0",
         "4.0",
         "4.0",
         "0.0",
         "13.0",
         "11.0",
         "0.0"
        ],
        [
         "5",
         "2.0",
         "0.0",
         "8.0",
         "5.0",
         "0.0",
         "16.0",
         "3.0",
         "0.0"
        ]
       ],
       "shape": {
        "columns": 8,
        "rows": 6
       }
      },
      "text/html": [
       "<div>\n",
       "<style scoped>\n",
       "    .dataframe tbody tr th:only-of-type {\n",
       "        vertical-align: middle;\n",
       "    }\n",
       "\n",
       "    .dataframe tbody tr th {\n",
       "        vertical-align: top;\n",
       "    }\n",
       "\n",
       "    .dataframe thead th {\n",
       "        text-align: right;\n",
       "    }\n",
       "</style>\n",
       "<table border=\"1\" class=\"dataframe\">\n",
       "  <thead>\n",
       "    <tr style=\"text-align: right;\">\n",
       "      <th></th>\n",
       "      <th>Time_spent_Alone</th>\n",
       "      <th>Stage_fear</th>\n",
       "      <th>Social_event_attendance</th>\n",
       "      <th>Going_outside</th>\n",
       "      <th>Drained_after_socializing</th>\n",
       "      <th>Friends_circle_size</th>\n",
       "      <th>Post_frequency</th>\n",
       "      <th>Personality</th>\n",
       "    </tr>\n",
       "  </thead>\n",
       "  <tbody>\n",
       "    <tr>\n",
       "      <th>0</th>\n",
       "      <td>0.0</td>\n",
       "      <td>0.0</td>\n",
       "      <td>6.0</td>\n",
       "      <td>4.0</td>\n",
       "      <td>0.000000</td>\n",
       "      <td>15.0</td>\n",
       "      <td>5.0</td>\n",
       "      <td>0.0</td>\n",
       "    </tr>\n",
       "    <tr>\n",
       "      <th>1</th>\n",
       "      <td>1.0</td>\n",
       "      <td>0.0</td>\n",
       "      <td>7.0</td>\n",
       "      <td>3.0</td>\n",
       "      <td>0.000000</td>\n",
       "      <td>10.0</td>\n",
       "      <td>8.0</td>\n",
       "      <td>0.0</td>\n",
       "    </tr>\n",
       "    <tr>\n",
       "      <th>2</th>\n",
       "      <td>6.0</td>\n",
       "      <td>1.0</td>\n",
       "      <td>1.0</td>\n",
       "      <td>0.0</td>\n",
       "      <td>0.233784</td>\n",
       "      <td>3.0</td>\n",
       "      <td>0.0</td>\n",
       "      <td>1.0</td>\n",
       "    </tr>\n",
       "    <tr>\n",
       "      <th>3</th>\n",
       "      <td>3.0</td>\n",
       "      <td>0.0</td>\n",
       "      <td>7.0</td>\n",
       "      <td>3.0</td>\n",
       "      <td>0.000000</td>\n",
       "      <td>11.0</td>\n",
       "      <td>5.0</td>\n",
       "      <td>0.0</td>\n",
       "    </tr>\n",
       "    <tr>\n",
       "      <th>4</th>\n",
       "      <td>1.0</td>\n",
       "      <td>0.0</td>\n",
       "      <td>4.0</td>\n",
       "      <td>4.0</td>\n",
       "      <td>0.000000</td>\n",
       "      <td>13.0</td>\n",
       "      <td>11.0</td>\n",
       "      <td>0.0</td>\n",
       "    </tr>\n",
       "    <tr>\n",
       "      <th>5</th>\n",
       "      <td>2.0</td>\n",
       "      <td>0.0</td>\n",
       "      <td>8.0</td>\n",
       "      <td>5.0</td>\n",
       "      <td>0.000000</td>\n",
       "      <td>16.0</td>\n",
       "      <td>3.0</td>\n",
       "      <td>0.0</td>\n",
       "    </tr>\n",
       "  </tbody>\n",
       "</table>\n",
       "</div>"
      ],
      "text/plain": [
       "   Time_spent_Alone  Stage_fear  Social_event_attendance  Going_outside  \\\n",
       "0               0.0         0.0                      6.0            4.0   \n",
       "1               1.0         0.0                      7.0            3.0   \n",
       "2               6.0         1.0                      1.0            0.0   \n",
       "3               3.0         0.0                      7.0            3.0   \n",
       "4               1.0         0.0                      4.0            4.0   \n",
       "5               2.0         0.0                      8.0            5.0   \n",
       "\n",
       "   Drained_after_socializing  Friends_circle_size  Post_frequency  Personality  \n",
       "0                   0.000000                 15.0             5.0          0.0  \n",
       "1                   0.000000                 10.0             8.0          0.0  \n",
       "2                   0.233784                  3.0             0.0          1.0  \n",
       "3                   0.000000                 11.0             5.0          0.0  \n",
       "4                   0.000000                 13.0            11.0          0.0  \n",
       "5                   0.000000                 16.0             3.0          0.0  "
      ]
     },
     "metadata": {},
     "output_type": "display_data"
    },
    {
     "name": "stdout",
     "output_type": "stream",
     "text": [
      "Cleaned Test DataFrame:\n"
     ]
    },
    {
     "data": {
      "application/vnd.microsoft.datawrangler.viewer.v0+json": {
       "columns": [
        {
         "name": "index",
         "rawType": "int64",
         "type": "integer"
        },
        {
         "name": "Time_spent_Alone",
         "rawType": "float64",
         "type": "float"
        },
        {
         "name": "Stage_fear",
         "rawType": "float64",
         "type": "float"
        },
        {
         "name": "Social_event_attendance",
         "rawType": "float64",
         "type": "float"
        },
        {
         "name": "Going_outside",
         "rawType": "float64",
         "type": "float"
        },
        {
         "name": "Drained_after_socializing",
         "rawType": "float64",
         "type": "float"
        },
        {
         "name": "Friends_circle_size",
         "rawType": "float64",
         "type": "float"
        },
        {
         "name": "Post_frequency",
         "rawType": "float64",
         "type": "float"
        }
       ],
       "ref": "ec96ef58-b7c0-47bc-a78f-a764a9c21ed0",
       "rows": [
        [
         "0",
         "3.0",
         "0.0",
         "7.0",
         "4.0",
         "0.0",
         "6.0",
         "11.0"
        ],
        [
         "1",
         "12.0",
         "1.0",
         "0.0",
         "0.0",
         "1.0",
         "5.0",
         "1.0"
        ],
        [
         "2",
         "3.0",
         "0.0",
         "5.0",
         "6.0",
         "0.0",
         "15.0",
         "9.0"
        ],
        [
         "3",
         "3.0",
         "0.0",
         "4.0",
         "4.0",
         "0.0",
         "5.0",
         "6.0"
        ],
        [
         "4",
         "9.0",
         "1.0",
         "1.0",
         "2.0",
         "1.0",
         "1.0",
         "1.0"
        ],
        [
         "5",
         "2.0",
         "0.0",
         "5.0",
         "3.0",
         "0.0",
         "10.0",
         "4.0"
        ]
       ],
       "shape": {
        "columns": 7,
        "rows": 6
       }
      },
      "text/html": [
       "<div>\n",
       "<style scoped>\n",
       "    .dataframe tbody tr th:only-of-type {\n",
       "        vertical-align: middle;\n",
       "    }\n",
       "\n",
       "    .dataframe tbody tr th {\n",
       "        vertical-align: top;\n",
       "    }\n",
       "\n",
       "    .dataframe thead th {\n",
       "        text-align: right;\n",
       "    }\n",
       "</style>\n",
       "<table border=\"1\" class=\"dataframe\">\n",
       "  <thead>\n",
       "    <tr style=\"text-align: right;\">\n",
       "      <th></th>\n",
       "      <th>Time_spent_Alone</th>\n",
       "      <th>Stage_fear</th>\n",
       "      <th>Social_event_attendance</th>\n",
       "      <th>Going_outside</th>\n",
       "      <th>Drained_after_socializing</th>\n",
       "      <th>Friends_circle_size</th>\n",
       "      <th>Post_frequency</th>\n",
       "    </tr>\n",
       "  </thead>\n",
       "  <tbody>\n",
       "    <tr>\n",
       "      <th>0</th>\n",
       "      <td>3.0</td>\n",
       "      <td>0.0</td>\n",
       "      <td>7.0</td>\n",
       "      <td>4.0</td>\n",
       "      <td>0.0</td>\n",
       "      <td>6.0</td>\n",
       "      <td>11.0</td>\n",
       "    </tr>\n",
       "    <tr>\n",
       "      <th>1</th>\n",
       "      <td>12.0</td>\n",
       "      <td>1.0</td>\n",
       "      <td>0.0</td>\n",
       "      <td>0.0</td>\n",
       "      <td>1.0</td>\n",
       "      <td>5.0</td>\n",
       "      <td>1.0</td>\n",
       "    </tr>\n",
       "    <tr>\n",
       "      <th>2</th>\n",
       "      <td>3.0</td>\n",
       "      <td>0.0</td>\n",
       "      <td>5.0</td>\n",
       "      <td>6.0</td>\n",
       "      <td>0.0</td>\n",
       "      <td>15.0</td>\n",
       "      <td>9.0</td>\n",
       "    </tr>\n",
       "    <tr>\n",
       "      <th>3</th>\n",
       "      <td>3.0</td>\n",
       "      <td>0.0</td>\n",
       "      <td>4.0</td>\n",
       "      <td>4.0</td>\n",
       "      <td>0.0</td>\n",
       "      <td>5.0</td>\n",
       "      <td>6.0</td>\n",
       "    </tr>\n",
       "    <tr>\n",
       "      <th>4</th>\n",
       "      <td>9.0</td>\n",
       "      <td>1.0</td>\n",
       "      <td>1.0</td>\n",
       "      <td>2.0</td>\n",
       "      <td>1.0</td>\n",
       "      <td>1.0</td>\n",
       "      <td>1.0</td>\n",
       "    </tr>\n",
       "    <tr>\n",
       "      <th>5</th>\n",
       "      <td>2.0</td>\n",
       "      <td>0.0</td>\n",
       "      <td>5.0</td>\n",
       "      <td>3.0</td>\n",
       "      <td>0.0</td>\n",
       "      <td>10.0</td>\n",
       "      <td>4.0</td>\n",
       "    </tr>\n",
       "  </tbody>\n",
       "</table>\n",
       "</div>"
      ],
      "text/plain": [
       "   Time_spent_Alone  Stage_fear  Social_event_attendance  Going_outside  \\\n",
       "0               3.0         0.0                      7.0            4.0   \n",
       "1              12.0         1.0                      0.0            0.0   \n",
       "2               3.0         0.0                      5.0            6.0   \n",
       "3               3.0         0.0                      4.0            4.0   \n",
       "4               9.0         1.0                      1.0            2.0   \n",
       "5               2.0         0.0                      5.0            3.0   \n",
       "\n",
       "   Drained_after_socializing  Friends_circle_size  Post_frequency  \n",
       "0                        0.0                  6.0            11.0  \n",
       "1                        1.0                  5.0             1.0  \n",
       "2                        0.0                 15.0             9.0  \n",
       "3                        0.0                  5.0             6.0  \n",
       "4                        1.0                  1.0             1.0  \n",
       "5                        0.0                 10.0             4.0  "
      ]
     },
     "metadata": {},
     "output_type": "display_data"
    }
   ],
   "source": [
    "train_df = pd.read_csv(\"../data/train.csv\").drop([\"id\"], axis=1)\n",
    "sub_df = pd.read_csv(\"../data/test.csv\").drop([\"id\"], axis=1)\n",
    "print(\"Raw Train DataFrame:\")\n",
    "display(train_df.head(6))\n",
    "print(\"Raw Sub DataFrame:\")\n",
    "display(sub_df.head(6))\n",
    "\n",
    "imputer = SimpleImputer(strategy=\"mean\")\n",
    "le = LabelEncoder()\n",
    "\n",
    "for df in [train_df, sub_df]:\n",
    "\tfor feature in df.columns:\n",
    "\t\tif feature == \"Stage_fear\" or feature == \"Drained_after_socializing\":\n",
    "\t\t\tdf[feature] = df[feature].map({\"No\": 0, \"Yes\": 1})\n",
    "\t\t\tdf[feature] = imputer.fit_transform(df[[feature]]).flatten()\n",
    "\t\telse:\n",
    "\t\t\tdf[feature] = le.fit_transform(df[feature])\n",
    "\t\tdf[feature] = imputer.fit_transform(df[[feature]]).flatten()\n",
    "\n",
    "print(\"Cleaned Train DataFrame:\")\n",
    "display(train_df.head(6))\n",
    "print(\"Cleaned Test DataFrame:\")\n",
    "display(sub_df.head(6))"
   ]
  },
  {
   "cell_type": "code",
   "execution_count": 23,
   "id": "9a834cda",
   "metadata": {},
   "outputs": [
    {
     "name": "stdout",
     "output_type": "stream",
     "text": [
      "X_train:\n"
     ]
    },
    {
     "data": {
      "application/vnd.microsoft.datawrangler.viewer.v0+json": {
       "columns": [
        {
         "name": "index",
         "rawType": "int64",
         "type": "integer"
        },
        {
         "name": "Time_spent_Alone",
         "rawType": "float64",
         "type": "float"
        },
        {
         "name": "Stage_fear",
         "rawType": "float64",
         "type": "float"
        },
        {
         "name": "Social_event_attendance",
         "rawType": "float64",
         "type": "float"
        },
        {
         "name": "Going_outside",
         "rawType": "float64",
         "type": "float"
        },
        {
         "name": "Drained_after_socializing",
         "rawType": "float64",
         "type": "float"
        },
        {
         "name": "Friends_circle_size",
         "rawType": "float64",
         "type": "float"
        },
        {
         "name": "Post_frequency",
         "rawType": "float64",
         "type": "float"
        }
       ],
       "ref": "74ec2475-1ab7-4c5a-82a6-39314ab7858b",
       "rows": [
        [
         "1799",
         "1.0",
         "0.241837532319163",
         "7.0",
         "4.0",
         "0.0",
         "10.0",
         "5.0"
        ],
        [
         "11931",
         "2.0",
         "0.0",
         "4.0",
         "6.0",
         "0.0",
         "6.0",
         "8.0"
        ],
        [
         "14307",
         "4.0",
         "0.0",
         "5.0",
         "5.0",
         "0.0",
         "7.0",
         "6.0"
        ],
        [
         "12157",
         "3.0",
         "0.0",
         "6.0",
         "8.0",
         "0.0",
         "8.0",
         "8.0"
        ],
        [
         "18124",
         "2.0",
         "0.0",
         "7.0",
         "7.0",
         "0.0",
         "15.0",
         "4.0"
        ],
        [
         "8639",
         "11.0",
         "0.241837532319163",
         "0.0",
         "1.0",
         "1.0",
         "0.0",
         "2.0"
        ],
        [
         "11304",
         "2.0",
         "0.0",
         "8.0",
         "3.0",
         "0.0",
         "5.0",
         "5.0"
        ],
        [
         "14707",
         "1.0",
         "0.241837532319163",
         "4.0",
         "6.0",
         "0.0",
         "7.0",
         "6.0"
        ],
        [
         "11527",
         "3.0",
         "0.0",
         "9.0",
         "5.0",
         "0.0",
         "5.0",
         "7.0"
        ],
        [
         "2034",
         "1.0",
         "0.241837532319163",
         "7.0",
         "5.0",
         "0.0",
         "12.0",
         "5.0"
        ],
        [
         "9156",
         "7.0",
         "1.0",
         "11.0",
         "2.0",
         "1.0",
         "0.0",
         "1.0"
        ],
        [
         "9084",
         "1.0",
         "0.241837532319163",
         "9.0",
         "3.0",
         "0.0",
         "5.0",
         "5.0"
        ],
        [
         "18359",
         "2.0",
         "0.0",
         "5.0",
         "6.0",
         "0.0",
         "10.0",
         "5.0"
        ],
        [
         "13458",
         "0.0",
         "0.0",
         "8.0",
         "7.0",
         "0.0",
         "15.0",
         "6.0"
        ],
        [
         "15500",
         "2.0",
         "0.0",
         "9.0",
         "5.0",
         "0.0",
         "14.0",
         "7.0"
        ],
        [
         "3886",
         "2.0",
         "0.0",
         "8.0",
         "6.0",
         "0.0",
         "3.0",
         "8.0"
        ],
        [
         "13787",
         "5.0",
         "0.0",
         "6.0",
         "4.0",
         "0.0",
         "15.0",
         "3.0"
        ],
        [
         "3441",
         "0.0",
         "0.0",
         "8.0",
         "4.0",
         "0.0",
         "5.0",
         "10.0"
        ],
        [
         "16714",
         "3.0",
         "0.0",
         "4.0",
         "3.0",
         "0.0",
         "11.0",
         "6.0"
        ],
        [
         "1430",
         "1.0",
         "0.0",
         "4.0",
         "5.0",
         "0.0",
         "10.0",
         "7.0"
        ],
        [
         "13172",
         "12.0",
         "0.0",
         "10.0",
         "6.0",
         "0.0",
         "15.0",
         "8.0"
        ],
        [
         "11974",
         "5.0",
         "1.0",
         "0.0",
         "1.0",
         "1.0",
         "16.0",
         "2.0"
        ],
        [
         "10384",
         "0.0",
         "0.0",
         "5.0",
         "8.0",
         "0.0",
         "9.0",
         "8.0"
        ],
        [
         "11597",
         "5.0",
         "1.0",
         "2.0",
         "3.0",
         "1.0",
         "1.0",
         "2.0"
        ],
        [
         "12217",
         "3.0",
         "0.0",
         "3.0",
         "4.0",
         "0.0",
         "5.0",
         "5.0"
        ],
        [
         "9234",
         "10.0",
         "1.0",
         "1.0",
         "1.0",
         "1.0",
         "1.0",
         "0.0"
        ],
        [
         "5502",
         "6.0",
         "1.0",
         "2.0",
         "3.0",
         "1.0",
         "0.0",
         "1.0"
        ],
        [
         "12224",
         "12.0",
         "0.0",
         "11.0",
         "3.0",
         "0.0",
         "12.0",
         "8.0"
        ],
        [
         "5458",
         "2.0",
         "0.0",
         "7.0",
         "3.0",
         "0.0",
         "14.0",
         "3.0"
        ],
        [
         "7712",
         "3.0",
         "0.0",
         "9.0",
         "5.0",
         "0.0",
         "9.0",
         "4.0"
        ],
        [
         "7315",
         "4.0",
         "1.0",
         "3.0",
         "0.0",
         "1.0",
         "2.0",
         "3.0"
        ],
        [
         "15965",
         "12.0",
         "1.0",
         "11.0",
         "1.0",
         "1.0",
         "5.0",
         "2.0"
        ],
        [
         "13436",
         "3.0",
         "0.0",
         "5.0",
         "3.0",
         "0.0",
         "4.0",
         "7.0"
        ],
        [
         "5561",
         "8.0",
         "1.0",
         "3.0",
         "3.0",
         "1.0",
         "1.0",
         "2.0"
        ],
        [
         "15537",
         "9.0",
         "1.0",
         "5.0",
         "3.0",
         "1.0",
         "5.0",
         "3.0"
        ],
        [
         "17315",
         "3.0",
         "0.0",
         "3.0",
         "6.0",
         "0.0",
         "4.0",
         "7.0"
        ],
        [
         "3260",
         "3.0",
         "0.0",
         "4.0",
         "3.0",
         "0.0",
         "5.0",
         "3.0"
        ],
        [
         "617",
         "3.0",
         "0.0",
         "6.0",
         "4.0",
         "0.0",
         "4.0",
         "6.0"
        ],
        [
         "11800",
         "8.0",
         "1.0",
         "7.0",
         "1.0",
         "1.0",
         "2.0",
         "2.0"
        ],
        [
         "7654",
         "2.0",
         "0.0",
         "8.0",
         "6.0",
         "0.0",
         "5.0",
         "9.0"
        ],
        [
         "7506",
         "1.0",
         "0.0",
         "8.0",
         "8.0",
         "0.0",
         "9.0",
         "7.0"
        ],
        [
         "13332",
         "5.0",
         "0.241837532319163",
         "3.0",
         "0.0",
         "1.0",
         "16.0",
         "1.0"
        ],
        [
         "12758",
         "3.0",
         "0.0",
         "9.0",
         "7.0",
         "0.0",
         "15.0",
         "11.0"
        ],
        [
         "8794",
         "2.0",
         "0.0",
         "7.0",
         "5.0",
         "0.0",
         "12.0",
         "5.0"
        ],
        [
         "12119",
         "4.0",
         "0.0",
         "6.0",
         "7.0",
         "0.0",
         "4.0",
         "9.0"
        ],
        [
         "4754",
         "1.0",
         "0.0",
         "9.0",
         "4.0",
         "0.0",
         "6.0",
         "9.0"
        ],
        [
         "2840",
         "2.0",
         "0.0",
         "6.0",
         "8.0",
         "0.0",
         "13.0",
         "3.0"
        ],
        [
         "14563",
         "3.0",
         "0.0",
         "6.0",
         "8.0",
         "0.0",
         "8.0",
         "4.0"
        ],
        [
         "3341",
         "0.0",
         "0.0",
         "4.0",
         "3.0",
         "0.0",
         "8.0",
         "6.0"
        ],
        [
         "14235",
         "2.0",
         "0.0",
         "11.0",
         "3.0",
         "0.0",
         "9.0",
         "5.0"
        ]
       ],
       "shape": {
        "columns": 7,
        "rows": 14819
       }
      },
      "text/html": [
       "<div>\n",
       "<style scoped>\n",
       "    .dataframe tbody tr th:only-of-type {\n",
       "        vertical-align: middle;\n",
       "    }\n",
       "\n",
       "    .dataframe tbody tr th {\n",
       "        vertical-align: top;\n",
       "    }\n",
       "\n",
       "    .dataframe thead th {\n",
       "        text-align: right;\n",
       "    }\n",
       "</style>\n",
       "<table border=\"1\" class=\"dataframe\">\n",
       "  <thead>\n",
       "    <tr style=\"text-align: right;\">\n",
       "      <th></th>\n",
       "      <th>Time_spent_Alone</th>\n",
       "      <th>Stage_fear</th>\n",
       "      <th>Social_event_attendance</th>\n",
       "      <th>Going_outside</th>\n",
       "      <th>Drained_after_socializing</th>\n",
       "      <th>Friends_circle_size</th>\n",
       "      <th>Post_frequency</th>\n",
       "    </tr>\n",
       "  </thead>\n",
       "  <tbody>\n",
       "    <tr>\n",
       "      <th>1799</th>\n",
       "      <td>1.0</td>\n",
       "      <td>0.241838</td>\n",
       "      <td>7.0</td>\n",
       "      <td>4.0</td>\n",
       "      <td>0.0</td>\n",
       "      <td>10.0</td>\n",
       "      <td>5.0</td>\n",
       "    </tr>\n",
       "    <tr>\n",
       "      <th>11931</th>\n",
       "      <td>2.0</td>\n",
       "      <td>0.000000</td>\n",
       "      <td>4.0</td>\n",
       "      <td>6.0</td>\n",
       "      <td>0.0</td>\n",
       "      <td>6.0</td>\n",
       "      <td>8.0</td>\n",
       "    </tr>\n",
       "    <tr>\n",
       "      <th>14307</th>\n",
       "      <td>4.0</td>\n",
       "      <td>0.000000</td>\n",
       "      <td>5.0</td>\n",
       "      <td>5.0</td>\n",
       "      <td>0.0</td>\n",
       "      <td>7.0</td>\n",
       "      <td>6.0</td>\n",
       "    </tr>\n",
       "    <tr>\n",
       "      <th>12157</th>\n",
       "      <td>3.0</td>\n",
       "      <td>0.000000</td>\n",
       "      <td>6.0</td>\n",
       "      <td>8.0</td>\n",
       "      <td>0.0</td>\n",
       "      <td>8.0</td>\n",
       "      <td>8.0</td>\n",
       "    </tr>\n",
       "    <tr>\n",
       "      <th>18124</th>\n",
       "      <td>2.0</td>\n",
       "      <td>0.000000</td>\n",
       "      <td>7.0</td>\n",
       "      <td>7.0</td>\n",
       "      <td>0.0</td>\n",
       "      <td>15.0</td>\n",
       "      <td>4.0</td>\n",
       "    </tr>\n",
       "    <tr>\n",
       "      <th>...</th>\n",
       "      <td>...</td>\n",
       "      <td>...</td>\n",
       "      <td>...</td>\n",
       "      <td>...</td>\n",
       "      <td>...</td>\n",
       "      <td>...</td>\n",
       "      <td>...</td>\n",
       "    </tr>\n",
       "    <tr>\n",
       "      <th>11284</th>\n",
       "      <td>9.0</td>\n",
       "      <td>0.241838</td>\n",
       "      <td>1.0</td>\n",
       "      <td>3.0</td>\n",
       "      <td>1.0</td>\n",
       "      <td>5.0</td>\n",
       "      <td>3.0</td>\n",
       "    </tr>\n",
       "    <tr>\n",
       "      <th>11964</th>\n",
       "      <td>3.0</td>\n",
       "      <td>0.000000</td>\n",
       "      <td>6.0</td>\n",
       "      <td>6.0</td>\n",
       "      <td>0.0</td>\n",
       "      <td>16.0</td>\n",
       "      <td>3.0</td>\n",
       "    </tr>\n",
       "    <tr>\n",
       "      <th>5390</th>\n",
       "      <td>3.0</td>\n",
       "      <td>0.241838</td>\n",
       "      <td>7.0</td>\n",
       "      <td>3.0</td>\n",
       "      <td>0.0</td>\n",
       "      <td>14.0</td>\n",
       "      <td>8.0</td>\n",
       "    </tr>\n",
       "    <tr>\n",
       "      <th>860</th>\n",
       "      <td>3.0</td>\n",
       "      <td>0.000000</td>\n",
       "      <td>4.0</td>\n",
       "      <td>8.0</td>\n",
       "      <td>0.0</td>\n",
       "      <td>9.0</td>\n",
       "      <td>9.0</td>\n",
       "    </tr>\n",
       "    <tr>\n",
       "      <th>15795</th>\n",
       "      <td>0.0</td>\n",
       "      <td>0.000000</td>\n",
       "      <td>3.0</td>\n",
       "      <td>5.0</td>\n",
       "      <td>0.0</td>\n",
       "      <td>14.0</td>\n",
       "      <td>6.0</td>\n",
       "    </tr>\n",
       "  </tbody>\n",
       "</table>\n",
       "<p>14819 rows × 7 columns</p>\n",
       "</div>"
      ],
      "text/plain": [
       "       Time_spent_Alone  Stage_fear  Social_event_attendance  Going_outside  \\\n",
       "1799                1.0    0.241838                      7.0            4.0   \n",
       "11931               2.0    0.000000                      4.0            6.0   \n",
       "14307               4.0    0.000000                      5.0            5.0   \n",
       "12157               3.0    0.000000                      6.0            8.0   \n",
       "18124               2.0    0.000000                      7.0            7.0   \n",
       "...                 ...         ...                      ...            ...   \n",
       "11284               9.0    0.241838                      1.0            3.0   \n",
       "11964               3.0    0.000000                      6.0            6.0   \n",
       "5390                3.0    0.241838                      7.0            3.0   \n",
       "860                 3.0    0.000000                      4.0            8.0   \n",
       "15795               0.0    0.000000                      3.0            5.0   \n",
       "\n",
       "       Drained_after_socializing  Friends_circle_size  Post_frequency  \n",
       "1799                         0.0                 10.0             5.0  \n",
       "11931                        0.0                  6.0             8.0  \n",
       "14307                        0.0                  7.0             6.0  \n",
       "12157                        0.0                  8.0             8.0  \n",
       "18124                        0.0                 15.0             4.0  \n",
       "...                          ...                  ...             ...  \n",
       "11284                        1.0                  5.0             3.0  \n",
       "11964                        0.0                 16.0             3.0  \n",
       "5390                         0.0                 14.0             8.0  \n",
       "860                          0.0                  9.0             9.0  \n",
       "15795                        0.0                 14.0             6.0  \n",
       "\n",
       "[14819 rows x 7 columns]"
      ]
     },
     "metadata": {},
     "output_type": "display_data"
    },
    {
     "name": "stdout",
     "output_type": "stream",
     "text": [
      "X_test:\n"
     ]
    },
    {
     "data": {
      "application/vnd.microsoft.datawrangler.viewer.v0+json": {
       "columns": [
        {
         "name": "index",
         "rawType": "int64",
         "type": "integer"
        },
        {
         "name": "Time_spent_Alone",
         "rawType": "float64",
         "type": "float"
        },
        {
         "name": "Stage_fear",
         "rawType": "float64",
         "type": "float"
        },
        {
         "name": "Social_event_attendance",
         "rawType": "float64",
         "type": "float"
        },
        {
         "name": "Going_outside",
         "rawType": "float64",
         "type": "float"
        },
        {
         "name": "Drained_after_socializing",
         "rawType": "float64",
         "type": "float"
        },
        {
         "name": "Friends_circle_size",
         "rawType": "float64",
         "type": "float"
        },
        {
         "name": "Post_frequency",
         "rawType": "float64",
         "type": "float"
        }
       ],
       "ref": "96672743-18c5-4efd-9376-8a30f226dbe4",
       "rows": [
        [
         "13209",
         "12.0",
         "0.0",
         "9.0",
         "7.0",
         "0.0",
         "8.0",
         "5.0"
        ],
        [
         "2740",
         "0.0",
         "0.0",
         "9.0",
         "5.0",
         "0.0",
         "6.0",
         "4.0"
        ],
        [
         "10249",
         "3.0",
         "0.0",
         "8.0",
         "7.0",
         "0.0",
         "10.0",
         "10.0"
        ],
        [
         "7608",
         "1.0",
         "0.0",
         "7.0",
         "8.0",
         "0.0",
         "12.0",
         "4.0"
        ],
        [
         "10528",
         "0.0",
         "0.0",
         "6.0",
         "4.0",
         "0.0",
         "6.0",
         "10.0"
        ],
        [
         "10242",
         "1.0",
         "0.0",
         "4.0",
         "6.0",
         "0.23378417266187052",
         "14.0",
         "9.0"
        ],
        [
         "9162",
         "3.0",
         "0.0",
         "7.0",
         "7.0",
         "0.0",
         "8.0",
         "8.0"
        ],
        [
         "13113",
         "9.0",
         "1.0",
         "1.0",
         "3.0",
         "1.0",
         "4.0",
         "0.0"
        ],
        [
         "15335",
         "2.0",
         "0.0",
         "8.0",
         "6.0",
         "0.0",
         "14.0",
         "8.0"
        ],
        [
         "18196",
         "1.0",
         "0.0",
         "6.0",
         "6.0",
         "0.0",
         "14.0",
         "7.0"
        ],
        [
         "13371",
         "3.0",
         "0.241837532319163",
         "7.0",
         "5.0",
         "0.0",
         "7.0",
         "5.0"
        ],
        [
         "3353",
         "9.0",
         "1.0",
         "0.0",
         "2.0",
         "1.0",
         "4.0",
         "11.0"
        ],
        [
         "1182",
         "3.0",
         "0.0",
         "5.0",
         "7.0",
         "0.0",
         "10.0",
         "11.0"
        ],
        [
         "9270",
         "1.0",
         "0.0",
         "9.0",
         "5.0",
         "0.0",
         "11.0",
         "11.0"
        ],
        [
         "17376",
         "5.0",
         "0.241837532319163",
         "0.0",
         "2.0",
         "1.0",
         "2.0",
         "1.0"
        ],
        [
         "8694",
         "0.0",
         "0.0",
         "8.0",
         "5.0",
         "0.0",
         "13.0",
         "8.0"
        ],
        [
         "856",
         "9.0",
         "1.0",
         "2.0",
         "3.0",
         "1.0",
         "5.0",
         "1.0"
        ],
        [
         "705",
         "6.0",
         "1.0",
         "0.0",
         "1.0",
         "1.0",
         "16.0",
         "2.0"
        ],
        [
         "6451",
         "12.0",
         "0.0",
         "6.0",
         "4.0",
         "0.0",
         "11.0",
         "3.0"
        ],
        [
         "6624",
         "9.0",
         "1.0",
         "3.0",
         "1.0",
         "1.0",
         "16.0",
         "0.0"
        ],
        [
         "8591",
         "6.0",
         "1.0",
         "3.0",
         "0.0",
         "0.23378417266187052",
         "3.0",
         "1.0"
        ],
        [
         "16603",
         "4.0",
         "1.0",
         "0.0",
         "1.0",
         "1.0",
         "5.0",
         "2.0"
        ],
        [
         "15213",
         "4.0",
         "0.0",
         "10.0",
         "5.0",
         "0.0",
         "11.0",
         "6.0"
        ],
        [
         "2279",
         "3.0",
         "0.0",
         "5.0",
         "4.0",
         "0.0",
         "4.0",
         "8.0"
        ],
        [
         "14066",
         "1.0",
         "0.0",
         "6.0",
         "6.0",
         "0.0",
         "10.0",
         "6.0"
        ],
        [
         "8965",
         "1.0",
         "0.0",
         "4.0",
         "3.0",
         "0.0",
         "7.0",
         "7.0"
        ],
        [
         "1157",
         "3.0",
         "0.0",
         "7.0",
         "5.0",
         "0.0",
         "14.0",
         "6.0"
        ],
        [
         "1163",
         "2.0",
         "0.0",
         "3.0",
         "5.0",
         "0.0",
         "14.0",
         "4.0"
        ],
        [
         "273",
         "1.0",
         "0.0",
         "5.0",
         "3.0",
         "0.0",
         "4.0",
         "7.0"
        ],
        [
         "16491",
         "3.0",
         "0.0",
         "8.0",
         "4.0",
         "0.0",
         "13.0",
         "4.0"
        ],
        [
         "6323",
         "9.0",
         "0.241837532319163",
         "3.0",
         "0.0",
         "1.0",
         "0.0",
         "0.0"
        ],
        [
         "3572",
         "2.0",
         "0.0",
         "4.0",
         "6.0",
         "0.0",
         "14.0",
         "9.0"
        ],
        [
         "3507",
         "1.0",
         "0.0",
         "8.0",
         "6.0",
         "0.0",
         "13.0",
         "5.0"
        ],
        [
         "11581",
         "5.0",
         "1.0",
         "2.0",
         "0.0",
         "1.0",
         "16.0",
         "11.0"
        ],
        [
         "13546",
         "1.0",
         "0.0",
         "8.0",
         "5.0",
         "0.0",
         "4.0",
         "5.0"
        ],
        [
         "18034",
         "9.0",
         "0.241837532319163",
         "0.0",
         "3.0",
         "1.0",
         "2.0",
         "2.0"
        ],
        [
         "8753",
         "6.0",
         "1.0",
         "11.0",
         "1.0",
         "1.0",
         "2.0",
         "0.0"
        ],
        [
         "4032",
         "1.0",
         "0.241837532319163",
         "6.0",
         "5.0",
         "0.0",
         "7.0",
         "6.0"
        ],
        [
         "15288",
         "2.0",
         "0.0",
         "5.0",
         "4.0",
         "0.0",
         "4.0",
         "6.0"
        ],
        [
         "6877",
         "2.0",
         "0.0",
         "5.0",
         "3.0",
         "0.0",
         "5.0",
         "5.0"
        ],
        [
         "14181",
         "1.0",
         "0.0",
         "8.0",
         "5.0",
         "0.0",
         "4.0",
         "6.0"
        ],
        [
         "16122",
         "0.0",
         "0.0",
         "5.0",
         "5.0",
         "0.0",
         "16.0",
         "9.0"
        ],
        [
         "11015",
         "0.0",
         "0.241837532319163",
         "6.0",
         "5.0",
         "0.0",
         "10.0",
         "7.0"
        ],
        [
         "4153",
         "2.0",
         "0.0",
         "5.0",
         "3.0",
         "0.0",
         "6.0",
         "6.0"
        ],
        [
         "2697",
         "0.0",
         "0.0",
         "3.0",
         "6.0",
         "0.0",
         "7.0",
         "7.0"
        ],
        [
         "16064",
         "11.0",
         "1.0",
         "2.0",
         "0.0",
         "1.0",
         "3.0",
         "11.0"
        ],
        [
         "18208",
         "1.0",
         "0.0",
         "8.0",
         "5.0",
         "0.0",
         "10.0",
         "6.0"
        ],
        [
         "251",
         "1.0",
         "0.0",
         "7.0",
         "6.0",
         "0.0",
         "5.0",
         "3.0"
        ],
        [
         "7771",
         "7.0",
         "1.0",
         "3.0",
         "1.0",
         "1.0",
         "4.0",
         "2.0"
        ],
        [
         "5863",
         "2.0",
         "0.0",
         "9.0",
         "4.0",
         "0.0",
         "11.0",
         "8.0"
        ]
       ],
       "shape": {
        "columns": 7,
        "rows": 3705
       }
      },
      "text/html": [
       "<div>\n",
       "<style scoped>\n",
       "    .dataframe tbody tr th:only-of-type {\n",
       "        vertical-align: middle;\n",
       "    }\n",
       "\n",
       "    .dataframe tbody tr th {\n",
       "        vertical-align: top;\n",
       "    }\n",
       "\n",
       "    .dataframe thead th {\n",
       "        text-align: right;\n",
       "    }\n",
       "</style>\n",
       "<table border=\"1\" class=\"dataframe\">\n",
       "  <thead>\n",
       "    <tr style=\"text-align: right;\">\n",
       "      <th></th>\n",
       "      <th>Time_spent_Alone</th>\n",
       "      <th>Stage_fear</th>\n",
       "      <th>Social_event_attendance</th>\n",
       "      <th>Going_outside</th>\n",
       "      <th>Drained_after_socializing</th>\n",
       "      <th>Friends_circle_size</th>\n",
       "      <th>Post_frequency</th>\n",
       "    </tr>\n",
       "  </thead>\n",
       "  <tbody>\n",
       "    <tr>\n",
       "      <th>13209</th>\n",
       "      <td>12.0</td>\n",
       "      <td>0.0</td>\n",
       "      <td>9.0</td>\n",
       "      <td>7.0</td>\n",
       "      <td>0.000000</td>\n",
       "      <td>8.0</td>\n",
       "      <td>5.0</td>\n",
       "    </tr>\n",
       "    <tr>\n",
       "      <th>2740</th>\n",
       "      <td>0.0</td>\n",
       "      <td>0.0</td>\n",
       "      <td>9.0</td>\n",
       "      <td>5.0</td>\n",
       "      <td>0.000000</td>\n",
       "      <td>6.0</td>\n",
       "      <td>4.0</td>\n",
       "    </tr>\n",
       "    <tr>\n",
       "      <th>10249</th>\n",
       "      <td>3.0</td>\n",
       "      <td>0.0</td>\n",
       "      <td>8.0</td>\n",
       "      <td>7.0</td>\n",
       "      <td>0.000000</td>\n",
       "      <td>10.0</td>\n",
       "      <td>10.0</td>\n",
       "    </tr>\n",
       "    <tr>\n",
       "      <th>7608</th>\n",
       "      <td>1.0</td>\n",
       "      <td>0.0</td>\n",
       "      <td>7.0</td>\n",
       "      <td>8.0</td>\n",
       "      <td>0.000000</td>\n",
       "      <td>12.0</td>\n",
       "      <td>4.0</td>\n",
       "    </tr>\n",
       "    <tr>\n",
       "      <th>10528</th>\n",
       "      <td>0.0</td>\n",
       "      <td>0.0</td>\n",
       "      <td>6.0</td>\n",
       "      <td>4.0</td>\n",
       "      <td>0.000000</td>\n",
       "      <td>6.0</td>\n",
       "      <td>10.0</td>\n",
       "    </tr>\n",
       "    <tr>\n",
       "      <th>...</th>\n",
       "      <td>...</td>\n",
       "      <td>...</td>\n",
       "      <td>...</td>\n",
       "      <td>...</td>\n",
       "      <td>...</td>\n",
       "      <td>...</td>\n",
       "      <td>...</td>\n",
       "    </tr>\n",
       "    <tr>\n",
       "      <th>3269</th>\n",
       "      <td>0.0</td>\n",
       "      <td>0.0</td>\n",
       "      <td>8.0</td>\n",
       "      <td>3.0</td>\n",
       "      <td>0.000000</td>\n",
       "      <td>7.0</td>\n",
       "      <td>7.0</td>\n",
       "    </tr>\n",
       "    <tr>\n",
       "      <th>15214</th>\n",
       "      <td>11.0</td>\n",
       "      <td>1.0</td>\n",
       "      <td>2.0</td>\n",
       "      <td>0.0</td>\n",
       "      <td>0.233784</td>\n",
       "      <td>1.0</td>\n",
       "      <td>1.0</td>\n",
       "    </tr>\n",
       "    <tr>\n",
       "      <th>1127</th>\n",
       "      <td>1.0</td>\n",
       "      <td>0.0</td>\n",
       "      <td>4.0</td>\n",
       "      <td>5.0</td>\n",
       "      <td>0.000000</td>\n",
       "      <td>12.0</td>\n",
       "      <td>4.0</td>\n",
       "    </tr>\n",
       "    <tr>\n",
       "      <th>11368</th>\n",
       "      <td>0.0</td>\n",
       "      <td>0.0</td>\n",
       "      <td>4.0</td>\n",
       "      <td>6.0</td>\n",
       "      <td>0.000000</td>\n",
       "      <td>7.0</td>\n",
       "      <td>10.0</td>\n",
       "    </tr>\n",
       "    <tr>\n",
       "      <th>17737</th>\n",
       "      <td>1.0</td>\n",
       "      <td>0.0</td>\n",
       "      <td>11.0</td>\n",
       "      <td>4.0</td>\n",
       "      <td>0.000000</td>\n",
       "      <td>5.0</td>\n",
       "      <td>8.0</td>\n",
       "    </tr>\n",
       "  </tbody>\n",
       "</table>\n",
       "<p>3705 rows × 7 columns</p>\n",
       "</div>"
      ],
      "text/plain": [
       "       Time_spent_Alone  Stage_fear  Social_event_attendance  Going_outside  \\\n",
       "13209              12.0         0.0                      9.0            7.0   \n",
       "2740                0.0         0.0                      9.0            5.0   \n",
       "10249               3.0         0.0                      8.0            7.0   \n",
       "7608                1.0         0.0                      7.0            8.0   \n",
       "10528               0.0         0.0                      6.0            4.0   \n",
       "...                 ...         ...                      ...            ...   \n",
       "3269                0.0         0.0                      8.0            3.0   \n",
       "15214              11.0         1.0                      2.0            0.0   \n",
       "1127                1.0         0.0                      4.0            5.0   \n",
       "11368               0.0         0.0                      4.0            6.0   \n",
       "17737               1.0         0.0                     11.0            4.0   \n",
       "\n",
       "       Drained_after_socializing  Friends_circle_size  Post_frequency  \n",
       "13209                   0.000000                  8.0             5.0  \n",
       "2740                    0.000000                  6.0             4.0  \n",
       "10249                   0.000000                 10.0            10.0  \n",
       "7608                    0.000000                 12.0             4.0  \n",
       "10528                   0.000000                  6.0            10.0  \n",
       "...                          ...                  ...             ...  \n",
       "3269                    0.000000                  7.0             7.0  \n",
       "15214                   0.233784                  1.0             1.0  \n",
       "1127                    0.000000                 12.0             4.0  \n",
       "11368                   0.000000                  7.0            10.0  \n",
       "17737                   0.000000                  5.0             8.0  \n",
       "\n",
       "[3705 rows x 7 columns]"
      ]
     },
     "metadata": {},
     "output_type": "display_data"
    },
    {
     "name": "stdout",
     "output_type": "stream",
     "text": [
      "y_train:\n"
     ]
    },
    {
     "data": {
      "application/vnd.microsoft.datawrangler.viewer.v0+json": {
       "columns": [
        {
         "name": "index",
         "rawType": "int64",
         "type": "integer"
        },
        {
         "name": "Personality",
         "rawType": "float64",
         "type": "float"
        }
       ],
       "ref": "e2d0951e-d4d0-4dee-b711-8dc2e44ed034",
       "rows": [
        [
         "1799",
         "0.0"
        ],
        [
         "11931",
         "0.0"
        ],
        [
         "14307",
         "0.0"
        ],
        [
         "12157",
         "0.0"
        ],
        [
         "18124",
         "0.0"
        ],
        [
         "8639",
         "1.0"
        ],
        [
         "11304",
         "0.0"
        ],
        [
         "14707",
         "0.0"
        ],
        [
         "11527",
         "0.0"
        ],
        [
         "2034",
         "0.0"
        ],
        [
         "9156",
         "1.0"
        ],
        [
         "9084",
         "0.0"
        ],
        [
         "18359",
         "0.0"
        ],
        [
         "13458",
         "0.0"
        ],
        [
         "15500",
         "0.0"
        ],
        [
         "3886",
         "0.0"
        ],
        [
         "13787",
         "0.0"
        ],
        [
         "3441",
         "0.0"
        ],
        [
         "16714",
         "0.0"
        ],
        [
         "1430",
         "1.0"
        ],
        [
         "13172",
         "1.0"
        ],
        [
         "11974",
         "1.0"
        ],
        [
         "10384",
         "0.0"
        ],
        [
         "11597",
         "1.0"
        ],
        [
         "12217",
         "0.0"
        ],
        [
         "9234",
         "1.0"
        ],
        [
         "5502",
         "1.0"
        ],
        [
         "12224",
         "0.0"
        ],
        [
         "5458",
         "0.0"
        ],
        [
         "7712",
         "0.0"
        ],
        [
         "7315",
         "1.0"
        ],
        [
         "15965",
         "1.0"
        ],
        [
         "13436",
         "0.0"
        ],
        [
         "5561",
         "1.0"
        ],
        [
         "15537",
         "0.0"
        ],
        [
         "17315",
         "0.0"
        ],
        [
         "3260",
         "0.0"
        ],
        [
         "617",
         "0.0"
        ],
        [
         "11800",
         "1.0"
        ],
        [
         "7654",
         "0.0"
        ],
        [
         "7506",
         "0.0"
        ],
        [
         "13332",
         "1.0"
        ],
        [
         "12758",
         "0.0"
        ],
        [
         "8794",
         "0.0"
        ],
        [
         "12119",
         "0.0"
        ],
        [
         "4754",
         "0.0"
        ],
        [
         "2840",
         "0.0"
        ],
        [
         "14563",
         "0.0"
        ],
        [
         "3341",
         "0.0"
        ],
        [
         "14235",
         "0.0"
        ]
       ],
       "shape": {
        "columns": 1,
        "rows": 14819
       }
      },
      "text/plain": [
       "1799     0.0\n",
       "11931    0.0\n",
       "14307    0.0\n",
       "12157    0.0\n",
       "18124    0.0\n",
       "        ... \n",
       "11284    1.0\n",
       "11964    0.0\n",
       "5390     0.0\n",
       "860      0.0\n",
       "15795    0.0\n",
       "Name: Personality, Length: 14819, dtype: float64"
      ]
     },
     "metadata": {},
     "output_type": "display_data"
    },
    {
     "name": "stdout",
     "output_type": "stream",
     "text": [
      "y_test:\n"
     ]
    },
    {
     "data": {
      "application/vnd.microsoft.datawrangler.viewer.v0+json": {
       "columns": [
        {
         "name": "index",
         "rawType": "int64",
         "type": "integer"
        },
        {
         "name": "Personality",
         "rawType": "float64",
         "type": "float"
        }
       ],
       "ref": "6754d180-bd76-4107-995c-801fb03d5219",
       "rows": [
        [
         "13209",
         "0.0"
        ],
        [
         "2740",
         "0.0"
        ],
        [
         "10249",
         "0.0"
        ],
        [
         "7608",
         "0.0"
        ],
        [
         "10528",
         "0.0"
        ],
        [
         "10242",
         "0.0"
        ],
        [
         "9162",
         "0.0"
        ],
        [
         "13113",
         "1.0"
        ],
        [
         "15335",
         "0.0"
        ],
        [
         "18196",
         "0.0"
        ],
        [
         "13371",
         "0.0"
        ],
        [
         "3353",
         "1.0"
        ],
        [
         "1182",
         "0.0"
        ],
        [
         "9270",
         "0.0"
        ],
        [
         "17376",
         "1.0"
        ],
        [
         "8694",
         "0.0"
        ],
        [
         "856",
         "1.0"
        ],
        [
         "705",
         "1.0"
        ],
        [
         "6451",
         "0.0"
        ],
        [
         "6624",
         "1.0"
        ],
        [
         "8591",
         "1.0"
        ],
        [
         "16603",
         "1.0"
        ],
        [
         "15213",
         "0.0"
        ],
        [
         "2279",
         "0.0"
        ],
        [
         "14066",
         "0.0"
        ],
        [
         "8965",
         "0.0"
        ],
        [
         "1157",
         "0.0"
        ],
        [
         "1163",
         "0.0"
        ],
        [
         "273",
         "0.0"
        ],
        [
         "16491",
         "0.0"
        ],
        [
         "6323",
         "1.0"
        ],
        [
         "3572",
         "0.0"
        ],
        [
         "3507",
         "0.0"
        ],
        [
         "11581",
         "1.0"
        ],
        [
         "13546",
         "0.0"
        ],
        [
         "18034",
         "1.0"
        ],
        [
         "8753",
         "1.0"
        ],
        [
         "4032",
         "0.0"
        ],
        [
         "15288",
         "0.0"
        ],
        [
         "6877",
         "0.0"
        ],
        [
         "14181",
         "0.0"
        ],
        [
         "16122",
         "0.0"
        ],
        [
         "11015",
         "0.0"
        ],
        [
         "4153",
         "0.0"
        ],
        [
         "2697",
         "0.0"
        ],
        [
         "16064",
         "1.0"
        ],
        [
         "18208",
         "0.0"
        ],
        [
         "251",
         "0.0"
        ],
        [
         "7771",
         "1.0"
        ],
        [
         "5863",
         "0.0"
        ]
       ],
       "shape": {
        "columns": 1,
        "rows": 3705
       }
      },
      "text/plain": [
       "13209    0.0\n",
       "2740     0.0\n",
       "10249    0.0\n",
       "7608     0.0\n",
       "10528    0.0\n",
       "        ... \n",
       "3269     0.0\n",
       "15214    1.0\n",
       "1127     0.0\n",
       "11368    0.0\n",
       "17737    0.0\n",
       "Name: Personality, Length: 3705, dtype: float64"
      ]
     },
     "metadata": {},
     "output_type": "display_data"
    }
   ],
   "source": [
    "df = train_df\n",
    "X_train, X_test, y_train, y_test = train_test_split(\n",
    "    df.drop([\"Personality\"], axis=1),\n",
    "    df[\"Personality\"],\n",
    "    test_size=0.20,\n",
    "    random_state=42\n",
    ")\n",
    "\n",
    "print(\"X_train:\")\n",
    "display(X_train)\n",
    "print(\"X_test:\")\n",
    "display(X_test)\n",
    "print(\"y_train:\")\n",
    "display(y_train)\n",
    "print(\"y_test:\")\n",
    "display(y_test)"
   ]
  },
  {
   "cell_type": "code",
   "execution_count": 24,
   "id": "f0b2ab6a",
   "metadata": {},
   "outputs": [
    {
     "name": "stdout",
     "output_type": "stream",
     "text": [
      "              precision    recall  f1-score   support\n",
      "\n",
      "         0.0       0.98      0.98      0.98      2753\n",
      "         1.0       0.95      0.93      0.94       952\n",
      "\n",
      "    accuracy                           0.97      3705\n",
      "   macro avg       0.96      0.96      0.96      3705\n",
      "weighted avg       0.97      0.97      0.97      3705\n",
      "\n"
     ]
    }
   ],
   "source": [
    "baysian_model = GaussianNB()\n",
    "baysian_model.fit(X_train, y_train)\n",
    "pred = baysian_model.predict(X_test)\n",
    "baysian_f1 = f1_score(y_test, pred, average='weighted')\n",
    "print(classification_report(y_test, pred))"
   ]
  },
  {
   "cell_type": "code",
   "execution_count": 25,
   "id": "cd8ffc3b",
   "metadata": {},
   "outputs": [
    {
     "name": "stdout",
     "output_type": "stream",
     "text": [
      "              precision    recall  f1-score   support\n",
      "\n",
      "         0.0       0.98      0.98      0.98      2753\n",
      "         1.0       0.95      0.93      0.94       952\n",
      "\n",
      "    accuracy                           0.97      3705\n",
      "   macro avg       0.96      0.96      0.96      3705\n",
      "weighted avg       0.97      0.97      0.97      3705\n",
      "\n"
     ]
    }
   ],
   "source": [
    "SGD_model = SGDClassifier(\n",
    "    learning_rate=\"adaptive\",\n",
    "    eta0=0.01,\n",
    "    early_stopping=True,\n",
    "    n_iter_no_change=60,\n",
    "    verbose=False\n",
    ")\n",
    "SGD_model.fit(X_train, y_train)\n",
    "pred = SGD_model.predict(X_test)\n",
    "SGD_f1 = f1_score(y_test, pred, average='weighted')\n",
    "print(classification_report(y_test, pred))"
   ]
  },
  {
   "cell_type": "code",
   "execution_count": 26,
   "id": "0d665c05",
   "metadata": {},
   "outputs": [
    {
     "name": "stdout",
     "output_type": "stream",
     "text": [
      "              precision    recall  f1-score   support\n",
      "\n",
      "         0.0       0.97      0.98      0.98      2753\n",
      "         1.0       0.95      0.93      0.94       952\n",
      "\n",
      "    accuracy                           0.97      3705\n",
      "   macro avg       0.96      0.95      0.96      3705\n",
      "weighted avg       0.97      0.97      0.97      3705\n",
      "\n"
     ]
    }
   ],
   "source": [
    "random_forest_model = RandomForestClassifier()\n",
    "random_forest_model.fit(X_train, y_train)\n",
    "pred = random_forest_model.predict(X_test)\n",
    "random_forest_f1 = f1_score(y_test, pred, average='weighted')\n",
    "print(classification_report(y_test, pred))"
   ]
  },
  {
   "cell_type": "code",
   "execution_count": 27,
   "id": "28459622",
   "metadata": {},
   "outputs": [
    {
     "name": "stdout",
     "output_type": "stream",
     "text": [
      "              precision    recall  f1-score   support\n",
      "\n",
      "         0.0       0.98      0.98      0.98      2753\n",
      "         1.0       0.95      0.93      0.94       952\n",
      "\n",
      "    accuracy                           0.97      3705\n",
      "   macro avg       0.96      0.96      0.96      3705\n",
      "weighted avg       0.97      0.97      0.97      3705\n",
      "\n"
     ]
    }
   ],
   "source": [
    "MLP_model = MLPClassifier(\n",
    "    hidden_layer_sizes=(100, 100),\n",
    "    learning_rate=\"adaptive\",\n",
    "    early_stopping=True,\n",
    "    n_iter_no_change=20,\n",
    "    verbose=False\n",
    ")\n",
    "MLP_model.fit(X_train, y_train)\n",
    "pred = MLP_model.predict(X_test)\n",
    "MLP_f1 = f1_score(y_test, pred, average='weighted')\n",
    "print(classification_report(y_test, pred))"
   ]
  },
  {
   "cell_type": "code",
   "execution_count": 28,
   "id": "49115f69",
   "metadata": {},
   "outputs": [
    {
     "name": "stdout",
     "output_type": "stream",
     "text": [
      "Baysian F1: 0.9683274057098351\n",
      "SGD F1: 0.9683274057098351\n",
      "Random Forest F1: 0.9674980330879502\n",
      "MLP F1: 0.9686036517216703\n",
      "MLP Classifier better\n"
     ]
    }
   ],
   "source": [
    "print(\"Baysian F1:\", baysian_f1)\n",
    "print(\"SGD F1:\", SGD_f1)\n",
    "print(\"Random Forest F1:\", random_forest_f1)\n",
    "print(\"MLP F1:\", MLP_f1)\n",
    "\n",
    "if max(baysian_f1, SGD_f1, random_forest_f1, MLP_f1) == baysian_f1:\n",
    "    model = baysian_model\n",
    "    print(\"Baysian Classifier better\")\n",
    "if max(baysian_f1, SGD_f1, random_forest_f1, MLP_f1) == SGD_f1:\n",
    "    model = SGD_model\n",
    "    print(\"SGD Classifier better\")\n",
    "if max(baysian_f1, SGD_f1, random_forest_f1, MLP_f1) == random_forest_f1:\n",
    "    model = random_forest_model\n",
    "    print(\"Random Forest Classifier better\")\n",
    "if max(baysian_f1, SGD_f1, random_forest_f1, MLP_f1) == MLP_f1:\n",
    "    model = MLP_model\n",
    "    print(\"MLP Classifier better\")"
   ]
  },
  {
   "cell_type": "code",
   "execution_count": 29,
   "id": "3964fab7",
   "metadata": {},
   "outputs": [
    {
     "data": {
      "application/vnd.microsoft.datawrangler.viewer.v0+json": {
       "columns": [
        {
         "name": "index",
         "rawType": "int64",
         "type": "integer"
        },
        {
         "name": "id",
         "rawType": "int64",
         "type": "integer"
        },
        {
         "name": "Personality",
         "rawType": "object",
         "type": "string"
        }
       ],
       "ref": "09149c65-1b16-479a-a58c-ef9ee7f50126",
       "rows": [
        [
         "0",
         "18524",
         "Extrovert"
        ],
        [
         "1",
         "18525",
         "Introvert"
        ],
        [
         "2",
         "18526",
         "Extrovert"
        ],
        [
         "3",
         "18527",
         "Extrovert"
        ],
        [
         "4",
         "18528",
         "Introvert"
        ],
        [
         "5",
         "18529",
         "Extrovert"
        ],
        [
         "6",
         "18530",
         "Extrovert"
        ],
        [
         "7",
         "18531",
         "Introvert"
        ],
        [
         "8",
         "18532",
         "Extrovert"
        ],
        [
         "9",
         "18533",
         "Introvert"
        ],
        [
         "10",
         "18534",
         "Extrovert"
        ],
        [
         "11",
         "18535",
         "Extrovert"
        ],
        [
         "12",
         "18536",
         "Introvert"
        ],
        [
         "13",
         "18537",
         "Extrovert"
        ],
        [
         "14",
         "18538",
         "Introvert"
        ],
        [
         "15",
         "18539",
         "Extrovert"
        ],
        [
         "16",
         "18540",
         "Extrovert"
        ],
        [
         "17",
         "18541",
         "Extrovert"
        ],
        [
         "18",
         "18542",
         "Introvert"
        ],
        [
         "19",
         "18543",
         "Extrovert"
        ],
        [
         "20",
         "18544",
         "Introvert"
        ],
        [
         "21",
         "18545",
         "Introvert"
        ],
        [
         "22",
         "18546",
         "Extrovert"
        ],
        [
         "23",
         "18547",
         "Introvert"
        ],
        [
         "24",
         "18548",
         "Extrovert"
        ],
        [
         "25",
         "18549",
         "Extrovert"
        ],
        [
         "26",
         "18550",
         "Extrovert"
        ],
        [
         "27",
         "18551",
         "Extrovert"
        ],
        [
         "28",
         "18552",
         "Introvert"
        ],
        [
         "29",
         "18553",
         "Introvert"
        ],
        [
         "30",
         "18554",
         "Extrovert"
        ],
        [
         "31",
         "18555",
         "Extrovert"
        ],
        [
         "32",
         "18556",
         "Introvert"
        ],
        [
         "33",
         "18557",
         "Extrovert"
        ],
        [
         "34",
         "18558",
         "Extrovert"
        ],
        [
         "35",
         "18559",
         "Extrovert"
        ],
        [
         "36",
         "18560",
         "Extrovert"
        ],
        [
         "37",
         "18561",
         "Extrovert"
        ],
        [
         "38",
         "18562",
         "Extrovert"
        ],
        [
         "39",
         "18563",
         "Extrovert"
        ],
        [
         "40",
         "18564",
         "Introvert"
        ],
        [
         "41",
         "18565",
         "Introvert"
        ],
        [
         "42",
         "18566",
         "Introvert"
        ],
        [
         "43",
         "18567",
         "Introvert"
        ],
        [
         "44",
         "18568",
         "Extrovert"
        ],
        [
         "45",
         "18569",
         "Introvert"
        ],
        [
         "46",
         "18570",
         "Extrovert"
        ],
        [
         "47",
         "18571",
         "Introvert"
        ],
        [
         "48",
         "18572",
         "Extrovert"
        ],
        [
         "49",
         "18573",
         "Extrovert"
        ]
       ],
       "shape": {
        "columns": 2,
        "rows": 6175
       }
      },
      "text/html": [
       "<div>\n",
       "<style scoped>\n",
       "    .dataframe tbody tr th:only-of-type {\n",
       "        vertical-align: middle;\n",
       "    }\n",
       "\n",
       "    .dataframe tbody tr th {\n",
       "        vertical-align: top;\n",
       "    }\n",
       "\n",
       "    .dataframe thead th {\n",
       "        text-align: right;\n",
       "    }\n",
       "</style>\n",
       "<table border=\"1\" class=\"dataframe\">\n",
       "  <thead>\n",
       "    <tr style=\"text-align: right;\">\n",
       "      <th></th>\n",
       "      <th>id</th>\n",
       "      <th>Personality</th>\n",
       "    </tr>\n",
       "  </thead>\n",
       "  <tbody>\n",
       "    <tr>\n",
       "      <th>0</th>\n",
       "      <td>18524</td>\n",
       "      <td>Extrovert</td>\n",
       "    </tr>\n",
       "    <tr>\n",
       "      <th>1</th>\n",
       "      <td>18525</td>\n",
       "      <td>Introvert</td>\n",
       "    </tr>\n",
       "    <tr>\n",
       "      <th>2</th>\n",
       "      <td>18526</td>\n",
       "      <td>Extrovert</td>\n",
       "    </tr>\n",
       "    <tr>\n",
       "      <th>3</th>\n",
       "      <td>18527</td>\n",
       "      <td>Extrovert</td>\n",
       "    </tr>\n",
       "    <tr>\n",
       "      <th>4</th>\n",
       "      <td>18528</td>\n",
       "      <td>Introvert</td>\n",
       "    </tr>\n",
       "    <tr>\n",
       "      <th>...</th>\n",
       "      <td>...</td>\n",
       "      <td>...</td>\n",
       "    </tr>\n",
       "    <tr>\n",
       "      <th>6170</th>\n",
       "      <td>24694</td>\n",
       "      <td>Extrovert</td>\n",
       "    </tr>\n",
       "    <tr>\n",
       "      <th>6171</th>\n",
       "      <td>24695</td>\n",
       "      <td>Introvert</td>\n",
       "    </tr>\n",
       "    <tr>\n",
       "      <th>6172</th>\n",
       "      <td>24696</td>\n",
       "      <td>Extrovert</td>\n",
       "    </tr>\n",
       "    <tr>\n",
       "      <th>6173</th>\n",
       "      <td>24697</td>\n",
       "      <td>Extrovert</td>\n",
       "    </tr>\n",
       "    <tr>\n",
       "      <th>6174</th>\n",
       "      <td>24698</td>\n",
       "      <td>Introvert</td>\n",
       "    </tr>\n",
       "  </tbody>\n",
       "</table>\n",
       "<p>6175 rows × 2 columns</p>\n",
       "</div>"
      ],
      "text/plain": [
       "         id Personality\n",
       "0     18524   Extrovert\n",
       "1     18525   Introvert\n",
       "2     18526   Extrovert\n",
       "3     18527   Extrovert\n",
       "4     18528   Introvert\n",
       "...     ...         ...\n",
       "6170  24694   Extrovert\n",
       "6171  24695   Introvert\n",
       "6172  24696   Extrovert\n",
       "6173  24697   Extrovert\n",
       "6174  24698   Introvert\n",
       "\n",
       "[6175 rows x 2 columns]"
      ]
     },
     "metadata": {},
     "output_type": "display_data"
    }
   ],
   "source": [
    "sub_pred = model.predict(sub_df)\n",
    "sub_pred = pd.Series(sub_pred).map({0: \"Extrovert\", 1: \"Introvert\"})\n",
    "sub_ids = pd.read_csv(\"../data/test.csv\")[\"id\"]\n",
    "submission = pd.DataFrame({\"id\": sub_ids, \"Personality\": sub_pred})\n",
    "display(submission)\n",
    "submission.to_csv(\"../data/submission.csv\", index=False)"
   ]
  },
  {
   "cell_type": "code",
   "execution_count": null,
   "id": "21cbe769",
   "metadata": {},
   "outputs": [],
   "source": []
  }
 ],
 "metadata": {
  "kernelspec": {
   "display_name": "Python 3",
   "language": "python",
   "name": "python3"
  },
  "language_info": {
   "codemirror_mode": {
    "name": "ipython",
    "version": 3
   },
   "file_extension": ".py",
   "mimetype": "text/x-python",
   "name": "python",
   "nbconvert_exporter": "python",
   "pygments_lexer": "ipython3",
   "version": "3.13.5"
  }
 },
 "nbformat": 4,
 "nbformat_minor": 5
}
