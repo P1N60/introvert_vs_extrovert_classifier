{
 "cells": [
  {
   "cell_type": "code",
   "execution_count": 79,
   "id": "664df541",
   "metadata": {},
   "outputs": [],
   "source": [
    "import pandas as pd\n",
    "from sklearn.model_selection import train_test_split\n",
    "from sklearn.naive_bayes import GaussianNB\n",
    "from sklearn.preprocessing import LabelEncoder\n",
    "from sklearn.metrics import f1_score, classification_report\n",
    "from sklearn.impute import SimpleImputer\n",
    "from sklearn.neural_network import MLPClassifier"
   ]
  },
  {
   "cell_type": "code",
   "execution_count": 80,
   "id": "cd0ec8f7",
   "metadata": {},
   "outputs": [
    {
     "name": "stdout",
     "output_type": "stream",
     "text": [
      "Raw DataFrame:\n"
     ]
    },
    {
     "data": {
      "application/vnd.microsoft.datawrangler.viewer.v0+json": {
       "columns": [
        {
         "name": "index",
         "rawType": "int64",
         "type": "integer"
        },
        {
         "name": "id",
         "rawType": "int64",
         "type": "integer"
        },
        {
         "name": "Time_spent_Alone",
         "rawType": "float64",
         "type": "float"
        },
        {
         "name": "Stage_fear",
         "rawType": "object",
         "type": "unknown"
        },
        {
         "name": "Social_event_attendance",
         "rawType": "float64",
         "type": "float"
        },
        {
         "name": "Going_outside",
         "rawType": "float64",
         "type": "float"
        },
        {
         "name": "Drained_after_socializing",
         "rawType": "object",
         "type": "unknown"
        },
        {
         "name": "Friends_circle_size",
         "rawType": "float64",
         "type": "float"
        },
        {
         "name": "Post_frequency",
         "rawType": "float64",
         "type": "float"
        },
        {
         "name": "Personality",
         "rawType": "object",
         "type": "string"
        }
       ],
       "ref": "c6e422df-05f3-42a4-ae84-78552aeceab4",
       "rows": [
        [
         "0",
         "0",
         "0.0",
         "No",
         "6.0",
         "4.0",
         "No",
         "15.0",
         "5.0",
         "Extrovert"
        ],
        [
         "1",
         "1",
         "1.0",
         "No",
         "7.0",
         "3.0",
         "No",
         "10.0",
         "8.0",
         "Extrovert"
        ],
        [
         "2",
         "2",
         "6.0",
         "Yes",
         "1.0",
         "0.0",
         null,
         "3.0",
         "0.0",
         "Introvert"
        ],
        [
         "3",
         "3",
         "3.0",
         "No",
         "7.0",
         "3.0",
         "No",
         "11.0",
         "5.0",
         "Extrovert"
        ],
        [
         "4",
         "4",
         "1.0",
         "No",
         "4.0",
         "4.0",
         "No",
         "13.0",
         null,
         "Extrovert"
        ],
        [
         "5",
         "5",
         "2.0",
         "No",
         "8.0",
         "5.0",
         "No",
         null,
         "3.0",
         "Extrovert"
        ],
        [
         "6",
         "6",
         "1.0",
         "No",
         "8.0",
         null,
         "No",
         null,
         "4.0",
         "Extrovert"
        ],
        [
         "7",
         "7",
         "2.0",
         "No",
         "8.0",
         "3.0",
         "No",
         "4.0",
         "5.0",
         "Extrovert"
        ],
        [
         "8",
         "8",
         "4.0",
         "Yes",
         "2.0",
         "1.0",
         null,
         "0.0",
         "2.0",
         "Introvert"
        ],
        [
         "9",
         "9",
         "1.0",
         "No",
         "8.0",
         "6.0",
         "No",
         "14.0",
         "9.0",
         "Extrovert"
        ],
        [
         "10",
         "10",
         "3.0",
         "No",
         "7.0",
         "4.0",
         "No",
         "5.0",
         "10.0",
         "Extrovert"
        ],
        [
         "11",
         "11",
         "2.0",
         "No",
         "6.0",
         "3.0",
         "No",
         "4.0",
         "8.0",
         "Extrovert"
        ],
        [
         "12",
         "12",
         "3.0",
         "No",
         "5.0",
         "4.0",
         "No",
         "9.0",
         "6.0",
         "Extrovert"
        ],
        [
         "13",
         "13",
         "3.0",
         null,
         null,
         "5.0",
         "No",
         "12.0",
         "5.0",
         "Extrovert"
        ],
        [
         "14",
         "14",
         "3.0",
         "No",
         "6.0",
         "4.0",
         "No",
         "9.0",
         null,
         "Extrovert"
        ],
        [
         "15",
         "15",
         null,
         "No",
         "7.0",
         "6.0",
         "No",
         "5.0",
         "8.0",
         "Extrovert"
        ],
        [
         "16",
         "16",
         "0.0",
         "No",
         "6.0",
         "4.0",
         "No",
         "8.0",
         "10.0",
         "Extrovert"
        ],
        [
         "17",
         "17",
         "5.0",
         null,
         "0.0",
         "4.0",
         "Yes",
         "2.0",
         "0.0",
         "Introvert"
        ],
        [
         "18",
         "18",
         "1.0",
         "No",
         "4.0",
         "4.0",
         "No",
         "11.0",
         "9.0",
         "Extrovert"
        ],
        [
         "19",
         "19",
         "1.0",
         "No",
         null,
         "5.0",
         "No",
         "10.0",
         "3.0",
         "Extrovert"
        ],
        [
         "20",
         "20",
         "1.0",
         "No",
         "9.0",
         "3.0",
         "No",
         "10.0",
         "7.0",
         "Extrovert"
        ],
        [
         "21",
         "21",
         "6.0",
         "Yes",
         "3.0",
         "2.0",
         "Yes",
         "1.0",
         "3.0",
         "Introvert"
        ],
        [
         "22",
         "22",
         "4.0",
         null,
         "0.0",
         "1.0",
         "Yes",
         "2.0",
         "0.0",
         "Introvert"
        ],
        [
         "23",
         "23",
         "3.0",
         "No",
         "9.0",
         "7.0",
         "No",
         "6.0",
         "3.0",
         "Extrovert"
        ],
        [
         "24",
         "24",
         "1.0",
         "No",
         "5.0",
         "3.0",
         "No",
         "12.0",
         "5.0",
         "Extrovert"
        ],
        [
         "25",
         "25",
         "9.0",
         "Yes",
         "1.0",
         "3.0",
         "Yes",
         "7.0",
         "5.0",
         "Introvert"
        ],
        [
         "26",
         "26",
         "3.0",
         null,
         "6.0",
         "5.0",
         "No",
         "10.0",
         "9.0",
         "Extrovert"
        ],
        [
         "27",
         "27",
         "9.0",
         null,
         "0.0",
         "0.0",
         "Yes",
         "1.0",
         "1.0",
         "Introvert"
        ],
        [
         "28",
         "28",
         "2.0",
         "No",
         null,
         "4.0",
         "No",
         "5.0",
         "8.0",
         "Extrovert"
        ],
        [
         "29",
         "29",
         null,
         "Yes",
         "1.0",
         "0.0",
         "Yes",
         "4.0",
         "0.0",
         "Introvert"
        ],
        [
         "30",
         "30",
         "3.0",
         "No",
         "9.0",
         "0.0",
         "No",
         "8.0",
         "5.0",
         "Extrovert"
        ],
        [
         "31",
         "31",
         null,
         "No",
         "4.0",
         null,
         "No",
         "11.0",
         "5.0",
         "Extrovert"
        ],
        [
         "32",
         "32",
         "1.0",
         "No",
         "9.0",
         "5.0",
         "No",
         "4.0",
         "8.0",
         "Extrovert"
        ],
        [
         "33",
         "33",
         "2.0",
         "No",
         "7.0",
         "5.0",
         "No",
         "11.0",
         "9.0",
         "Extrovert"
        ],
        [
         "34",
         "34",
         "5.0",
         "Yes",
         "1.0",
         "0.0",
         null,
         "3.0",
         "2.0",
         "Introvert"
        ],
        [
         "35",
         "35",
         "6.0",
         "Yes",
         "2.0",
         "3.0",
         "Yes",
         "1.0",
         "3.0",
         "Introvert"
        ],
        [
         "36",
         "36",
         "3.0",
         "No",
         "6.0",
         "3.0",
         "No",
         "7.0",
         null,
         "Extrovert"
        ],
        [
         "37",
         "37",
         "2.0",
         "No",
         "7.0",
         "4.0",
         "No",
         "5.0",
         "3.0",
         "Extrovert"
        ],
        [
         "38",
         "38",
         "2.0",
         "No",
         "8.0",
         "3.0",
         "No",
         "13.0",
         "6.0",
         "Extrovert"
        ],
        [
         "39",
         "39",
         "0.0",
         "No",
         "5.0",
         "4.0",
         "No",
         "11.0",
         "4.0",
         "Extrovert"
        ],
        [
         "40",
         "40",
         "0.0",
         "No",
         "8.0",
         "3.0",
         "No",
         "10.0",
         "4.0",
         "Extrovert"
        ],
        [
         "41",
         "41",
         null,
         "No",
         "6.0",
         "5.0",
         "No",
         "14.0",
         "3.0",
         "Extrovert"
        ],
        [
         "42",
         "42",
         "2.0",
         "No",
         "6.0",
         "6.0",
         "No",
         "5.0",
         "6.0",
         "Extrovert"
        ],
        [
         "43",
         "43",
         "0.0",
         "No",
         "9.0",
         "4.0",
         null,
         "11.0",
         "5.0",
         "Extrovert"
        ],
        [
         "44",
         "44",
         "9.0",
         "Yes",
         "1.0",
         "0.0",
         "Yes",
         "3.0",
         "0.0",
         "Introvert"
        ],
        [
         "45",
         "45",
         "2.0",
         "No",
         "6.0",
         null,
         "No",
         "11.0",
         "4.0",
         "Extrovert"
        ],
        [
         "46",
         "46",
         "2.0",
         "No",
         "7.0",
         "3.0",
         "No",
         "12.0",
         "6.0",
         "Extrovert"
        ],
        [
         "47",
         "47",
         "0.0",
         "No",
         "4.0",
         "7.0",
         "No",
         "14.0",
         "3.0",
         "Extrovert"
        ],
        [
         "48",
         "48",
         "10.0",
         "Yes",
         "1.0",
         null,
         "Yes",
         "5.0",
         "1.0",
         "Introvert"
        ],
        [
         "49",
         "49",
         "2.0",
         "No",
         "9.0",
         "7.0",
         "No",
         "6.0",
         "4.0",
         "Extrovert"
        ]
       ],
       "shape": {
        "columns": 9,
        "rows": 18524
       }
      },
      "text/html": [
       "<div>\n",
       "<style scoped>\n",
       "    .dataframe tbody tr th:only-of-type {\n",
       "        vertical-align: middle;\n",
       "    }\n",
       "\n",
       "    .dataframe tbody tr th {\n",
       "        vertical-align: top;\n",
       "    }\n",
       "\n",
       "    .dataframe thead th {\n",
       "        text-align: right;\n",
       "    }\n",
       "</style>\n",
       "<table border=\"1\" class=\"dataframe\">\n",
       "  <thead>\n",
       "    <tr style=\"text-align: right;\">\n",
       "      <th></th>\n",
       "      <th>id</th>\n",
       "      <th>Time_spent_Alone</th>\n",
       "      <th>Stage_fear</th>\n",
       "      <th>Social_event_attendance</th>\n",
       "      <th>Going_outside</th>\n",
       "      <th>Drained_after_socializing</th>\n",
       "      <th>Friends_circle_size</th>\n",
       "      <th>Post_frequency</th>\n",
       "      <th>Personality</th>\n",
       "    </tr>\n",
       "  </thead>\n",
       "  <tbody>\n",
       "    <tr>\n",
       "      <th>0</th>\n",
       "      <td>0</td>\n",
       "      <td>0.0</td>\n",
       "      <td>No</td>\n",
       "      <td>6.0</td>\n",
       "      <td>4.0</td>\n",
       "      <td>No</td>\n",
       "      <td>15.0</td>\n",
       "      <td>5.0</td>\n",
       "      <td>Extrovert</td>\n",
       "    </tr>\n",
       "    <tr>\n",
       "      <th>1</th>\n",
       "      <td>1</td>\n",
       "      <td>1.0</td>\n",
       "      <td>No</td>\n",
       "      <td>7.0</td>\n",
       "      <td>3.0</td>\n",
       "      <td>No</td>\n",
       "      <td>10.0</td>\n",
       "      <td>8.0</td>\n",
       "      <td>Extrovert</td>\n",
       "    </tr>\n",
       "    <tr>\n",
       "      <th>2</th>\n",
       "      <td>2</td>\n",
       "      <td>6.0</td>\n",
       "      <td>Yes</td>\n",
       "      <td>1.0</td>\n",
       "      <td>0.0</td>\n",
       "      <td>NaN</td>\n",
       "      <td>3.0</td>\n",
       "      <td>0.0</td>\n",
       "      <td>Introvert</td>\n",
       "    </tr>\n",
       "    <tr>\n",
       "      <th>3</th>\n",
       "      <td>3</td>\n",
       "      <td>3.0</td>\n",
       "      <td>No</td>\n",
       "      <td>7.0</td>\n",
       "      <td>3.0</td>\n",
       "      <td>No</td>\n",
       "      <td>11.0</td>\n",
       "      <td>5.0</td>\n",
       "      <td>Extrovert</td>\n",
       "    </tr>\n",
       "    <tr>\n",
       "      <th>4</th>\n",
       "      <td>4</td>\n",
       "      <td>1.0</td>\n",
       "      <td>No</td>\n",
       "      <td>4.0</td>\n",
       "      <td>4.0</td>\n",
       "      <td>No</td>\n",
       "      <td>13.0</td>\n",
       "      <td>NaN</td>\n",
       "      <td>Extrovert</td>\n",
       "    </tr>\n",
       "    <tr>\n",
       "      <th>...</th>\n",
       "      <td>...</td>\n",
       "      <td>...</td>\n",
       "      <td>...</td>\n",
       "      <td>...</td>\n",
       "      <td>...</td>\n",
       "      <td>...</td>\n",
       "      <td>...</td>\n",
       "      <td>...</td>\n",
       "      <td>...</td>\n",
       "    </tr>\n",
       "    <tr>\n",
       "      <th>18519</th>\n",
       "      <td>18519</td>\n",
       "      <td>3.0</td>\n",
       "      <td>No</td>\n",
       "      <td>7.0</td>\n",
       "      <td>3.0</td>\n",
       "      <td>No</td>\n",
       "      <td>9.0</td>\n",
       "      <td>7.0</td>\n",
       "      <td>Extrovert</td>\n",
       "    </tr>\n",
       "    <tr>\n",
       "      <th>18520</th>\n",
       "      <td>18520</td>\n",
       "      <td>1.0</td>\n",
       "      <td>NaN</td>\n",
       "      <td>6.0</td>\n",
       "      <td>7.0</td>\n",
       "      <td>No</td>\n",
       "      <td>6.0</td>\n",
       "      <td>5.0</td>\n",
       "      <td>Extrovert</td>\n",
       "    </tr>\n",
       "    <tr>\n",
       "      <th>18521</th>\n",
       "      <td>18521</td>\n",
       "      <td>7.0</td>\n",
       "      <td>Yes</td>\n",
       "      <td>1.0</td>\n",
       "      <td>1.0</td>\n",
       "      <td>Yes</td>\n",
       "      <td>1.0</td>\n",
       "      <td>NaN</td>\n",
       "      <td>Introvert</td>\n",
       "    </tr>\n",
       "    <tr>\n",
       "      <th>18522</th>\n",
       "      <td>18522</td>\n",
       "      <td>NaN</td>\n",
       "      <td>Yes</td>\n",
       "      <td>1.0</td>\n",
       "      <td>0.0</td>\n",
       "      <td>Yes</td>\n",
       "      <td>5.0</td>\n",
       "      <td>2.0</td>\n",
       "      <td>Introvert</td>\n",
       "    </tr>\n",
       "    <tr>\n",
       "      <th>18523</th>\n",
       "      <td>18523</td>\n",
       "      <td>1.0</td>\n",
       "      <td>No</td>\n",
       "      <td>8.0</td>\n",
       "      <td>6.0</td>\n",
       "      <td>No</td>\n",
       "      <td>4.0</td>\n",
       "      <td>7.0</td>\n",
       "      <td>Extrovert</td>\n",
       "    </tr>\n",
       "  </tbody>\n",
       "</table>\n",
       "<p>18524 rows × 9 columns</p>\n",
       "</div>"
      ],
      "text/plain": [
       "          id  Time_spent_Alone Stage_fear  Social_event_attendance  \\\n",
       "0          0               0.0         No                      6.0   \n",
       "1          1               1.0         No                      7.0   \n",
       "2          2               6.0        Yes                      1.0   \n",
       "3          3               3.0         No                      7.0   \n",
       "4          4               1.0         No                      4.0   \n",
       "...      ...               ...        ...                      ...   \n",
       "18519  18519               3.0         No                      7.0   \n",
       "18520  18520               1.0        NaN                      6.0   \n",
       "18521  18521               7.0        Yes                      1.0   \n",
       "18522  18522               NaN        Yes                      1.0   \n",
       "18523  18523               1.0         No                      8.0   \n",
       "\n",
       "       Going_outside Drained_after_socializing  Friends_circle_size  \\\n",
       "0                4.0                        No                 15.0   \n",
       "1                3.0                        No                 10.0   \n",
       "2                0.0                       NaN                  3.0   \n",
       "3                3.0                        No                 11.0   \n",
       "4                4.0                        No                 13.0   \n",
       "...              ...                       ...                  ...   \n",
       "18519            3.0                        No                  9.0   \n",
       "18520            7.0                        No                  6.0   \n",
       "18521            1.0                       Yes                  1.0   \n",
       "18522            0.0                       Yes                  5.0   \n",
       "18523            6.0                        No                  4.0   \n",
       "\n",
       "       Post_frequency Personality  \n",
       "0                 5.0   Extrovert  \n",
       "1                 8.0   Extrovert  \n",
       "2                 0.0   Introvert  \n",
       "3                 5.0   Extrovert  \n",
       "4                 NaN   Extrovert  \n",
       "...               ...         ...  \n",
       "18519             7.0   Extrovert  \n",
       "18520             5.0   Extrovert  \n",
       "18521             NaN   Introvert  \n",
       "18522             2.0   Introvert  \n",
       "18523             7.0   Extrovert  \n",
       "\n",
       "[18524 rows x 9 columns]"
      ]
     },
     "metadata": {},
     "output_type": "display_data"
    },
    {
     "name": "stdout",
     "output_type": "stream",
     "text": [
      "Imputed DataFrame:\n"
     ]
    },
    {
     "data": {
      "application/vnd.microsoft.datawrangler.viewer.v0+json": {
       "columns": [
        {
         "name": "index",
         "rawType": "int64",
         "type": "integer"
        },
        {
         "name": "id",
         "rawType": "int64",
         "type": "integer"
        },
        {
         "name": "Time_spent_Alone",
         "rawType": "float64",
         "type": "float"
        },
        {
         "name": "Stage_fear",
         "rawType": "object",
         "type": "string"
        },
        {
         "name": "Social_event_attendance",
         "rawType": "float64",
         "type": "float"
        },
        {
         "name": "Going_outside",
         "rawType": "float64",
         "type": "float"
        },
        {
         "name": "Drained_after_socializing",
         "rawType": "object",
         "type": "string"
        },
        {
         "name": "Friends_circle_size",
         "rawType": "float64",
         "type": "float"
        },
        {
         "name": "Post_frequency",
         "rawType": "float64",
         "type": "float"
        },
        {
         "name": "Personality",
         "rawType": "object",
         "type": "string"
        }
       ],
       "ref": "b131d488-546d-4e55-94c8-86d636713c6a",
       "rows": [
        [
         "0",
         "0",
         "0.0",
         "No",
         "6.0",
         "4.0",
         "No",
         "15.0",
         "5.0",
         "Extrovert"
        ],
        [
         "1",
         "1",
         "1.0",
         "No",
         "7.0",
         "3.0",
         "No",
         "10.0",
         "8.0",
         "Extrovert"
        ],
        [
         "2",
         "2",
         "6.0",
         "Yes",
         "1.0",
         "0.0",
         "No",
         "3.0",
         "0.0",
         "Introvert"
        ],
        [
         "3",
         "3",
         "3.0",
         "No",
         "7.0",
         "3.0",
         "No",
         "11.0",
         "5.0",
         "Extrovert"
        ],
        [
         "4",
         "4",
         "1.0",
         "No",
         "4.0",
         "4.0",
         "No",
         "13.0",
         "3.0",
         "Extrovert"
        ],
        [
         "5",
         "5",
         "2.0",
         "No",
         "8.0",
         "5.0",
         "No",
         "5.0",
         "3.0",
         "Extrovert"
        ],
        [
         "6",
         "6",
         "1.0",
         "No",
         "8.0",
         "5.0",
         "No",
         "5.0",
         "4.0",
         "Extrovert"
        ],
        [
         "7",
         "7",
         "2.0",
         "No",
         "8.0",
         "3.0",
         "No",
         "4.0",
         "5.0",
         "Extrovert"
        ],
        [
         "8",
         "8",
         "4.0",
         "Yes",
         "2.0",
         "1.0",
         "No",
         "0.0",
         "2.0",
         "Introvert"
        ],
        [
         "9",
         "9",
         "1.0",
         "No",
         "8.0",
         "6.0",
         "No",
         "14.0",
         "9.0",
         "Extrovert"
        ],
        [
         "10",
         "10",
         "3.0",
         "No",
         "7.0",
         "4.0",
         "No",
         "5.0",
         "10.0",
         "Extrovert"
        ],
        [
         "11",
         "11",
         "2.0",
         "No",
         "6.0",
         "3.0",
         "No",
         "4.0",
         "8.0",
         "Extrovert"
        ],
        [
         "12",
         "12",
         "3.0",
         "No",
         "5.0",
         "4.0",
         "No",
         "9.0",
         "6.0",
         "Extrovert"
        ],
        [
         "13",
         "13",
         "3.0",
         "No",
         "4.0",
         "5.0",
         "No",
         "12.0",
         "5.0",
         "Extrovert"
        ],
        [
         "14",
         "14",
         "3.0",
         "No",
         "6.0",
         "4.0",
         "No",
         "9.0",
         "3.0",
         "Extrovert"
        ],
        [
         "15",
         "15",
         "0.0",
         "No",
         "7.0",
         "6.0",
         "No",
         "5.0",
         "8.0",
         "Extrovert"
        ],
        [
         "16",
         "16",
         "0.0",
         "No",
         "6.0",
         "4.0",
         "No",
         "8.0",
         "10.0",
         "Extrovert"
        ],
        [
         "17",
         "17",
         "5.0",
         "No",
         "0.0",
         "4.0",
         "Yes",
         "2.0",
         "0.0",
         "Introvert"
        ],
        [
         "18",
         "18",
         "1.0",
         "No",
         "4.0",
         "4.0",
         "No",
         "11.0",
         "9.0",
         "Extrovert"
        ],
        [
         "19",
         "19",
         "1.0",
         "No",
         "4.0",
         "5.0",
         "No",
         "10.0",
         "3.0",
         "Extrovert"
        ],
        [
         "20",
         "20",
         "1.0",
         "No",
         "9.0",
         "3.0",
         "No",
         "10.0",
         "7.0",
         "Extrovert"
        ],
        [
         "21",
         "21",
         "6.0",
         "Yes",
         "3.0",
         "2.0",
         "Yes",
         "1.0",
         "3.0",
         "Introvert"
        ],
        [
         "22",
         "22",
         "4.0",
         "No",
         "0.0",
         "1.0",
         "Yes",
         "2.0",
         "0.0",
         "Introvert"
        ],
        [
         "23",
         "23",
         "3.0",
         "No",
         "9.0",
         "7.0",
         "No",
         "6.0",
         "3.0",
         "Extrovert"
        ],
        [
         "24",
         "24",
         "1.0",
         "No",
         "5.0",
         "3.0",
         "No",
         "12.0",
         "5.0",
         "Extrovert"
        ],
        [
         "25",
         "25",
         "9.0",
         "Yes",
         "1.0",
         "3.0",
         "Yes",
         "7.0",
         "5.0",
         "Introvert"
        ],
        [
         "26",
         "26",
         "3.0",
         "No",
         "6.0",
         "5.0",
         "No",
         "10.0",
         "9.0",
         "Extrovert"
        ],
        [
         "27",
         "27",
         "9.0",
         "No",
         "0.0",
         "0.0",
         "Yes",
         "1.0",
         "1.0",
         "Introvert"
        ],
        [
         "28",
         "28",
         "2.0",
         "No",
         "4.0",
         "4.0",
         "No",
         "5.0",
         "8.0",
         "Extrovert"
        ],
        [
         "29",
         "29",
         "0.0",
         "Yes",
         "1.0",
         "0.0",
         "Yes",
         "4.0",
         "0.0",
         "Introvert"
        ],
        [
         "30",
         "30",
         "3.0",
         "No",
         "9.0",
         "0.0",
         "No",
         "8.0",
         "5.0",
         "Extrovert"
        ],
        [
         "31",
         "31",
         "0.0",
         "No",
         "4.0",
         "5.0",
         "No",
         "11.0",
         "5.0",
         "Extrovert"
        ],
        [
         "32",
         "32",
         "1.0",
         "No",
         "9.0",
         "5.0",
         "No",
         "4.0",
         "8.0",
         "Extrovert"
        ],
        [
         "33",
         "33",
         "2.0",
         "No",
         "7.0",
         "5.0",
         "No",
         "11.0",
         "9.0",
         "Extrovert"
        ],
        [
         "34",
         "34",
         "5.0",
         "Yes",
         "1.0",
         "0.0",
         "No",
         "3.0",
         "2.0",
         "Introvert"
        ],
        [
         "35",
         "35",
         "6.0",
         "Yes",
         "2.0",
         "3.0",
         "Yes",
         "1.0",
         "3.0",
         "Introvert"
        ],
        [
         "36",
         "36",
         "3.0",
         "No",
         "6.0",
         "3.0",
         "No",
         "7.0",
         "3.0",
         "Extrovert"
        ],
        [
         "37",
         "37",
         "2.0",
         "No",
         "7.0",
         "4.0",
         "No",
         "5.0",
         "3.0",
         "Extrovert"
        ],
        [
         "38",
         "38",
         "2.0",
         "No",
         "8.0",
         "3.0",
         "No",
         "13.0",
         "6.0",
         "Extrovert"
        ],
        [
         "39",
         "39",
         "0.0",
         "No",
         "5.0",
         "4.0",
         "No",
         "11.0",
         "4.0",
         "Extrovert"
        ],
        [
         "40",
         "40",
         "0.0",
         "No",
         "8.0",
         "3.0",
         "No",
         "10.0",
         "4.0",
         "Extrovert"
        ],
        [
         "41",
         "41",
         "0.0",
         "No",
         "6.0",
         "5.0",
         "No",
         "14.0",
         "3.0",
         "Extrovert"
        ],
        [
         "42",
         "42",
         "2.0",
         "No",
         "6.0",
         "6.0",
         "No",
         "5.0",
         "6.0",
         "Extrovert"
        ],
        [
         "43",
         "43",
         "0.0",
         "No",
         "9.0",
         "4.0",
         "No",
         "11.0",
         "5.0",
         "Extrovert"
        ],
        [
         "44",
         "44",
         "9.0",
         "Yes",
         "1.0",
         "0.0",
         "Yes",
         "3.0",
         "0.0",
         "Introvert"
        ],
        [
         "45",
         "45",
         "2.0",
         "No",
         "6.0",
         "5.0",
         "No",
         "11.0",
         "4.0",
         "Extrovert"
        ],
        [
         "46",
         "46",
         "2.0",
         "No",
         "7.0",
         "3.0",
         "No",
         "12.0",
         "6.0",
         "Extrovert"
        ],
        [
         "47",
         "47",
         "0.0",
         "No",
         "4.0",
         "7.0",
         "No",
         "14.0",
         "3.0",
         "Extrovert"
        ],
        [
         "48",
         "48",
         "10.0",
         "Yes",
         "1.0",
         "5.0",
         "Yes",
         "5.0",
         "1.0",
         "Introvert"
        ],
        [
         "49",
         "49",
         "2.0",
         "No",
         "9.0",
         "7.0",
         "No",
         "6.0",
         "4.0",
         "Extrovert"
        ]
       ],
       "shape": {
        "columns": 9,
        "rows": 18524
       }
      },
      "text/html": [
       "<div>\n",
       "<style scoped>\n",
       "    .dataframe tbody tr th:only-of-type {\n",
       "        vertical-align: middle;\n",
       "    }\n",
       "\n",
       "    .dataframe tbody tr th {\n",
       "        vertical-align: top;\n",
       "    }\n",
       "\n",
       "    .dataframe thead th {\n",
       "        text-align: right;\n",
       "    }\n",
       "</style>\n",
       "<table border=\"1\" class=\"dataframe\">\n",
       "  <thead>\n",
       "    <tr style=\"text-align: right;\">\n",
       "      <th></th>\n",
       "      <th>id</th>\n",
       "      <th>Time_spent_Alone</th>\n",
       "      <th>Stage_fear</th>\n",
       "      <th>Social_event_attendance</th>\n",
       "      <th>Going_outside</th>\n",
       "      <th>Drained_after_socializing</th>\n",
       "      <th>Friends_circle_size</th>\n",
       "      <th>Post_frequency</th>\n",
       "      <th>Personality</th>\n",
       "    </tr>\n",
       "  </thead>\n",
       "  <tbody>\n",
       "    <tr>\n",
       "      <th>0</th>\n",
       "      <td>0</td>\n",
       "      <td>0.0</td>\n",
       "      <td>No</td>\n",
       "      <td>6.0</td>\n",
       "      <td>4.0</td>\n",
       "      <td>No</td>\n",
       "      <td>15.0</td>\n",
       "      <td>5.0</td>\n",
       "      <td>Extrovert</td>\n",
       "    </tr>\n",
       "    <tr>\n",
       "      <th>1</th>\n",
       "      <td>1</td>\n",
       "      <td>1.0</td>\n",
       "      <td>No</td>\n",
       "      <td>7.0</td>\n",
       "      <td>3.0</td>\n",
       "      <td>No</td>\n",
       "      <td>10.0</td>\n",
       "      <td>8.0</td>\n",
       "      <td>Extrovert</td>\n",
       "    </tr>\n",
       "    <tr>\n",
       "      <th>2</th>\n",
       "      <td>2</td>\n",
       "      <td>6.0</td>\n",
       "      <td>Yes</td>\n",
       "      <td>1.0</td>\n",
       "      <td>0.0</td>\n",
       "      <td>No</td>\n",
       "      <td>3.0</td>\n",
       "      <td>0.0</td>\n",
       "      <td>Introvert</td>\n",
       "    </tr>\n",
       "    <tr>\n",
       "      <th>3</th>\n",
       "      <td>3</td>\n",
       "      <td>3.0</td>\n",
       "      <td>No</td>\n",
       "      <td>7.0</td>\n",
       "      <td>3.0</td>\n",
       "      <td>No</td>\n",
       "      <td>11.0</td>\n",
       "      <td>5.0</td>\n",
       "      <td>Extrovert</td>\n",
       "    </tr>\n",
       "    <tr>\n",
       "      <th>4</th>\n",
       "      <td>4</td>\n",
       "      <td>1.0</td>\n",
       "      <td>No</td>\n",
       "      <td>4.0</td>\n",
       "      <td>4.0</td>\n",
       "      <td>No</td>\n",
       "      <td>13.0</td>\n",
       "      <td>3.0</td>\n",
       "      <td>Extrovert</td>\n",
       "    </tr>\n",
       "    <tr>\n",
       "      <th>...</th>\n",
       "      <td>...</td>\n",
       "      <td>...</td>\n",
       "      <td>...</td>\n",
       "      <td>...</td>\n",
       "      <td>...</td>\n",
       "      <td>...</td>\n",
       "      <td>...</td>\n",
       "      <td>...</td>\n",
       "      <td>...</td>\n",
       "    </tr>\n",
       "    <tr>\n",
       "      <th>18519</th>\n",
       "      <td>18519</td>\n",
       "      <td>3.0</td>\n",
       "      <td>No</td>\n",
       "      <td>7.0</td>\n",
       "      <td>3.0</td>\n",
       "      <td>No</td>\n",
       "      <td>9.0</td>\n",
       "      <td>7.0</td>\n",
       "      <td>Extrovert</td>\n",
       "    </tr>\n",
       "    <tr>\n",
       "      <th>18520</th>\n",
       "      <td>18520</td>\n",
       "      <td>1.0</td>\n",
       "      <td>No</td>\n",
       "      <td>6.0</td>\n",
       "      <td>7.0</td>\n",
       "      <td>No</td>\n",
       "      <td>6.0</td>\n",
       "      <td>5.0</td>\n",
       "      <td>Extrovert</td>\n",
       "    </tr>\n",
       "    <tr>\n",
       "      <th>18521</th>\n",
       "      <td>18521</td>\n",
       "      <td>7.0</td>\n",
       "      <td>Yes</td>\n",
       "      <td>1.0</td>\n",
       "      <td>1.0</td>\n",
       "      <td>Yes</td>\n",
       "      <td>1.0</td>\n",
       "      <td>3.0</td>\n",
       "      <td>Introvert</td>\n",
       "    </tr>\n",
       "    <tr>\n",
       "      <th>18522</th>\n",
       "      <td>18522</td>\n",
       "      <td>0.0</td>\n",
       "      <td>Yes</td>\n",
       "      <td>1.0</td>\n",
       "      <td>0.0</td>\n",
       "      <td>Yes</td>\n",
       "      <td>5.0</td>\n",
       "      <td>2.0</td>\n",
       "      <td>Introvert</td>\n",
       "    </tr>\n",
       "    <tr>\n",
       "      <th>18523</th>\n",
       "      <td>18523</td>\n",
       "      <td>1.0</td>\n",
       "      <td>No</td>\n",
       "      <td>8.0</td>\n",
       "      <td>6.0</td>\n",
       "      <td>No</td>\n",
       "      <td>4.0</td>\n",
       "      <td>7.0</td>\n",
       "      <td>Extrovert</td>\n",
       "    </tr>\n",
       "  </tbody>\n",
       "</table>\n",
       "<p>18524 rows × 9 columns</p>\n",
       "</div>"
      ],
      "text/plain": [
       "          id  Time_spent_Alone Stage_fear  Social_event_attendance  \\\n",
       "0          0               0.0         No                      6.0   \n",
       "1          1               1.0         No                      7.0   \n",
       "2          2               6.0        Yes                      1.0   \n",
       "3          3               3.0         No                      7.0   \n",
       "4          4               1.0         No                      4.0   \n",
       "...      ...               ...        ...                      ...   \n",
       "18519  18519               3.0         No                      7.0   \n",
       "18520  18520               1.0         No                      6.0   \n",
       "18521  18521               7.0        Yes                      1.0   \n",
       "18522  18522               0.0        Yes                      1.0   \n",
       "18523  18523               1.0         No                      8.0   \n",
       "\n",
       "       Going_outside Drained_after_socializing  Friends_circle_size  \\\n",
       "0                4.0                        No                 15.0   \n",
       "1                3.0                        No                 10.0   \n",
       "2                0.0                        No                  3.0   \n",
       "3                3.0                        No                 11.0   \n",
       "4                4.0                        No                 13.0   \n",
       "...              ...                       ...                  ...   \n",
       "18519            3.0                        No                  9.0   \n",
       "18520            7.0                        No                  6.0   \n",
       "18521            1.0                       Yes                  1.0   \n",
       "18522            0.0                       Yes                  5.0   \n",
       "18523            6.0                        No                  4.0   \n",
       "\n",
       "       Post_frequency Personality  \n",
       "0                 5.0   Extrovert  \n",
       "1                 8.0   Extrovert  \n",
       "2                 0.0   Introvert  \n",
       "3                 5.0   Extrovert  \n",
       "4                 3.0   Extrovert  \n",
       "...               ...         ...  \n",
       "18519             7.0   Extrovert  \n",
       "18520             5.0   Extrovert  \n",
       "18521             3.0   Introvert  \n",
       "18522             2.0   Introvert  \n",
       "18523             7.0   Extrovert  \n",
       "\n",
       "[18524 rows x 9 columns]"
      ]
     },
     "metadata": {},
     "output_type": "display_data"
    }
   ],
   "source": [
    "df = pd.read_csv(\"../data/train.csv\")\n",
    "print(\"Raw DataFrame:\")\n",
    "display(df)\n",
    "\n",
    "imputer = SimpleImputer(strategy=\"most_frequent\")\n",
    "for feature in df.columns:\n",
    "    df[feature] = imputer.fit_transform(df[[feature]]).flatten()\n",
    "print(\"Imputed DataFrame:\")\n",
    "display(df)"
   ]
  },
  {
   "cell_type": "code",
   "execution_count": 81,
   "id": "14f26a7e",
   "metadata": {},
   "outputs": [],
   "source": [
    "le = LabelEncoder()\n",
    "for feature in df.columns:\n",
    "    if feature == \"Stage_fear\" or feature == \"Drained_after_socializing\" or feature == \"Personality\":\n",
    "        df[feature] = le.fit_transform(df[feature])"
   ]
  },
  {
   "cell_type": "code",
   "execution_count": 82,
   "id": "9a834cda",
   "metadata": {},
   "outputs": [
    {
     "name": "stdout",
     "output_type": "stream",
     "text": [
      "X_train:\n"
     ]
    },
    {
     "data": {
      "application/vnd.microsoft.datawrangler.viewer.v0+json": {
       "columns": [
        {
         "name": "index",
         "rawType": "int64",
         "type": "integer"
        },
        {
         "name": "Time_spent_Alone",
         "rawType": "float64",
         "type": "float"
        },
        {
         "name": "Stage_fear",
         "rawType": "int64",
         "type": "integer"
        },
        {
         "name": "Social_event_attendance",
         "rawType": "float64",
         "type": "float"
        },
        {
         "name": "Going_outside",
         "rawType": "float64",
         "type": "float"
        },
        {
         "name": "Drained_after_socializing",
         "rawType": "int64",
         "type": "integer"
        },
        {
         "name": "Friends_circle_size",
         "rawType": "float64",
         "type": "float"
        },
        {
         "name": "Post_frequency",
         "rawType": "float64",
         "type": "float"
        }
       ],
       "ref": "1f8939b0-ca1d-4306-94e9-cc869fefcd16",
       "rows": [
        [
         "11881",
         "3.0",
         "0",
         "4.0",
         "5.0",
         "0",
         "10.0",
         "7.0"
        ],
        [
         "5199",
         "2.0",
         "0",
         "7.0",
         "3.0",
         "0",
         "5.0",
         "8.0"
        ],
        [
         "17115",
         "2.0",
         "0",
         "7.0",
         "5.0",
         "0",
         "12.0",
         "4.0"
        ],
        [
         "14120",
         "3.0",
         "0",
         "4.0",
         "4.0",
         "0",
         "10.0",
         "4.0"
        ],
        [
         "6202",
         "0.0",
         "0",
         "3.0",
         "3.0",
         "0",
         "6.0",
         "5.0"
        ],
        [
         "902",
         "8.0",
         "1",
         "2.0",
         "2.0",
         "0",
         "2.0",
         "2.0"
        ],
        [
         "17971",
         "3.0",
         "0",
         "5.0",
         "5.0",
         "0",
         "11.0",
         "3.0"
        ],
        [
         "11928",
         "1.0",
         "0",
         "5.0",
         "5.0",
         "0",
         "15.0",
         "7.0"
        ],
        [
         "181",
         "1.0",
         "0",
         "9.0",
         "3.0",
         "0",
         "8.0",
         "4.0"
        ],
        [
         "18448",
         "11.0",
         "1",
         "1.0",
         "0.0",
         "1",
         "2.0",
         "3.0"
        ],
        [
         "10264",
         "7.0",
         "1",
         "2.0",
         "2.0",
         "0",
         "3.0",
         "0.0"
        ],
        [
         "1383",
         "2.0",
         "0",
         "7.0",
         "4.0",
         "0",
         "5.0",
         "9.0"
        ],
        [
         "11092",
         "3.0",
         "0",
         "5.0",
         "7.0",
         "0",
         "6.0",
         "10.0"
        ],
        [
         "10479",
         "3.0",
         "0",
         "3.0",
         "6.0",
         "0",
         "10.0",
         "3.0"
        ],
        [
         "8500",
         "1.0",
         "0",
         "4.0",
         "6.0",
         "0",
         "7.0",
         "7.0"
        ],
        [
         "15489",
         "0.0",
         "0",
         "9.0",
         "6.0",
         "0",
         "10.0",
         "4.0"
        ],
        [
         "18377",
         "5.0",
         "1",
         "2.0",
         "0.0",
         "1",
         "7.0",
         "1.0"
        ],
        [
         "15720",
         "3.0",
         "0",
         "6.0",
         "3.0",
         "0",
         "10.0",
         "8.0"
        ],
        [
         "18318",
         "0.0",
         "0",
         "8.0",
         "7.0",
         "0",
         "6.0",
         "7.0"
        ],
        [
         "18434",
         "1.0",
         "0",
         "9.0",
         "4.0",
         "0",
         "8.0",
         "6.0"
        ],
        [
         "17482",
         "2.0",
         "0",
         "6.0",
         "4.0",
         "0",
         "5.0",
         "8.0"
        ],
        [
         "3599",
         "1.0",
         "0",
         "8.0",
         "4.0",
         "0",
         "6.0",
         "8.0"
        ],
        [
         "5598",
         "1.0",
         "0",
         "7.0",
         "5.0",
         "0",
         "5.0",
         "6.0"
        ],
        [
         "4202",
         "2.0",
         "0",
         "4.0",
         "4.0",
         "0",
         "11.0",
         "8.0"
        ],
        [
         "6907",
         "10.0",
         "0",
         "1.0",
         "1.0",
         "1",
         "2.0",
         "2.0"
        ],
        [
         "11832",
         "0.0",
         "0",
         "10.0",
         "7.0",
         "0",
         "5.0",
         "8.0"
        ],
        [
         "4767",
         "0.0",
         "0",
         "8.0",
         "7.0",
         "0",
         "9.0",
         "3.0"
        ],
        [
         "14535",
         "3.0",
         "0",
         "5.0",
         "5.0",
         "0",
         "13.0",
         "5.0"
        ],
        [
         "5702",
         "2.0",
         "0",
         "7.0",
         "4.0",
         "0",
         "10.0",
         "3.0"
        ],
        [
         "18470",
         "0.0",
         "0",
         "5.0",
         "5.0",
         "0",
         "3.0",
         "8.0"
        ],
        [
         "15947",
         "5.0",
         "1",
         "1.0",
         "1.0",
         "1",
         "5.0",
         "1.0"
        ],
        [
         "18195",
         "3.0",
         "0",
         "5.0",
         "6.0",
         "0",
         "5.0",
         "4.0"
        ],
        [
         "14843",
         "10.0",
         "0",
         "2.0",
         "1.0",
         "1",
         "0.0",
         "0.0"
        ],
        [
         "50",
         "7.0",
         "1",
         "4.0",
         "2.0",
         "1",
         "5.0",
         "2.0"
        ],
        [
         "4246",
         "8.0",
         "1",
         "2.0",
         "3.0",
         "1",
         "1.0",
         "0.0"
        ],
        [
         "6275",
         "7.0",
         "1",
         "1.0",
         "0.0",
         "1",
         "0.0",
         "1.0"
        ],
        [
         "7628",
         "3.0",
         "0",
         "10.0",
         "6.0",
         "0",
         "11.0",
         "8.0"
        ],
        [
         "8561",
         "3.0",
         "0",
         "4.0",
         "5.0",
         "0",
         "14.0",
         "4.0"
        ],
        [
         "13314",
         "0.0",
         "0",
         "7.0",
         "6.0",
         "0",
         "8.0",
         "3.0"
        ],
        [
         "16839",
         "7.0",
         "1",
         "0.0",
         "1.0",
         "1",
         "0.0",
         "1.0"
        ],
        [
         "5377",
         "1.0",
         "0",
         "4.0",
         "4.0",
         "0",
         "10.0",
         "3.0"
        ],
        [
         "17950",
         "3.0",
         "0",
         "5.0",
         "5.0",
         "0",
         "11.0",
         "6.0"
        ],
        [
         "10227",
         "1.0",
         "0",
         "8.0",
         "5.0",
         "0",
         "4.0",
         "9.0"
        ],
        [
         "410",
         "0.0",
         "0",
         "7.0",
         "5.0",
         "0",
         "10.0",
         "7.0"
        ],
        [
         "9431",
         "0.0",
         "0",
         "9.0",
         "4.0",
         "0",
         "5.0",
         "5.0"
        ],
        [
         "18463",
         "1.0",
         "0",
         "4.0",
         "6.0",
         "0",
         "11.0",
         "3.0"
        ],
        [
         "14387",
         "11.0",
         "0",
         "1.0",
         "2.0",
         "1",
         "2.0",
         "1.0"
        ],
        [
         "15377",
         "2.0",
         "0",
         "4.0",
         "5.0",
         "0",
         "7.0",
         "8.0"
        ],
        [
         "2312",
         "3.0",
         "0",
         "5.0",
         "4.0",
         "0",
         "15.0",
         "7.0"
        ],
        [
         "12401",
         "0.0",
         "0",
         "4.0",
         "4.0",
         "0",
         "14.0",
         "3.0"
        ]
       ],
       "shape": {
        "columns": 7,
        "rows": 16671
       }
      },
      "text/html": [
       "<div>\n",
       "<style scoped>\n",
       "    .dataframe tbody tr th:only-of-type {\n",
       "        vertical-align: middle;\n",
       "    }\n",
       "\n",
       "    .dataframe tbody tr th {\n",
       "        vertical-align: top;\n",
       "    }\n",
       "\n",
       "    .dataframe thead th {\n",
       "        text-align: right;\n",
       "    }\n",
       "</style>\n",
       "<table border=\"1\" class=\"dataframe\">\n",
       "  <thead>\n",
       "    <tr style=\"text-align: right;\">\n",
       "      <th></th>\n",
       "      <th>Time_spent_Alone</th>\n",
       "      <th>Stage_fear</th>\n",
       "      <th>Social_event_attendance</th>\n",
       "      <th>Going_outside</th>\n",
       "      <th>Drained_after_socializing</th>\n",
       "      <th>Friends_circle_size</th>\n",
       "      <th>Post_frequency</th>\n",
       "    </tr>\n",
       "  </thead>\n",
       "  <tbody>\n",
       "    <tr>\n",
       "      <th>11881</th>\n",
       "      <td>3.0</td>\n",
       "      <td>0</td>\n",
       "      <td>4.0</td>\n",
       "      <td>5.0</td>\n",
       "      <td>0</td>\n",
       "      <td>10.0</td>\n",
       "      <td>7.0</td>\n",
       "    </tr>\n",
       "    <tr>\n",
       "      <th>5199</th>\n",
       "      <td>2.0</td>\n",
       "      <td>0</td>\n",
       "      <td>7.0</td>\n",
       "      <td>3.0</td>\n",
       "      <td>0</td>\n",
       "      <td>5.0</td>\n",
       "      <td>8.0</td>\n",
       "    </tr>\n",
       "    <tr>\n",
       "      <th>17115</th>\n",
       "      <td>2.0</td>\n",
       "      <td>0</td>\n",
       "      <td>7.0</td>\n",
       "      <td>5.0</td>\n",
       "      <td>0</td>\n",
       "      <td>12.0</td>\n",
       "      <td>4.0</td>\n",
       "    </tr>\n",
       "    <tr>\n",
       "      <th>14120</th>\n",
       "      <td>3.0</td>\n",
       "      <td>0</td>\n",
       "      <td>4.0</td>\n",
       "      <td>4.0</td>\n",
       "      <td>0</td>\n",
       "      <td>10.0</td>\n",
       "      <td>4.0</td>\n",
       "    </tr>\n",
       "    <tr>\n",
       "      <th>6202</th>\n",
       "      <td>0.0</td>\n",
       "      <td>0</td>\n",
       "      <td>3.0</td>\n",
       "      <td>3.0</td>\n",
       "      <td>0</td>\n",
       "      <td>6.0</td>\n",
       "      <td>5.0</td>\n",
       "    </tr>\n",
       "    <tr>\n",
       "      <th>...</th>\n",
       "      <td>...</td>\n",
       "      <td>...</td>\n",
       "      <td>...</td>\n",
       "      <td>...</td>\n",
       "      <td>...</td>\n",
       "      <td>...</td>\n",
       "      <td>...</td>\n",
       "    </tr>\n",
       "    <tr>\n",
       "      <th>11284</th>\n",
       "      <td>9.0</td>\n",
       "      <td>0</td>\n",
       "      <td>1.0</td>\n",
       "      <td>3.0</td>\n",
       "      <td>1</td>\n",
       "      <td>5.0</td>\n",
       "      <td>3.0</td>\n",
       "    </tr>\n",
       "    <tr>\n",
       "      <th>11964</th>\n",
       "      <td>3.0</td>\n",
       "      <td>0</td>\n",
       "      <td>6.0</td>\n",
       "      <td>6.0</td>\n",
       "      <td>0</td>\n",
       "      <td>5.0</td>\n",
       "      <td>3.0</td>\n",
       "    </tr>\n",
       "    <tr>\n",
       "      <th>5390</th>\n",
       "      <td>3.0</td>\n",
       "      <td>0</td>\n",
       "      <td>7.0</td>\n",
       "      <td>3.0</td>\n",
       "      <td>0</td>\n",
       "      <td>14.0</td>\n",
       "      <td>8.0</td>\n",
       "    </tr>\n",
       "    <tr>\n",
       "      <th>860</th>\n",
       "      <td>3.0</td>\n",
       "      <td>0</td>\n",
       "      <td>4.0</td>\n",
       "      <td>5.0</td>\n",
       "      <td>0</td>\n",
       "      <td>9.0</td>\n",
       "      <td>9.0</td>\n",
       "    </tr>\n",
       "    <tr>\n",
       "      <th>15795</th>\n",
       "      <td>0.0</td>\n",
       "      <td>0</td>\n",
       "      <td>3.0</td>\n",
       "      <td>5.0</td>\n",
       "      <td>0</td>\n",
       "      <td>14.0</td>\n",
       "      <td>6.0</td>\n",
       "    </tr>\n",
       "  </tbody>\n",
       "</table>\n",
       "<p>16671 rows × 7 columns</p>\n",
       "</div>"
      ],
      "text/plain": [
       "       Time_spent_Alone  Stage_fear  Social_event_attendance  Going_outside  \\\n",
       "11881               3.0           0                      4.0            5.0   \n",
       "5199                2.0           0                      7.0            3.0   \n",
       "17115               2.0           0                      7.0            5.0   \n",
       "14120               3.0           0                      4.0            4.0   \n",
       "6202                0.0           0                      3.0            3.0   \n",
       "...                 ...         ...                      ...            ...   \n",
       "11284               9.0           0                      1.0            3.0   \n",
       "11964               3.0           0                      6.0            6.0   \n",
       "5390                3.0           0                      7.0            3.0   \n",
       "860                 3.0           0                      4.0            5.0   \n",
       "15795               0.0           0                      3.0            5.0   \n",
       "\n",
       "       Drained_after_socializing  Friends_circle_size  Post_frequency  \n",
       "11881                          0                 10.0             7.0  \n",
       "5199                           0                  5.0             8.0  \n",
       "17115                          0                 12.0             4.0  \n",
       "14120                          0                 10.0             4.0  \n",
       "6202                           0                  6.0             5.0  \n",
       "...                          ...                  ...             ...  \n",
       "11284                          1                  5.0             3.0  \n",
       "11964                          0                  5.0             3.0  \n",
       "5390                           0                 14.0             8.0  \n",
       "860                            0                  9.0             9.0  \n",
       "15795                          0                 14.0             6.0  \n",
       "\n",
       "[16671 rows x 7 columns]"
      ]
     },
     "metadata": {},
     "output_type": "display_data"
    },
    {
     "name": "stdout",
     "output_type": "stream",
     "text": [
      "X_test:\n"
     ]
    },
    {
     "data": {
      "application/vnd.microsoft.datawrangler.viewer.v0+json": {
       "columns": [
        {
         "name": "index",
         "rawType": "int64",
         "type": "integer"
        },
        {
         "name": "Time_spent_Alone",
         "rawType": "float64",
         "type": "float"
        },
        {
         "name": "Stage_fear",
         "rawType": "int64",
         "type": "integer"
        },
        {
         "name": "Social_event_attendance",
         "rawType": "float64",
         "type": "float"
        },
        {
         "name": "Going_outside",
         "rawType": "float64",
         "type": "float"
        },
        {
         "name": "Drained_after_socializing",
         "rawType": "int64",
         "type": "integer"
        },
        {
         "name": "Friends_circle_size",
         "rawType": "float64",
         "type": "float"
        },
        {
         "name": "Post_frequency",
         "rawType": "float64",
         "type": "float"
        }
       ],
       "ref": "76fbd2da-b2c1-4a16-8da4-d05df9b708ed",
       "rows": [
        [
         "13209",
         "0.0",
         "0",
         "9.0",
         "7.0",
         "0",
         "8.0",
         "5.0"
        ],
        [
         "2740",
         "0.0",
         "0",
         "9.0",
         "5.0",
         "0",
         "6.0",
         "4.0"
        ],
        [
         "10249",
         "3.0",
         "0",
         "8.0",
         "7.0",
         "0",
         "10.0",
         "10.0"
        ],
        [
         "7608",
         "1.0",
         "0",
         "7.0",
         "5.0",
         "0",
         "12.0",
         "4.0"
        ],
        [
         "10528",
         "0.0",
         "0",
         "6.0",
         "4.0",
         "0",
         "6.0",
         "10.0"
        ],
        [
         "10242",
         "1.0",
         "0",
         "4.0",
         "6.0",
         "0",
         "14.0",
         "9.0"
        ],
        [
         "9162",
         "3.0",
         "0",
         "7.0",
         "7.0",
         "0",
         "8.0",
         "8.0"
        ],
        [
         "13113",
         "9.0",
         "1",
         "1.0",
         "3.0",
         "1",
         "4.0",
         "0.0"
        ],
        [
         "15335",
         "2.0",
         "0",
         "8.0",
         "6.0",
         "0",
         "14.0",
         "8.0"
        ],
        [
         "18196",
         "1.0",
         "0",
         "6.0",
         "6.0",
         "0",
         "14.0",
         "7.0"
        ],
        [
         "13371",
         "3.0",
         "0",
         "7.0",
         "5.0",
         "0",
         "7.0",
         "5.0"
        ],
        [
         "3353",
         "9.0",
         "1",
         "0.0",
         "2.0",
         "1",
         "4.0",
         "3.0"
        ],
        [
         "1182",
         "3.0",
         "0",
         "5.0",
         "7.0",
         "0",
         "10.0",
         "3.0"
        ],
        [
         "9270",
         "1.0",
         "0",
         "9.0",
         "5.0",
         "0",
         "11.0",
         "3.0"
        ],
        [
         "17376",
         "5.0",
         "0",
         "0.0",
         "2.0",
         "1",
         "2.0",
         "1.0"
        ],
        [
         "8694",
         "0.0",
         "0",
         "8.0",
         "5.0",
         "0",
         "13.0",
         "8.0"
        ],
        [
         "856",
         "9.0",
         "1",
         "2.0",
         "3.0",
         "1",
         "5.0",
         "1.0"
        ],
        [
         "705",
         "6.0",
         "1",
         "0.0",
         "1.0",
         "1",
         "5.0",
         "2.0"
        ],
        [
         "6451",
         "0.0",
         "0",
         "6.0",
         "4.0",
         "0",
         "11.0",
         "3.0"
        ],
        [
         "6624",
         "9.0",
         "1",
         "3.0",
         "1.0",
         "1",
         "5.0",
         "0.0"
        ],
        [
         "8591",
         "6.0",
         "1",
         "3.0",
         "0.0",
         "0",
         "3.0",
         "1.0"
        ],
        [
         "16603",
         "4.0",
         "1",
         "0.0",
         "1.0",
         "1",
         "5.0",
         "2.0"
        ],
        [
         "15213",
         "4.0",
         "0",
         "10.0",
         "5.0",
         "0",
         "11.0",
         "6.0"
        ],
        [
         "2279",
         "3.0",
         "0",
         "5.0",
         "4.0",
         "0",
         "4.0",
         "8.0"
        ],
        [
         "14066",
         "1.0",
         "0",
         "6.0",
         "6.0",
         "0",
         "10.0",
         "6.0"
        ],
        [
         "8965",
         "1.0",
         "0",
         "4.0",
         "3.0",
         "0",
         "7.0",
         "7.0"
        ],
        [
         "1157",
         "3.0",
         "0",
         "7.0",
         "5.0",
         "0",
         "14.0",
         "6.0"
        ],
        [
         "1163",
         "2.0",
         "0",
         "3.0",
         "5.0",
         "0",
         "14.0",
         "4.0"
        ],
        [
         "273",
         "1.0",
         "0",
         "5.0",
         "3.0",
         "0",
         "4.0",
         "7.0"
        ],
        [
         "16491",
         "3.0",
         "0",
         "8.0",
         "4.0",
         "0",
         "13.0",
         "4.0"
        ],
        [
         "6323",
         "9.0",
         "0",
         "3.0",
         "0.0",
         "1",
         "0.0",
         "0.0"
        ],
        [
         "3572",
         "2.0",
         "0",
         "4.0",
         "6.0",
         "0",
         "14.0",
         "9.0"
        ],
        [
         "3507",
         "1.0",
         "0",
         "8.0",
         "6.0",
         "0",
         "13.0",
         "5.0"
        ],
        [
         "11581",
         "5.0",
         "1",
         "2.0",
         "0.0",
         "1",
         "5.0",
         "3.0"
        ],
        [
         "13546",
         "1.0",
         "0",
         "8.0",
         "5.0",
         "0",
         "4.0",
         "5.0"
        ],
        [
         "18034",
         "9.0",
         "0",
         "0.0",
         "3.0",
         "1",
         "2.0",
         "2.0"
        ],
        [
         "8753",
         "6.0",
         "1",
         "4.0",
         "1.0",
         "1",
         "2.0",
         "0.0"
        ],
        [
         "4032",
         "1.0",
         "0",
         "6.0",
         "5.0",
         "0",
         "7.0",
         "6.0"
        ],
        [
         "15288",
         "2.0",
         "0",
         "5.0",
         "4.0",
         "0",
         "4.0",
         "6.0"
        ],
        [
         "6877",
         "2.0",
         "0",
         "5.0",
         "3.0",
         "0",
         "5.0",
         "5.0"
        ],
        [
         "14181",
         "1.0",
         "0",
         "8.0",
         "5.0",
         "0",
         "4.0",
         "6.0"
        ],
        [
         "16122",
         "0.0",
         "0",
         "5.0",
         "5.0",
         "0",
         "5.0",
         "9.0"
        ],
        [
         "11015",
         "0.0",
         "0",
         "6.0",
         "5.0",
         "0",
         "10.0",
         "7.0"
        ],
        [
         "4153",
         "2.0",
         "0",
         "5.0",
         "3.0",
         "0",
         "6.0",
         "6.0"
        ],
        [
         "2697",
         "0.0",
         "0",
         "3.0",
         "6.0",
         "0",
         "7.0",
         "7.0"
        ],
        [
         "16064",
         "11.0",
         "1",
         "2.0",
         "0.0",
         "1",
         "3.0",
         "3.0"
        ],
        [
         "18208",
         "1.0",
         "0",
         "8.0",
         "5.0",
         "0",
         "10.0",
         "6.0"
        ],
        [
         "251",
         "1.0",
         "0",
         "7.0",
         "6.0",
         "0",
         "5.0",
         "3.0"
        ],
        [
         "7771",
         "7.0",
         "1",
         "3.0",
         "1.0",
         "1",
         "4.0",
         "2.0"
        ],
        [
         "5863",
         "2.0",
         "0",
         "9.0",
         "4.0",
         "0",
         "11.0",
         "8.0"
        ]
       ],
       "shape": {
        "columns": 7,
        "rows": 1853
       }
      },
      "text/html": [
       "<div>\n",
       "<style scoped>\n",
       "    .dataframe tbody tr th:only-of-type {\n",
       "        vertical-align: middle;\n",
       "    }\n",
       "\n",
       "    .dataframe tbody tr th {\n",
       "        vertical-align: top;\n",
       "    }\n",
       "\n",
       "    .dataframe thead th {\n",
       "        text-align: right;\n",
       "    }\n",
       "</style>\n",
       "<table border=\"1\" class=\"dataframe\">\n",
       "  <thead>\n",
       "    <tr style=\"text-align: right;\">\n",
       "      <th></th>\n",
       "      <th>Time_spent_Alone</th>\n",
       "      <th>Stage_fear</th>\n",
       "      <th>Social_event_attendance</th>\n",
       "      <th>Going_outside</th>\n",
       "      <th>Drained_after_socializing</th>\n",
       "      <th>Friends_circle_size</th>\n",
       "      <th>Post_frequency</th>\n",
       "    </tr>\n",
       "  </thead>\n",
       "  <tbody>\n",
       "    <tr>\n",
       "      <th>13209</th>\n",
       "      <td>0.0</td>\n",
       "      <td>0</td>\n",
       "      <td>9.0</td>\n",
       "      <td>7.0</td>\n",
       "      <td>0</td>\n",
       "      <td>8.0</td>\n",
       "      <td>5.0</td>\n",
       "    </tr>\n",
       "    <tr>\n",
       "      <th>2740</th>\n",
       "      <td>0.0</td>\n",
       "      <td>0</td>\n",
       "      <td>9.0</td>\n",
       "      <td>5.0</td>\n",
       "      <td>0</td>\n",
       "      <td>6.0</td>\n",
       "      <td>4.0</td>\n",
       "    </tr>\n",
       "    <tr>\n",
       "      <th>10249</th>\n",
       "      <td>3.0</td>\n",
       "      <td>0</td>\n",
       "      <td>8.0</td>\n",
       "      <td>7.0</td>\n",
       "      <td>0</td>\n",
       "      <td>10.0</td>\n",
       "      <td>10.0</td>\n",
       "    </tr>\n",
       "    <tr>\n",
       "      <th>7608</th>\n",
       "      <td>1.0</td>\n",
       "      <td>0</td>\n",
       "      <td>7.0</td>\n",
       "      <td>5.0</td>\n",
       "      <td>0</td>\n",
       "      <td>12.0</td>\n",
       "      <td>4.0</td>\n",
       "    </tr>\n",
       "    <tr>\n",
       "      <th>10528</th>\n",
       "      <td>0.0</td>\n",
       "      <td>0</td>\n",
       "      <td>6.0</td>\n",
       "      <td>4.0</td>\n",
       "      <td>0</td>\n",
       "      <td>6.0</td>\n",
       "      <td>10.0</td>\n",
       "    </tr>\n",
       "    <tr>\n",
       "      <th>...</th>\n",
       "      <td>...</td>\n",
       "      <td>...</td>\n",
       "      <td>...</td>\n",
       "      <td>...</td>\n",
       "      <td>...</td>\n",
       "      <td>...</td>\n",
       "      <td>...</td>\n",
       "    </tr>\n",
       "    <tr>\n",
       "      <th>5658</th>\n",
       "      <td>1.0</td>\n",
       "      <td>0</td>\n",
       "      <td>9.0</td>\n",
       "      <td>5.0</td>\n",
       "      <td>0</td>\n",
       "      <td>10.0</td>\n",
       "      <td>8.0</td>\n",
       "    </tr>\n",
       "    <tr>\n",
       "      <th>8883</th>\n",
       "      <td>0.0</td>\n",
       "      <td>0</td>\n",
       "      <td>5.0</td>\n",
       "      <td>7.0</td>\n",
       "      <td>0</td>\n",
       "      <td>5.0</td>\n",
       "      <td>4.0</td>\n",
       "    </tr>\n",
       "    <tr>\n",
       "      <th>9093</th>\n",
       "      <td>8.0</td>\n",
       "      <td>1</td>\n",
       "      <td>3.0</td>\n",
       "      <td>2.0</td>\n",
       "      <td>1</td>\n",
       "      <td>1.0</td>\n",
       "      <td>3.0</td>\n",
       "    </tr>\n",
       "    <tr>\n",
       "      <th>9001</th>\n",
       "      <td>5.0</td>\n",
       "      <td>1</td>\n",
       "      <td>3.0</td>\n",
       "      <td>2.0</td>\n",
       "      <td>1</td>\n",
       "      <td>0.0</td>\n",
       "      <td>2.0</td>\n",
       "    </tr>\n",
       "    <tr>\n",
       "      <th>16550</th>\n",
       "      <td>2.0</td>\n",
       "      <td>0</td>\n",
       "      <td>4.0</td>\n",
       "      <td>6.0</td>\n",
       "      <td>0</td>\n",
       "      <td>8.0</td>\n",
       "      <td>3.0</td>\n",
       "    </tr>\n",
       "  </tbody>\n",
       "</table>\n",
       "<p>1853 rows × 7 columns</p>\n",
       "</div>"
      ],
      "text/plain": [
       "       Time_spent_Alone  Stage_fear  Social_event_attendance  Going_outside  \\\n",
       "13209               0.0           0                      9.0            7.0   \n",
       "2740                0.0           0                      9.0            5.0   \n",
       "10249               3.0           0                      8.0            7.0   \n",
       "7608                1.0           0                      7.0            5.0   \n",
       "10528               0.0           0                      6.0            4.0   \n",
       "...                 ...         ...                      ...            ...   \n",
       "5658                1.0           0                      9.0            5.0   \n",
       "8883                0.0           0                      5.0            7.0   \n",
       "9093                8.0           1                      3.0            2.0   \n",
       "9001                5.0           1                      3.0            2.0   \n",
       "16550               2.0           0                      4.0            6.0   \n",
       "\n",
       "       Drained_after_socializing  Friends_circle_size  Post_frequency  \n",
       "13209                          0                  8.0             5.0  \n",
       "2740                           0                  6.0             4.0  \n",
       "10249                          0                 10.0            10.0  \n",
       "7608                           0                 12.0             4.0  \n",
       "10528                          0                  6.0            10.0  \n",
       "...                          ...                  ...             ...  \n",
       "5658                           0                 10.0             8.0  \n",
       "8883                           0                  5.0             4.0  \n",
       "9093                           1                  1.0             3.0  \n",
       "9001                           1                  0.0             2.0  \n",
       "16550                          0                  8.0             3.0  \n",
       "\n",
       "[1853 rows x 7 columns]"
      ]
     },
     "metadata": {},
     "output_type": "display_data"
    },
    {
     "name": "stdout",
     "output_type": "stream",
     "text": [
      "y_train:\n"
     ]
    },
    {
     "data": {
      "application/vnd.microsoft.datawrangler.viewer.v0+json": {
       "columns": [
        {
         "name": "index",
         "rawType": "int64",
         "type": "integer"
        },
        {
         "name": "Personality",
         "rawType": "int64",
         "type": "integer"
        }
       ],
       "ref": "8234fdf7-a284-44bf-875d-87247acc9c01",
       "rows": [
        [
         "11881",
         "0"
        ],
        [
         "5199",
         "0"
        ],
        [
         "17115",
         "0"
        ],
        [
         "14120",
         "0"
        ],
        [
         "6202",
         "0"
        ],
        [
         "902",
         "1"
        ],
        [
         "17971",
         "0"
        ],
        [
         "11928",
         "0"
        ],
        [
         "181",
         "0"
        ],
        [
         "18448",
         "1"
        ],
        [
         "10264",
         "1"
        ],
        [
         "1383",
         "0"
        ],
        [
         "11092",
         "0"
        ],
        [
         "10479",
         "1"
        ],
        [
         "8500",
         "0"
        ],
        [
         "15489",
         "0"
        ],
        [
         "18377",
         "0"
        ],
        [
         "15720",
         "0"
        ],
        [
         "18318",
         "0"
        ],
        [
         "18434",
         "0"
        ],
        [
         "17482",
         "0"
        ],
        [
         "3599",
         "0"
        ],
        [
         "5598",
         "0"
        ],
        [
         "4202",
         "0"
        ],
        [
         "6907",
         "1"
        ],
        [
         "11832",
         "0"
        ],
        [
         "4767",
         "0"
        ],
        [
         "14535",
         "0"
        ],
        [
         "5702",
         "0"
        ],
        [
         "18470",
         "0"
        ],
        [
         "15947",
         "1"
        ],
        [
         "18195",
         "0"
        ],
        [
         "14843",
         "1"
        ],
        [
         "50",
         "1"
        ],
        [
         "4246",
         "1"
        ],
        [
         "6275",
         "1"
        ],
        [
         "7628",
         "0"
        ],
        [
         "8561",
         "0"
        ],
        [
         "13314",
         "0"
        ],
        [
         "16839",
         "1"
        ],
        [
         "5377",
         "0"
        ],
        [
         "17950",
         "0"
        ],
        [
         "10227",
         "0"
        ],
        [
         "410",
         "0"
        ],
        [
         "9431",
         "0"
        ],
        [
         "18463",
         "0"
        ],
        [
         "14387",
         "1"
        ],
        [
         "15377",
         "0"
        ],
        [
         "2312",
         "0"
        ],
        [
         "12401",
         "0"
        ]
       ],
       "shape": {
        "columns": 1,
        "rows": 16671
       }
      },
      "text/plain": [
       "11881    0\n",
       "5199     0\n",
       "17115    0\n",
       "14120    0\n",
       "6202     0\n",
       "        ..\n",
       "11284    1\n",
       "11964    0\n",
       "5390     0\n",
       "860      0\n",
       "15795    0\n",
       "Name: Personality, Length: 16671, dtype: int64"
      ]
     },
     "metadata": {},
     "output_type": "display_data"
    },
    {
     "name": "stdout",
     "output_type": "stream",
     "text": [
      "y_test:\n"
     ]
    },
    {
     "data": {
      "application/vnd.microsoft.datawrangler.viewer.v0+json": {
       "columns": [
        {
         "name": "index",
         "rawType": "int64",
         "type": "integer"
        },
        {
         "name": "Personality",
         "rawType": "int64",
         "type": "integer"
        }
       ],
       "ref": "e1175c80-6121-435b-8ccc-19cc635e16cb",
       "rows": [
        [
         "13209",
         "0"
        ],
        [
         "2740",
         "0"
        ],
        [
         "10249",
         "0"
        ],
        [
         "7608",
         "0"
        ],
        [
         "10528",
         "0"
        ],
        [
         "10242",
         "0"
        ],
        [
         "9162",
         "0"
        ],
        [
         "13113",
         "1"
        ],
        [
         "15335",
         "0"
        ],
        [
         "18196",
         "0"
        ],
        [
         "13371",
         "0"
        ],
        [
         "3353",
         "1"
        ],
        [
         "1182",
         "0"
        ],
        [
         "9270",
         "0"
        ],
        [
         "17376",
         "1"
        ],
        [
         "8694",
         "0"
        ],
        [
         "856",
         "1"
        ],
        [
         "705",
         "1"
        ],
        [
         "6451",
         "0"
        ],
        [
         "6624",
         "1"
        ],
        [
         "8591",
         "1"
        ],
        [
         "16603",
         "1"
        ],
        [
         "15213",
         "0"
        ],
        [
         "2279",
         "0"
        ],
        [
         "14066",
         "0"
        ],
        [
         "8965",
         "0"
        ],
        [
         "1157",
         "0"
        ],
        [
         "1163",
         "0"
        ],
        [
         "273",
         "0"
        ],
        [
         "16491",
         "0"
        ],
        [
         "6323",
         "1"
        ],
        [
         "3572",
         "0"
        ],
        [
         "3507",
         "0"
        ],
        [
         "11581",
         "1"
        ],
        [
         "13546",
         "0"
        ],
        [
         "18034",
         "1"
        ],
        [
         "8753",
         "1"
        ],
        [
         "4032",
         "0"
        ],
        [
         "15288",
         "0"
        ],
        [
         "6877",
         "0"
        ],
        [
         "14181",
         "0"
        ],
        [
         "16122",
         "0"
        ],
        [
         "11015",
         "0"
        ],
        [
         "4153",
         "0"
        ],
        [
         "2697",
         "0"
        ],
        [
         "16064",
         "1"
        ],
        [
         "18208",
         "0"
        ],
        [
         "251",
         "0"
        ],
        [
         "7771",
         "1"
        ],
        [
         "5863",
         "0"
        ]
       ],
       "shape": {
        "columns": 1,
        "rows": 1853
       }
      },
      "text/plain": [
       "13209    0\n",
       "2740     0\n",
       "10249    0\n",
       "7608     0\n",
       "10528    0\n",
       "        ..\n",
       "5658     0\n",
       "8883     0\n",
       "9093     1\n",
       "9001     1\n",
       "16550    0\n",
       "Name: Personality, Length: 1853, dtype: int64"
      ]
     },
     "metadata": {},
     "output_type": "display_data"
    }
   ],
   "source": [
    "X_train, X_test, y_train, y_test = train_test_split(\n",
    "    df.drop([\"id\", \"Personality\"], axis=1),\n",
    "    df[\"Personality\"],\n",
    "    test_size=0.1,\n",
    "    random_state=42\n",
    ")\n",
    "\n",
    "print(\"X_train:\")\n",
    "display(X_train)\n",
    "print(\"X_test:\")\n",
    "display(X_test)\n",
    "print(\"y_train:\")\n",
    "display(y_train)\n",
    "print(\"y_test:\")\n",
    "display(y_test)"
   ]
  },
  {
   "cell_type": "code",
   "execution_count": 83,
   "id": "f0b2ab6a",
   "metadata": {},
   "outputs": [
    {
     "name": "stdout",
     "output_type": "stream",
     "text": [
      "              precision    recall  f1-score   support\n",
      "\n",
      "           0       0.97      0.98      0.98      1356\n",
      "           1       0.95      0.93      0.94       497\n",
      "\n",
      "    accuracy                           0.97      1853\n",
      "   macro avg       0.96      0.96      0.96      1853\n",
      "weighted avg       0.97      0.97      0.97      1853\n",
      "\n"
     ]
    }
   ],
   "source": [
    "baysian_model = GaussianNB()\n",
    "baysian_model.fit(X_train, y_train)\n",
    "pred = baysian_model.predict(X_test)\n",
    "baysian_f1 = f1_score(y_test, pred, average='weighted')\n",
    "print(classification_report(y_test, pred))"
   ]
  },
  {
   "cell_type": "code",
   "execution_count": 84,
   "id": "28459622",
   "metadata": {},
   "outputs": [
    {
     "name": "stdout",
     "output_type": "stream",
     "text": [
      "Iteration 1, loss = 0.17133225\n",
      "Validation score: 0.965228\n",
      "Iteration 2, loss = 0.14720973\n",
      "Validation score: 0.965228\n",
      "Iteration 3, loss = 0.14268102\n",
      "Validation score: 0.964628\n",
      "Iteration 4, loss = 0.14313129\n",
      "Validation score: 0.965228\n",
      "Iteration 5, loss = 0.14147068\n",
      "Validation score: 0.965228\n",
      "Iteration 6, loss = 0.13815152\n",
      "Validation score: 0.965228\n",
      "Iteration 7, loss = 0.13594866\n",
      "Validation score: 0.965228\n",
      "Iteration 8, loss = 0.13627981\n",
      "Validation score: 0.965827\n",
      "Iteration 9, loss = 0.13552218\n",
      "Validation score: 0.964628\n",
      "Iteration 10, loss = 0.13371379\n",
      "Validation score: 0.965228\n",
      "Iteration 11, loss = 0.13471948\n",
      "Validation score: 0.964628\n",
      "Iteration 12, loss = 0.13209770\n",
      "Validation score: 0.964029\n",
      "Iteration 13, loss = 0.14191724\n",
      "Validation score: 0.965827\n",
      "Iteration 14, loss = 0.13359238\n",
      "Validation score: 0.965228\n",
      "Iteration 15, loss = 0.13059661\n",
      "Validation score: 0.964628\n",
      "Iteration 16, loss = 0.13114155\n",
      "Validation score: 0.965827\n",
      "Iteration 17, loss = 0.12915048\n",
      "Validation score: 0.964628\n",
      "Iteration 18, loss = 0.12948371\n",
      "Validation score: 0.964628\n",
      "Iteration 19, loss = 0.12963421\n",
      "Validation score: 0.965228\n",
      "Iteration 20, loss = 0.13032788\n",
      "Validation score: 0.965228\n",
      "Iteration 21, loss = 0.12765466\n",
      "Validation score: 0.965827\n",
      "Iteration 22, loss = 0.14466863\n",
      "Validation score: 0.965228\n",
      "Iteration 23, loss = 0.13217929\n",
      "Validation score: 0.964029\n",
      "Iteration 24, loss = 0.12933661\n",
      "Validation score: 0.965228\n",
      "Iteration 25, loss = 0.12940386\n",
      "Validation score: 0.964029\n",
      "Iteration 26, loss = 0.12741538\n",
      "Validation score: 0.965827\n",
      "Iteration 27, loss = 0.12775803\n",
      "Validation score: 0.964628\n",
      "Iteration 28, loss = 0.12806775\n",
      "Validation score: 0.966427\n",
      "Iteration 29, loss = 0.12758962\n",
      "Validation score: 0.964029\n",
      "Iteration 30, loss = 0.12642336\n",
      "Validation score: 0.964628\n",
      "Iteration 31, loss = 0.12516202\n",
      "Validation score: 0.964628\n",
      "Iteration 32, loss = 0.12490770\n",
      "Validation score: 0.965228\n",
      "Iteration 33, loss = 0.12632706\n",
      "Validation score: 0.964628\n",
      "Iteration 34, loss = 0.12447268\n",
      "Validation score: 0.964628\n",
      "Iteration 35, loss = 0.12573575\n",
      "Validation score: 0.964628\n",
      "Iteration 36, loss = 0.12444223\n",
      "Validation score: 0.964628\n",
      "Iteration 37, loss = 0.12765104\n",
      "Validation score: 0.964029\n",
      "Iteration 38, loss = 0.12297757\n",
      "Validation score: 0.964029\n",
      "Iteration 39, loss = 0.12382869\n",
      "Validation score: 0.964628\n",
      "Iteration 40, loss = 0.12487862\n",
      "Validation score: 0.965228\n",
      "Iteration 41, loss = 0.12313024\n",
      "Validation score: 0.963429\n",
      "Iteration 42, loss = 0.12182099\n",
      "Validation score: 0.964628\n",
      "Iteration 43, loss = 0.12154761\n",
      "Validation score: 0.964628\n",
      "Iteration 44, loss = 0.12192271\n",
      "Validation score: 0.964029\n",
      "Iteration 45, loss = 0.12282566\n",
      "Validation score: 0.964029\n",
      "Iteration 46, loss = 0.12861983\n",
      "Validation score: 0.964628\n",
      "Iteration 47, loss = 0.12288389\n",
      "Validation score: 0.964628\n",
      "Iteration 48, loss = 0.12247862\n",
      "Validation score: 0.962830\n",
      "Iteration 49, loss = 0.12281182\n",
      "Validation score: 0.964029\n",
      "Validation score did not improve more than tol=0.000100 for 20 consecutive epochs. Stopping.\n",
      "              precision    recall  f1-score   support\n",
      "\n",
      "           0       0.98      0.98      0.98      1356\n",
      "           1       0.95      0.93      0.94       497\n",
      "\n",
      "    accuracy                           0.97      1853\n",
      "   macro avg       0.97      0.96      0.96      1853\n",
      "weighted avg       0.97      0.97      0.97      1853\n",
      "\n"
     ]
    }
   ],
   "source": [
    "MLP_model = MLPClassifier(\n",
    "    hidden_layer_sizes=(1000, 1000),\n",
    "    learning_rate=\"adaptive\",\n",
    "    early_stopping=True,\n",
    "    n_iter_no_change=20,\n",
    "    verbose=True\n",
    ")\n",
    "MLP_model.fit(X_train, y_train)\n",
    "pred = MLP_model.predict(X_test)\n",
    "MLP_f1 = f1_score(y_test, pred, average='weighted')\n",
    "print(classification_report(y_test, pred))"
   ]
  },
  {
   "cell_type": "code",
   "execution_count": 85,
   "id": "49115f69",
   "metadata": {},
   "outputs": [
    {
     "name": "stdout",
     "output_type": "stream",
     "text": [
      "Baysian F1: 0.9685771044172841\n",
      "MLP Classifier F1: 0.9702122823930882\n",
      "MLP Classifier better\n"
     ]
    }
   ],
   "source": [
    "print(\"Baysian F1:\", baysian_f1)\n",
    "print(\"MLP Classifier F1:\", MLP_f1)\n",
    "\n",
    "if MLP_f1 > baysian_f1:\n",
    "    model = MLP_model\n",
    "    print(\"MLP Classifier better\")\n",
    "else:\n",
    "    model = baysian_model\n",
    "    print(\"Baysian better\")"
   ]
  },
  {
   "cell_type": "code",
   "execution_count": 86,
   "id": "487f3367",
   "metadata": {},
   "outputs": [
    {
     "data": {
      "application/vnd.microsoft.datawrangler.viewer.v0+json": {
       "columns": [
        {
         "name": "index",
         "rawType": "int64",
         "type": "integer"
        },
        {
         "name": "id",
         "rawType": "int64",
         "type": "integer"
        },
        {
         "name": "Time_spent_Alone",
         "rawType": "float64",
         "type": "float"
        },
        {
         "name": "Stage_fear",
         "rawType": "int64",
         "type": "integer"
        },
        {
         "name": "Social_event_attendance",
         "rawType": "float64",
         "type": "float"
        },
        {
         "name": "Going_outside",
         "rawType": "float64",
         "type": "float"
        },
        {
         "name": "Drained_after_socializing",
         "rawType": "int64",
         "type": "integer"
        },
        {
         "name": "Friends_circle_size",
         "rawType": "float64",
         "type": "float"
        },
        {
         "name": "Post_frequency",
         "rawType": "float64",
         "type": "float"
        }
       ],
       "ref": "2ed80ba9-c90e-41b6-86b6-0a47eb5a79a8",
       "rows": [
        [
         "0",
         "18524",
         "3.0",
         "0",
         "7.0",
         "4.0",
         "0",
         "6.0",
         "3.0"
        ],
        [
         "1",
         "18525",
         "0.0",
         "1",
         "0.0",
         "0.0",
         "1",
         "5.0",
         "1.0"
        ],
        [
         "2",
         "18526",
         "3.0",
         "0",
         "5.0",
         "6.0",
         "0",
         "15.0",
         "9.0"
        ],
        [
         "3",
         "18527",
         "3.0",
         "0",
         "4.0",
         "4.0",
         "0",
         "5.0",
         "6.0"
        ],
        [
         "4",
         "18528",
         "9.0",
         "1",
         "1.0",
         "2.0",
         "1",
         "1.0",
         "1.0"
        ],
        [
         "5",
         "18529",
         "2.0",
         "0",
         "5.0",
         "3.0",
         "0",
         "10.0",
         "4.0"
        ],
        [
         "6",
         "18530",
         "3.0",
         "0",
         "4.0",
         "5.0",
         "0",
         "15.0",
         "5.0"
        ],
        [
         "7",
         "18531",
         "11.0",
         "1",
         "2.0",
         "1.0",
         "1",
         "4.0",
         "1.0"
        ],
        [
         "8",
         "18532",
         "2.0",
         "0",
         "6.0",
         "3.0",
         "0",
         "9.0",
         "6.0"
        ],
        [
         "9",
         "18533",
         "8.0",
         "0",
         "2.0",
         "1.0",
         "1",
         "1.0",
         "1.0"
        ],
        [
         "10",
         "18534",
         "3.0",
         "0",
         "7.0",
         "3.0",
         "0",
         "15.0",
         "9.0"
        ],
        [
         "11",
         "18535",
         "1.0",
         "0",
         "7.0",
         "6.0",
         "0",
         "14.0",
         "10.0"
        ],
        [
         "12",
         "18536",
         "0.0",
         "1",
         "1.0",
         "1.0",
         "1",
         "5.0",
         "1.0"
        ],
        [
         "13",
         "18537",
         "0.0",
         "0",
         "9.0",
         "6.0",
         "0",
         "6.0",
         "9.0"
        ],
        [
         "14",
         "18538",
         "9.0",
         "1",
         "1.0",
         "0.0",
         "1",
         "3.0",
         "3.0"
        ],
        [
         "15",
         "18539",
         "1.0",
         "0",
         "8.0",
         "7.0",
         "0",
         "14.0",
         "3.0"
        ],
        [
         "16",
         "18540",
         "3.0",
         "0",
         "9.0",
         "6.0",
         "0",
         "6.0",
         "6.0"
        ],
        [
         "17",
         "18541",
         "3.0",
         "0",
         "6.0",
         "7.0",
         "0",
         "15.0",
         "3.0"
        ],
        [
         "18",
         "18542",
         "11.0",
         "1",
         "2.0",
         "0.0",
         "0",
         "0.0",
         "2.0"
        ],
        [
         "19",
         "18543",
         "3.0",
         "0",
         "8.0",
         "7.0",
         "0",
         "7.0",
         "5.0"
        ],
        [
         "20",
         "18544",
         "11.0",
         "1",
         "3.0",
         "1.0",
         "1",
         "5.0",
         "1.0"
        ],
        [
         "21",
         "18545",
         "10.0",
         "1",
         "0.0",
         "3.0",
         "1",
         "5.0",
         "1.0"
        ],
        [
         "22",
         "18546",
         "0.0",
         "0",
         "6.0",
         "6.0",
         "0",
         "15.0",
         "7.0"
        ],
        [
         "23",
         "18547",
         "4.0",
         "0",
         "2.0",
         "0.0",
         "1",
         "3.0",
         "3.0"
        ],
        [
         "24",
         "18548",
         "0.0",
         "0",
         "4.0",
         "3.0",
         "0",
         "12.0",
         "8.0"
        ],
        [
         "25",
         "18549",
         "3.0",
         "0",
         "4.0",
         "4.0",
         "0",
         "8.0",
         "6.0"
        ],
        [
         "26",
         "18550",
         "2.0",
         "0",
         "7.0",
         "5.0",
         "0",
         "10.0",
         "7.0"
        ],
        [
         "27",
         "18551",
         "2.0",
         "0",
         "4.0",
         "3.0",
         "0",
         "7.0",
         "3.0"
        ],
        [
         "28",
         "18552",
         "5.0",
         "1",
         "2.0",
         "2.0",
         "1",
         "2.0",
         "1.0"
        ],
        [
         "29",
         "18553",
         "9.0",
         "1",
         "2.0",
         "3.0",
         "1",
         "4.0",
         "1.0"
        ],
        [
         "30",
         "18554",
         "3.0",
         "0",
         "5.0",
         "5.0",
         "0",
         "13.0",
         "9.0"
        ],
        [
         "31",
         "18555",
         "0.0",
         "0",
         "4.0",
         "7.0",
         "0",
         "5.0",
         "6.0"
        ],
        [
         "32",
         "18556",
         "8.0",
         "1",
         "0.0",
         "2.0",
         "1",
         "2.0",
         "0.0"
        ],
        [
         "33",
         "18557",
         "3.0",
         "0",
         "6.0",
         "6.0",
         "0",
         "10.0",
         "4.0"
        ],
        [
         "34",
         "18558",
         "0.0",
         "0",
         "8.0",
         "4.0",
         "0",
         "5.0",
         "4.0"
        ],
        [
         "35",
         "18559",
         "0.0",
         "0",
         "5.0",
         "3.0",
         "0",
         "9.0",
         "3.0"
        ],
        [
         "36",
         "18560",
         "3.0",
         "0",
         "10.0",
         "7.0",
         "0",
         "11.0",
         "7.0"
        ],
        [
         "37",
         "18561",
         "3.0",
         "0",
         "8.0",
         "4.0",
         "0",
         "13.0",
         "7.0"
        ],
        [
         "38",
         "18562",
         "3.0",
         "0",
         "8.0",
         "3.0",
         "0",
         "12.0",
         "6.0"
        ],
        [
         "39",
         "18563",
         "1.0",
         "0",
         "5.0",
         "6.0",
         "0",
         "9.0",
         "9.0"
        ],
        [
         "40",
         "18564",
         "6.0",
         "1",
         "1.0",
         "3.0",
         "1",
         "1.0",
         "1.0"
        ],
        [
         "41",
         "18565",
         "4.0",
         "1",
         "3.0",
         "3.0",
         "1",
         "3.0",
         "2.0"
        ],
        [
         "42",
         "18566",
         "6.0",
         "1",
         "9.0",
         "2.0",
         "1",
         "5.0",
         "2.0"
        ],
        [
         "43",
         "18567",
         "6.0",
         "1",
         "0.0",
         "1.0",
         "1",
         "10.0",
         "1.0"
        ],
        [
         "44",
         "18568",
         "0.0",
         "0",
         "6.0",
         "4.0",
         "0",
         "6.0",
         "5.0"
        ],
        [
         "45",
         "18569",
         "8.0",
         "1",
         "3.0",
         "0.0",
         "0",
         "3.0",
         "1.0"
        ],
        [
         "46",
         "18570",
         "0.0",
         "0",
         "7.0",
         "3.0",
         "0",
         "10.0",
         "6.0"
        ],
        [
         "47",
         "18571",
         "7.0",
         "1",
         "2.0",
         "1.0",
         "1",
         "3.0",
         "2.0"
        ],
        [
         "48",
         "18572",
         "2.0",
         "0",
         "9.0",
         "7.0",
         "0",
         "14.0",
         "5.0"
        ],
        [
         "49",
         "18573",
         "2.0",
         "0",
         "6.0",
         "7.0",
         "0",
         "8.0",
         "7.0"
        ]
       ],
       "shape": {
        "columns": 8,
        "rows": 6175
       }
      },
      "text/html": [
       "<div>\n",
       "<style scoped>\n",
       "    .dataframe tbody tr th:only-of-type {\n",
       "        vertical-align: middle;\n",
       "    }\n",
       "\n",
       "    .dataframe tbody tr th {\n",
       "        vertical-align: top;\n",
       "    }\n",
       "\n",
       "    .dataframe thead th {\n",
       "        text-align: right;\n",
       "    }\n",
       "</style>\n",
       "<table border=\"1\" class=\"dataframe\">\n",
       "  <thead>\n",
       "    <tr style=\"text-align: right;\">\n",
       "      <th></th>\n",
       "      <th>id</th>\n",
       "      <th>Time_spent_Alone</th>\n",
       "      <th>Stage_fear</th>\n",
       "      <th>Social_event_attendance</th>\n",
       "      <th>Going_outside</th>\n",
       "      <th>Drained_after_socializing</th>\n",
       "      <th>Friends_circle_size</th>\n",
       "      <th>Post_frequency</th>\n",
       "    </tr>\n",
       "  </thead>\n",
       "  <tbody>\n",
       "    <tr>\n",
       "      <th>0</th>\n",
       "      <td>18524</td>\n",
       "      <td>3.0</td>\n",
       "      <td>0</td>\n",
       "      <td>7.0</td>\n",
       "      <td>4.0</td>\n",
       "      <td>0</td>\n",
       "      <td>6.0</td>\n",
       "      <td>3.0</td>\n",
       "    </tr>\n",
       "    <tr>\n",
       "      <th>1</th>\n",
       "      <td>18525</td>\n",
       "      <td>0.0</td>\n",
       "      <td>1</td>\n",
       "      <td>0.0</td>\n",
       "      <td>0.0</td>\n",
       "      <td>1</td>\n",
       "      <td>5.0</td>\n",
       "      <td>1.0</td>\n",
       "    </tr>\n",
       "    <tr>\n",
       "      <th>2</th>\n",
       "      <td>18526</td>\n",
       "      <td>3.0</td>\n",
       "      <td>0</td>\n",
       "      <td>5.0</td>\n",
       "      <td>6.0</td>\n",
       "      <td>0</td>\n",
       "      <td>15.0</td>\n",
       "      <td>9.0</td>\n",
       "    </tr>\n",
       "    <tr>\n",
       "      <th>3</th>\n",
       "      <td>18527</td>\n",
       "      <td>3.0</td>\n",
       "      <td>0</td>\n",
       "      <td>4.0</td>\n",
       "      <td>4.0</td>\n",
       "      <td>0</td>\n",
       "      <td>5.0</td>\n",
       "      <td>6.0</td>\n",
       "    </tr>\n",
       "    <tr>\n",
       "      <th>4</th>\n",
       "      <td>18528</td>\n",
       "      <td>9.0</td>\n",
       "      <td>1</td>\n",
       "      <td>1.0</td>\n",
       "      <td>2.0</td>\n",
       "      <td>1</td>\n",
       "      <td>1.0</td>\n",
       "      <td>1.0</td>\n",
       "    </tr>\n",
       "    <tr>\n",
       "      <th>...</th>\n",
       "      <td>...</td>\n",
       "      <td>...</td>\n",
       "      <td>...</td>\n",
       "      <td>...</td>\n",
       "      <td>...</td>\n",
       "      <td>...</td>\n",
       "      <td>...</td>\n",
       "      <td>...</td>\n",
       "    </tr>\n",
       "    <tr>\n",
       "      <th>6170</th>\n",
       "      <td>24694</td>\n",
       "      <td>3.0</td>\n",
       "      <td>0</td>\n",
       "      <td>5.0</td>\n",
       "      <td>5.0</td>\n",
       "      <td>0</td>\n",
       "      <td>9.0</td>\n",
       "      <td>6.0</td>\n",
       "    </tr>\n",
       "    <tr>\n",
       "      <th>6171</th>\n",
       "      <td>24695</td>\n",
       "      <td>8.0</td>\n",
       "      <td>1</td>\n",
       "      <td>2.0</td>\n",
       "      <td>1.0</td>\n",
       "      <td>1</td>\n",
       "      <td>0.0</td>\n",
       "      <td>0.0</td>\n",
       "    </tr>\n",
       "    <tr>\n",
       "      <th>6172</th>\n",
       "      <td>24696</td>\n",
       "      <td>2.0</td>\n",
       "      <td>0</td>\n",
       "      <td>4.0</td>\n",
       "      <td>3.0</td>\n",
       "      <td>0</td>\n",
       "      <td>9.0</td>\n",
       "      <td>7.0</td>\n",
       "    </tr>\n",
       "    <tr>\n",
       "      <th>6173</th>\n",
       "      <td>24697</td>\n",
       "      <td>3.0</td>\n",
       "      <td>0</td>\n",
       "      <td>4.0</td>\n",
       "      <td>4.0</td>\n",
       "      <td>0</td>\n",
       "      <td>11.0</td>\n",
       "      <td>9.0</td>\n",
       "    </tr>\n",
       "    <tr>\n",
       "      <th>6174</th>\n",
       "      <td>24698</td>\n",
       "      <td>0.0</td>\n",
       "      <td>1</td>\n",
       "      <td>1.0</td>\n",
       "      <td>1.0</td>\n",
       "      <td>1</td>\n",
       "      <td>1.0</td>\n",
       "      <td>0.0</td>\n",
       "    </tr>\n",
       "  </tbody>\n",
       "</table>\n",
       "<p>6175 rows × 8 columns</p>\n",
       "</div>"
      ],
      "text/plain": [
       "         id  Time_spent_Alone  Stage_fear  Social_event_attendance  \\\n",
       "0     18524               3.0           0                      7.0   \n",
       "1     18525               0.0           1                      0.0   \n",
       "2     18526               3.0           0                      5.0   \n",
       "3     18527               3.0           0                      4.0   \n",
       "4     18528               9.0           1                      1.0   \n",
       "...     ...               ...         ...                      ...   \n",
       "6170  24694               3.0           0                      5.0   \n",
       "6171  24695               8.0           1                      2.0   \n",
       "6172  24696               2.0           0                      4.0   \n",
       "6173  24697               3.0           0                      4.0   \n",
       "6174  24698               0.0           1                      1.0   \n",
       "\n",
       "      Going_outside  Drained_after_socializing  Friends_circle_size  \\\n",
       "0               4.0                          0                  6.0   \n",
       "1               0.0                          1                  5.0   \n",
       "2               6.0                          0                 15.0   \n",
       "3               4.0                          0                  5.0   \n",
       "4               2.0                          1                  1.0   \n",
       "...             ...                        ...                  ...   \n",
       "6170            5.0                          0                  9.0   \n",
       "6171            1.0                          1                  0.0   \n",
       "6172            3.0                          0                  9.0   \n",
       "6173            4.0                          0                 11.0   \n",
       "6174            1.0                          1                  1.0   \n",
       "\n",
       "      Post_frequency  \n",
       "0                3.0  \n",
       "1                1.0  \n",
       "2                9.0  \n",
       "3                6.0  \n",
       "4                1.0  \n",
       "...              ...  \n",
       "6170             6.0  \n",
       "6171             0.0  \n",
       "6172             7.0  \n",
       "6173             9.0  \n",
       "6174             0.0  \n",
       "\n",
       "[6175 rows x 8 columns]"
      ]
     },
     "metadata": {},
     "output_type": "display_data"
    }
   ],
   "source": [
    "sub_df = pd.read_csv(\"../data/test.csv\")\n",
    "imputer = SimpleImputer(strategy=\"most_frequent\")\n",
    "le = LabelEncoder()\n",
    "for feature in sub_df.columns:\n",
    "    sub_df[feature] = imputer.fit_transform(sub_df[[feature]]).flatten()\n",
    "    if feature == \"Stage_fear\" or feature == \"Drained_after_socializing\":\n",
    "        sub_df[feature] = le.fit_transform(sub_df[feature])\n",
    "display(sub_df)"
   ]
  },
  {
   "cell_type": "code",
   "execution_count": 88,
   "id": "3964fab7",
   "metadata": {},
   "outputs": [
    {
     "data": {
      "application/vnd.microsoft.datawrangler.viewer.v0+json": {
       "columns": [
        {
         "name": "index",
         "rawType": "int64",
         "type": "integer"
        },
        {
         "name": "id",
         "rawType": "int64",
         "type": "integer"
        },
        {
         "name": "Personality",
         "rawType": "object",
         "type": "string"
        }
       ],
       "ref": "21c0f4e0-9817-4fb6-89d2-c8846d3434c6",
       "rows": [
        [
         "0",
         "18524",
         "Extrovert"
        ],
        [
         "1",
         "18525",
         "Introvert"
        ],
        [
         "2",
         "18526",
         "Extrovert"
        ],
        [
         "3",
         "18527",
         "Extrovert"
        ],
        [
         "4",
         "18528",
         "Introvert"
        ],
        [
         "5",
         "18529",
         "Extrovert"
        ],
        [
         "6",
         "18530",
         "Extrovert"
        ],
        [
         "7",
         "18531",
         "Introvert"
        ],
        [
         "8",
         "18532",
         "Extrovert"
        ],
        [
         "9",
         "18533",
         "Introvert"
        ],
        [
         "10",
         "18534",
         "Extrovert"
        ],
        [
         "11",
         "18535",
         "Extrovert"
        ],
        [
         "12",
         "18536",
         "Introvert"
        ],
        [
         "13",
         "18537",
         "Extrovert"
        ],
        [
         "14",
         "18538",
         "Introvert"
        ],
        [
         "15",
         "18539",
         "Extrovert"
        ],
        [
         "16",
         "18540",
         "Extrovert"
        ],
        [
         "17",
         "18541",
         "Extrovert"
        ],
        [
         "18",
         "18542",
         "Introvert"
        ],
        [
         "19",
         "18543",
         "Extrovert"
        ],
        [
         "20",
         "18544",
         "Introvert"
        ],
        [
         "21",
         "18545",
         "Introvert"
        ],
        [
         "22",
         "18546",
         "Extrovert"
        ],
        [
         "23",
         "18547",
         "Introvert"
        ],
        [
         "24",
         "18548",
         "Extrovert"
        ],
        [
         "25",
         "18549",
         "Extrovert"
        ],
        [
         "26",
         "18550",
         "Extrovert"
        ],
        [
         "27",
         "18551",
         "Extrovert"
        ],
        [
         "28",
         "18552",
         "Introvert"
        ],
        [
         "29",
         "18553",
         "Introvert"
        ],
        [
         "30",
         "18554",
         "Extrovert"
        ],
        [
         "31",
         "18555",
         "Extrovert"
        ],
        [
         "32",
         "18556",
         "Introvert"
        ],
        [
         "33",
         "18557",
         "Extrovert"
        ],
        [
         "34",
         "18558",
         "Extrovert"
        ],
        [
         "35",
         "18559",
         "Extrovert"
        ],
        [
         "36",
         "18560",
         "Extrovert"
        ],
        [
         "37",
         "18561",
         "Extrovert"
        ],
        [
         "38",
         "18562",
         "Extrovert"
        ],
        [
         "39",
         "18563",
         "Extrovert"
        ],
        [
         "40",
         "18564",
         "Introvert"
        ],
        [
         "41",
         "18565",
         "Introvert"
        ],
        [
         "42",
         "18566",
         "Introvert"
        ],
        [
         "43",
         "18567",
         "Introvert"
        ],
        [
         "44",
         "18568",
         "Extrovert"
        ],
        [
         "45",
         "18569",
         "Introvert"
        ],
        [
         "46",
         "18570",
         "Extrovert"
        ],
        [
         "47",
         "18571",
         "Introvert"
        ],
        [
         "48",
         "18572",
         "Extrovert"
        ],
        [
         "49",
         "18573",
         "Extrovert"
        ]
       ],
       "shape": {
        "columns": 2,
        "rows": 6175
       }
      },
      "text/html": [
       "<div>\n",
       "<style scoped>\n",
       "    .dataframe tbody tr th:only-of-type {\n",
       "        vertical-align: middle;\n",
       "    }\n",
       "\n",
       "    .dataframe tbody tr th {\n",
       "        vertical-align: top;\n",
       "    }\n",
       "\n",
       "    .dataframe thead th {\n",
       "        text-align: right;\n",
       "    }\n",
       "</style>\n",
       "<table border=\"1\" class=\"dataframe\">\n",
       "  <thead>\n",
       "    <tr style=\"text-align: right;\">\n",
       "      <th></th>\n",
       "      <th>id</th>\n",
       "      <th>Personality</th>\n",
       "    </tr>\n",
       "  </thead>\n",
       "  <tbody>\n",
       "    <tr>\n",
       "      <th>0</th>\n",
       "      <td>18524</td>\n",
       "      <td>Extrovert</td>\n",
       "    </tr>\n",
       "    <tr>\n",
       "      <th>1</th>\n",
       "      <td>18525</td>\n",
       "      <td>Introvert</td>\n",
       "    </tr>\n",
       "    <tr>\n",
       "      <th>2</th>\n",
       "      <td>18526</td>\n",
       "      <td>Extrovert</td>\n",
       "    </tr>\n",
       "    <tr>\n",
       "      <th>3</th>\n",
       "      <td>18527</td>\n",
       "      <td>Extrovert</td>\n",
       "    </tr>\n",
       "    <tr>\n",
       "      <th>4</th>\n",
       "      <td>18528</td>\n",
       "      <td>Introvert</td>\n",
       "    </tr>\n",
       "    <tr>\n",
       "      <th>...</th>\n",
       "      <td>...</td>\n",
       "      <td>...</td>\n",
       "    </tr>\n",
       "    <tr>\n",
       "      <th>6170</th>\n",
       "      <td>24694</td>\n",
       "      <td>Extrovert</td>\n",
       "    </tr>\n",
       "    <tr>\n",
       "      <th>6171</th>\n",
       "      <td>24695</td>\n",
       "      <td>Introvert</td>\n",
       "    </tr>\n",
       "    <tr>\n",
       "      <th>6172</th>\n",
       "      <td>24696</td>\n",
       "      <td>Extrovert</td>\n",
       "    </tr>\n",
       "    <tr>\n",
       "      <th>6173</th>\n",
       "      <td>24697</td>\n",
       "      <td>Extrovert</td>\n",
       "    </tr>\n",
       "    <tr>\n",
       "      <th>6174</th>\n",
       "      <td>24698</td>\n",
       "      <td>Introvert</td>\n",
       "    </tr>\n",
       "  </tbody>\n",
       "</table>\n",
       "<p>6175 rows × 2 columns</p>\n",
       "</div>"
      ],
      "text/plain": [
       "         id Personality\n",
       "0     18524   Extrovert\n",
       "1     18525   Introvert\n",
       "2     18526   Extrovert\n",
       "3     18527   Extrovert\n",
       "4     18528   Introvert\n",
       "...     ...         ...\n",
       "6170  24694   Extrovert\n",
       "6171  24695   Introvert\n",
       "6172  24696   Extrovert\n",
       "6173  24697   Extrovert\n",
       "6174  24698   Introvert\n",
       "\n",
       "[6175 rows x 2 columns]"
      ]
     },
     "metadata": {},
     "output_type": "display_data"
    }
   ],
   "source": [
    "sub_pred = model.predict(sub_df.drop([\"id\"], axis=1))\n",
    "sub_pred = [\"Extrovert\" if e == 0 else \"Introvert\" for e in sub_pred]\n",
    "submission = pd.DataFrame({\"id\": sub_df[\"id\"], \"Personality\": sub_pred})\n",
    "display(submission)\n",
    "submission.to_csv(\"../data/submission.csv\", index=False)"
   ]
  }
 ],
 "metadata": {
  "kernelspec": {
   "display_name": "Python 3",
   "language": "python",
   "name": "python3"
  },
  "language_info": {
   "codemirror_mode": {
    "name": "ipython",
    "version": 3
   },
   "file_extension": ".py",
   "mimetype": "text/x-python",
   "name": "python",
   "nbconvert_exporter": "python",
   "pygments_lexer": "ipython3",
   "version": "3.13.4"
  }
 },
 "nbformat": 4,
 "nbformat_minor": 5
}
