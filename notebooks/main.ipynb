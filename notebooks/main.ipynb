{
 "cells": [
  {
   "cell_type": "code",
   "execution_count": 1,
   "id": "664df541",
   "metadata": {},
   "outputs": [],
   "source": [
    "import pandas as pd\n",
    "import numpy as np\n",
    "from sklearn.model_selection import train_test_split\n",
    "from sklearn.naive_bayes import GaussianNB\n",
    "from sklearn.preprocessing import LabelEncoder\n",
    "from sklearn.metrics import f1_score, classification_report\n",
    "from sklearn.impute import SimpleImputer\n",
    "from sklearn.neural_network import MLPClassifier\n",
    "from sklearn.linear_model import SGDClassifier\n",
    "from sklearn.pipeline import make_pipeline"
   ]
  },
  {
   "cell_type": "code",
   "execution_count": 2,
   "id": "cd0ec8f7",
   "metadata": {},
   "outputs": [
    {
     "name": "stdout",
     "output_type": "stream",
     "text": [
      "Raw DataFrame:\n"
     ]
    },
    {
     "data": {
      "application/vnd.microsoft.datawrangler.viewer.v0+json": {
       "columns": [
        {
         "name": "index",
         "rawType": "int64",
         "type": "integer"
        },
        {
         "name": "Time_spent_Alone",
         "rawType": "float64",
         "type": "float"
        },
        {
         "name": "Stage_fear",
         "rawType": "object",
         "type": "string"
        },
        {
         "name": "Social_event_attendance",
         "rawType": "float64",
         "type": "float"
        },
        {
         "name": "Going_outside",
         "rawType": "float64",
         "type": "float"
        },
        {
         "name": "Drained_after_socializing",
         "rawType": "object",
         "type": "unknown"
        },
        {
         "name": "Friends_circle_size",
         "rawType": "float64",
         "type": "float"
        },
        {
         "name": "Post_frequency",
         "rawType": "float64",
         "type": "float"
        },
        {
         "name": "Personality",
         "rawType": "object",
         "type": "string"
        }
       ],
       "ref": "76c37fff-b7a8-4739-a17d-76220ecc45ae",
       "rows": [
        [
         "0",
         "0.0",
         "No",
         "6.0",
         "4.0",
         "No",
         "15.0",
         "5.0",
         "Extrovert"
        ],
        [
         "1",
         "1.0",
         "No",
         "7.0",
         "3.0",
         "No",
         "10.0",
         "8.0",
         "Extrovert"
        ],
        [
         "2",
         "6.0",
         "Yes",
         "1.0",
         "0.0",
         null,
         "3.0",
         "0.0",
         "Introvert"
        ],
        [
         "3",
         "3.0",
         "No",
         "7.0",
         "3.0",
         "No",
         "11.0",
         "5.0",
         "Extrovert"
        ],
        [
         "4",
         "1.0",
         "No",
         "4.0",
         "4.0",
         "No",
         "13.0",
         null,
         "Extrovert"
        ],
        [
         "5",
         "2.0",
         "No",
         "8.0",
         "5.0",
         "No",
         null,
         "3.0",
         "Extrovert"
        ]
       ],
       "shape": {
        "columns": 8,
        "rows": 6
       }
      },
      "text/html": [
       "<div>\n",
       "<style scoped>\n",
       "    .dataframe tbody tr th:only-of-type {\n",
       "        vertical-align: middle;\n",
       "    }\n",
       "\n",
       "    .dataframe tbody tr th {\n",
       "        vertical-align: top;\n",
       "    }\n",
       "\n",
       "    .dataframe thead th {\n",
       "        text-align: right;\n",
       "    }\n",
       "</style>\n",
       "<table border=\"1\" class=\"dataframe\">\n",
       "  <thead>\n",
       "    <tr style=\"text-align: right;\">\n",
       "      <th></th>\n",
       "      <th>Time_spent_Alone</th>\n",
       "      <th>Stage_fear</th>\n",
       "      <th>Social_event_attendance</th>\n",
       "      <th>Going_outside</th>\n",
       "      <th>Drained_after_socializing</th>\n",
       "      <th>Friends_circle_size</th>\n",
       "      <th>Post_frequency</th>\n",
       "      <th>Personality</th>\n",
       "    </tr>\n",
       "  </thead>\n",
       "  <tbody>\n",
       "    <tr>\n",
       "      <th>0</th>\n",
       "      <td>0.0</td>\n",
       "      <td>No</td>\n",
       "      <td>6.0</td>\n",
       "      <td>4.0</td>\n",
       "      <td>No</td>\n",
       "      <td>15.0</td>\n",
       "      <td>5.0</td>\n",
       "      <td>Extrovert</td>\n",
       "    </tr>\n",
       "    <tr>\n",
       "      <th>1</th>\n",
       "      <td>1.0</td>\n",
       "      <td>No</td>\n",
       "      <td>7.0</td>\n",
       "      <td>3.0</td>\n",
       "      <td>No</td>\n",
       "      <td>10.0</td>\n",
       "      <td>8.0</td>\n",
       "      <td>Extrovert</td>\n",
       "    </tr>\n",
       "    <tr>\n",
       "      <th>2</th>\n",
       "      <td>6.0</td>\n",
       "      <td>Yes</td>\n",
       "      <td>1.0</td>\n",
       "      <td>0.0</td>\n",
       "      <td>NaN</td>\n",
       "      <td>3.0</td>\n",
       "      <td>0.0</td>\n",
       "      <td>Introvert</td>\n",
       "    </tr>\n",
       "    <tr>\n",
       "      <th>3</th>\n",
       "      <td>3.0</td>\n",
       "      <td>No</td>\n",
       "      <td>7.0</td>\n",
       "      <td>3.0</td>\n",
       "      <td>No</td>\n",
       "      <td>11.0</td>\n",
       "      <td>5.0</td>\n",
       "      <td>Extrovert</td>\n",
       "    </tr>\n",
       "    <tr>\n",
       "      <th>4</th>\n",
       "      <td>1.0</td>\n",
       "      <td>No</td>\n",
       "      <td>4.0</td>\n",
       "      <td>4.0</td>\n",
       "      <td>No</td>\n",
       "      <td>13.0</td>\n",
       "      <td>NaN</td>\n",
       "      <td>Extrovert</td>\n",
       "    </tr>\n",
       "    <tr>\n",
       "      <th>5</th>\n",
       "      <td>2.0</td>\n",
       "      <td>No</td>\n",
       "      <td>8.0</td>\n",
       "      <td>5.0</td>\n",
       "      <td>No</td>\n",
       "      <td>NaN</td>\n",
       "      <td>3.0</td>\n",
       "      <td>Extrovert</td>\n",
       "    </tr>\n",
       "  </tbody>\n",
       "</table>\n",
       "</div>"
      ],
      "text/plain": [
       "   Time_spent_Alone Stage_fear  Social_event_attendance  Going_outside  \\\n",
       "0               0.0         No                      6.0            4.0   \n",
       "1               1.0         No                      7.0            3.0   \n",
       "2               6.0        Yes                      1.0            0.0   \n",
       "3               3.0         No                      7.0            3.0   \n",
       "4               1.0         No                      4.0            4.0   \n",
       "5               2.0         No                      8.0            5.0   \n",
       "\n",
       "  Drained_after_socializing  Friends_circle_size  Post_frequency Personality  \n",
       "0                        No                 15.0             5.0   Extrovert  \n",
       "1                        No                 10.0             8.0   Extrovert  \n",
       "2                       NaN                  3.0             0.0   Introvert  \n",
       "3                        No                 11.0             5.0   Extrovert  \n",
       "4                        No                 13.0             NaN   Extrovert  \n",
       "5                        No                  NaN             3.0   Extrovert  "
      ]
     },
     "metadata": {},
     "output_type": "display_data"
    },
    {
     "name": "stdout",
     "output_type": "stream",
     "text": [
      "Cleaned df:\n"
     ]
    },
    {
     "data": {
      "application/vnd.microsoft.datawrangler.viewer.v0+json": {
       "columns": [
        {
         "name": "index",
         "rawType": "int64",
         "type": "integer"
        },
        {
         "name": "Time_spent_Alone",
         "rawType": "int64",
         "type": "integer"
        },
        {
         "name": "Stage_fear",
         "rawType": "int64",
         "type": "integer"
        },
        {
         "name": "Social_event_attendance",
         "rawType": "int64",
         "type": "integer"
        },
        {
         "name": "Going_outside",
         "rawType": "int64",
         "type": "integer"
        },
        {
         "name": "Drained_after_socializing",
         "rawType": "int64",
         "type": "integer"
        },
        {
         "name": "Friends_circle_size",
         "rawType": "int64",
         "type": "integer"
        },
        {
         "name": "Post_frequency",
         "rawType": "int64",
         "type": "integer"
        },
        {
         "name": "Personality",
         "rawType": "int64",
         "type": "integer"
        }
       ],
       "ref": "3b058d0c-b722-4d89-880f-c6527e5d6f38",
       "rows": [
        [
         "0",
         "0",
         "0",
         "6",
         "4",
         "0",
         "15",
         "5",
         "0"
        ],
        [
         "1",
         "1",
         "0",
         "7",
         "3",
         "0",
         "10",
         "8",
         "0"
        ],
        [
         "2",
         "6",
         "2",
         "1",
         "0",
         "1",
         "3",
         "0",
         "1"
        ],
        [
         "3",
         "3",
         "0",
         "7",
         "3",
         "0",
         "11",
         "5",
         "0"
        ],
        [
         "4",
         "1",
         "0",
         "4",
         "4",
         "0",
         "13",
         "3",
         "0"
        ],
        [
         "5",
         "2",
         "0",
         "8",
         "5",
         "0",
         "5",
         "3",
         "0"
        ]
       ],
       "shape": {
        "columns": 8,
        "rows": 6
       }
      },
      "text/html": [
       "<div>\n",
       "<style scoped>\n",
       "    .dataframe tbody tr th:only-of-type {\n",
       "        vertical-align: middle;\n",
       "    }\n",
       "\n",
       "    .dataframe tbody tr th {\n",
       "        vertical-align: top;\n",
       "    }\n",
       "\n",
       "    .dataframe thead th {\n",
       "        text-align: right;\n",
       "    }\n",
       "</style>\n",
       "<table border=\"1\" class=\"dataframe\">\n",
       "  <thead>\n",
       "    <tr style=\"text-align: right;\">\n",
       "      <th></th>\n",
       "      <th>Time_spent_Alone</th>\n",
       "      <th>Stage_fear</th>\n",
       "      <th>Social_event_attendance</th>\n",
       "      <th>Going_outside</th>\n",
       "      <th>Drained_after_socializing</th>\n",
       "      <th>Friends_circle_size</th>\n",
       "      <th>Post_frequency</th>\n",
       "      <th>Personality</th>\n",
       "    </tr>\n",
       "  </thead>\n",
       "  <tbody>\n",
       "    <tr>\n",
       "      <th>0</th>\n",
       "      <td>0</td>\n",
       "      <td>0</td>\n",
       "      <td>6</td>\n",
       "      <td>4</td>\n",
       "      <td>0</td>\n",
       "      <td>15</td>\n",
       "      <td>5</td>\n",
       "      <td>0</td>\n",
       "    </tr>\n",
       "    <tr>\n",
       "      <th>1</th>\n",
       "      <td>1</td>\n",
       "      <td>0</td>\n",
       "      <td>7</td>\n",
       "      <td>3</td>\n",
       "      <td>0</td>\n",
       "      <td>10</td>\n",
       "      <td>8</td>\n",
       "      <td>0</td>\n",
       "    </tr>\n",
       "    <tr>\n",
       "      <th>2</th>\n",
       "      <td>6</td>\n",
       "      <td>2</td>\n",
       "      <td>1</td>\n",
       "      <td>0</td>\n",
       "      <td>1</td>\n",
       "      <td>3</td>\n",
       "      <td>0</td>\n",
       "      <td>1</td>\n",
       "    </tr>\n",
       "    <tr>\n",
       "      <th>3</th>\n",
       "      <td>3</td>\n",
       "      <td>0</td>\n",
       "      <td>7</td>\n",
       "      <td>3</td>\n",
       "      <td>0</td>\n",
       "      <td>11</td>\n",
       "      <td>5</td>\n",
       "      <td>0</td>\n",
       "    </tr>\n",
       "    <tr>\n",
       "      <th>4</th>\n",
       "      <td>1</td>\n",
       "      <td>0</td>\n",
       "      <td>4</td>\n",
       "      <td>4</td>\n",
       "      <td>0</td>\n",
       "      <td>13</td>\n",
       "      <td>3</td>\n",
       "      <td>0</td>\n",
       "    </tr>\n",
       "    <tr>\n",
       "      <th>5</th>\n",
       "      <td>2</td>\n",
       "      <td>0</td>\n",
       "      <td>8</td>\n",
       "      <td>5</td>\n",
       "      <td>0</td>\n",
       "      <td>5</td>\n",
       "      <td>3</td>\n",
       "      <td>0</td>\n",
       "    </tr>\n",
       "  </tbody>\n",
       "</table>\n",
       "</div>"
      ],
      "text/plain": [
       "   Time_spent_Alone  Stage_fear  Social_event_attendance  Going_outside  \\\n",
       "0                 0           0                        6              4   \n",
       "1                 1           0                        7              3   \n",
       "2                 6           2                        1              0   \n",
       "3                 3           0                        7              3   \n",
       "4                 1           0                        4              4   \n",
       "5                 2           0                        8              5   \n",
       "\n",
       "   Drained_after_socializing  Friends_circle_size  Post_frequency  Personality  \n",
       "0                          0                   15               5            0  \n",
       "1                          0                   10               8            0  \n",
       "2                          1                    3               0            1  \n",
       "3                          0                   11               5            0  \n",
       "4                          0                   13               3            0  \n",
       "5                          0                    5               3            0  "
      ]
     },
     "metadata": {},
     "output_type": "display_data"
    }
   ],
   "source": [
    "df = pd.read_csv(\"../data/train.csv\").drop([\"id\"], axis=1)\n",
    "sub_df = pd.read_csv(\"../data/test.csv\")\n",
    "print(\"Raw DataFrame:\")\n",
    "display(df.head(6))\n",
    "\n",
    "imputer = SimpleImputer(strategy=\"most_frequent\")\n",
    "le = LabelEncoder()\n",
    "\n",
    "for feature in df.columns:\n",
    "\tif feature == \"Stage_fear\" or feature == \"Drained_after_socializing\":\n",
    "\t\tfor i in range(len(df)):\n",
    "\t\t\tif pd.isna(df.loc[i, feature]):\n",
    "\t\t\t\tdf.loc[i, feature] = \"Unknown\"\n",
    "\t\tdf[feature] = le.fit_transform(df[feature])\n",
    "\telse:\n",
    "\t\tdf[feature] = imputer.fit_transform(df[[feature]]).flatten()\n",
    "\t\tdf[feature] = le.fit_transform(df[feature])\n",
    "\n",
    "print(\"Cleaned df:\")\n",
    "display(df.head(6))"
   ]
  },
  {
   "cell_type": "code",
   "execution_count": 3,
   "id": "9a834cda",
   "metadata": {},
   "outputs": [
    {
     "name": "stdout",
     "output_type": "stream",
     "text": [
      "X_train:\n"
     ]
    },
    {
     "data": {
      "application/vnd.microsoft.datawrangler.viewer.v0+json": {
       "columns": [
        {
         "name": "index",
         "rawType": "int64",
         "type": "integer"
        },
        {
         "name": "Time_spent_Alone",
         "rawType": "int64",
         "type": "integer"
        },
        {
         "name": "Stage_fear",
         "rawType": "int64",
         "type": "integer"
        },
        {
         "name": "Social_event_attendance",
         "rawType": "int64",
         "type": "integer"
        },
        {
         "name": "Going_outside",
         "rawType": "int64",
         "type": "integer"
        },
        {
         "name": "Drained_after_socializing",
         "rawType": "int64",
         "type": "integer"
        },
        {
         "name": "Friends_circle_size",
         "rawType": "int64",
         "type": "integer"
        },
        {
         "name": "Post_frequency",
         "rawType": "int64",
         "type": "integer"
        }
       ],
       "ref": "2c47e755-33e4-4e49-b18d-a8e7c641bbce",
       "rows": [
        [
         "11881",
         "3",
         "0",
         "4",
         "5",
         "0",
         "10",
         "7"
        ],
        [
         "5199",
         "2",
         "0",
         "7",
         "3",
         "0",
         "5",
         "8"
        ],
        [
         "17115",
         "2",
         "0",
         "7",
         "5",
         "0",
         "12",
         "4"
        ],
        [
         "14120",
         "3",
         "1",
         "4",
         "4",
         "0",
         "10",
         "4"
        ],
        [
         "6202",
         "0",
         "0",
         "3",
         "3",
         "0",
         "6",
         "5"
        ],
        [
         "902",
         "8",
         "2",
         "2",
         "2",
         "1",
         "2",
         "2"
        ],
        [
         "17971",
         "3",
         "0",
         "5",
         "5",
         "0",
         "11",
         "3"
        ],
        [
         "11928",
         "1",
         "0",
         "5",
         "5",
         "0",
         "15",
         "7"
        ],
        [
         "181",
         "1",
         "0",
         "9",
         "3",
         "0",
         "8",
         "4"
        ],
        [
         "18448",
         "11",
         "2",
         "1",
         "0",
         "2",
         "2",
         "3"
        ],
        [
         "10264",
         "7",
         "2",
         "2",
         "2",
         "1",
         "3",
         "0"
        ],
        [
         "1383",
         "2",
         "0",
         "7",
         "4",
         "0",
         "5",
         "9"
        ],
        [
         "11092",
         "3",
         "0",
         "5",
         "7",
         "0",
         "6",
         "10"
        ],
        [
         "10479",
         "3",
         "0",
         "3",
         "6",
         "0",
         "10",
         "3"
        ],
        [
         "8500",
         "1",
         "0",
         "4",
         "6",
         "0",
         "7",
         "7"
        ],
        [
         "15489",
         "0",
         "0",
         "9",
         "6",
         "0",
         "10",
         "4"
        ],
        [
         "18377",
         "5",
         "2",
         "2",
         "0",
         "2",
         "7",
         "1"
        ],
        [
         "15720",
         "3",
         "0",
         "6",
         "3",
         "0",
         "10",
         "8"
        ],
        [
         "18318",
         "0",
         "0",
         "8",
         "7",
         "0",
         "6",
         "7"
        ],
        [
         "18434",
         "1",
         "1",
         "9",
         "4",
         "0",
         "8",
         "6"
        ],
        [
         "17482",
         "2",
         "0",
         "6",
         "4",
         "0",
         "5",
         "8"
        ],
        [
         "3599",
         "1",
         "0",
         "8",
         "4",
         "1",
         "6",
         "8"
        ],
        [
         "5598",
         "1",
         "0",
         "7",
         "5",
         "0",
         "5",
         "6"
        ],
        [
         "4202",
         "2",
         "0",
         "4",
         "4",
         "0",
         "11",
         "8"
        ],
        [
         "6907",
         "10",
         "1",
         "1",
         "1",
         "2",
         "2",
         "2"
        ],
        [
         "11832",
         "0",
         "0",
         "10",
         "7",
         "0",
         "5",
         "8"
        ],
        [
         "4767",
         "0",
         "0",
         "8",
         "7",
         "0",
         "9",
         "3"
        ],
        [
         "14535",
         "3",
         "0",
         "5",
         "5",
         "0",
         "13",
         "5"
        ],
        [
         "5702",
         "2",
         "0",
         "7",
         "4",
         "0",
         "10",
         "3"
        ],
        [
         "18470",
         "0",
         "0",
         "5",
         "5",
         "0",
         "3",
         "8"
        ],
        [
         "15947",
         "5",
         "2",
         "1",
         "1",
         "2",
         "5",
         "1"
        ],
        [
         "18195",
         "3",
         "0",
         "5",
         "6",
         "0",
         "5",
         "4"
        ],
        [
         "14843",
         "10",
         "1",
         "2",
         "1",
         "2",
         "0",
         "0"
        ],
        [
         "50",
         "7",
         "2",
         "4",
         "2",
         "2",
         "5",
         "2"
        ],
        [
         "4246",
         "8",
         "2",
         "2",
         "3",
         "2",
         "1",
         "0"
        ],
        [
         "6275",
         "7",
         "2",
         "1",
         "0",
         "2",
         "0",
         "1"
        ],
        [
         "7628",
         "3",
         "0",
         "10",
         "6",
         "0",
         "11",
         "8"
        ],
        [
         "8561",
         "3",
         "0",
         "4",
         "5",
         "0",
         "14",
         "4"
        ],
        [
         "13314",
         "0",
         "0",
         "7",
         "6",
         "0",
         "8",
         "3"
        ],
        [
         "16839",
         "7",
         "2",
         "0",
         "1",
         "2",
         "0",
         "1"
        ],
        [
         "5377",
         "1",
         "0",
         "4",
         "4",
         "0",
         "10",
         "3"
        ],
        [
         "17950",
         "3",
         "1",
         "5",
         "5",
         "0",
         "11",
         "6"
        ],
        [
         "10227",
         "1",
         "0",
         "8",
         "5",
         "0",
         "4",
         "9"
        ],
        [
         "410",
         "0",
         "0",
         "7",
         "5",
         "0",
         "10",
         "7"
        ],
        [
         "9431",
         "0",
         "0",
         "9",
         "4",
         "0",
         "5",
         "5"
        ],
        [
         "18463",
         "1",
         "0",
         "4",
         "6",
         "0",
         "11",
         "3"
        ],
        [
         "14387",
         "11",
         "1",
         "1",
         "2",
         "2",
         "2",
         "1"
        ],
        [
         "15377",
         "2",
         "0",
         "4",
         "5",
         "0",
         "7",
         "8"
        ],
        [
         "2312",
         "3",
         "0",
         "5",
         "4",
         "0",
         "15",
         "7"
        ],
        [
         "12401",
         "0",
         "0",
         "4",
         "4",
         "0",
         "14",
         "3"
        ]
       ],
       "shape": {
        "columns": 7,
        "rows": 16671
       }
      },
      "text/html": [
       "<div>\n",
       "<style scoped>\n",
       "    .dataframe tbody tr th:only-of-type {\n",
       "        vertical-align: middle;\n",
       "    }\n",
       "\n",
       "    .dataframe tbody tr th {\n",
       "        vertical-align: top;\n",
       "    }\n",
       "\n",
       "    .dataframe thead th {\n",
       "        text-align: right;\n",
       "    }\n",
       "</style>\n",
       "<table border=\"1\" class=\"dataframe\">\n",
       "  <thead>\n",
       "    <tr style=\"text-align: right;\">\n",
       "      <th></th>\n",
       "      <th>Time_spent_Alone</th>\n",
       "      <th>Stage_fear</th>\n",
       "      <th>Social_event_attendance</th>\n",
       "      <th>Going_outside</th>\n",
       "      <th>Drained_after_socializing</th>\n",
       "      <th>Friends_circle_size</th>\n",
       "      <th>Post_frequency</th>\n",
       "    </tr>\n",
       "  </thead>\n",
       "  <tbody>\n",
       "    <tr>\n",
       "      <th>11881</th>\n",
       "      <td>3</td>\n",
       "      <td>0</td>\n",
       "      <td>4</td>\n",
       "      <td>5</td>\n",
       "      <td>0</td>\n",
       "      <td>10</td>\n",
       "      <td>7</td>\n",
       "    </tr>\n",
       "    <tr>\n",
       "      <th>5199</th>\n",
       "      <td>2</td>\n",
       "      <td>0</td>\n",
       "      <td>7</td>\n",
       "      <td>3</td>\n",
       "      <td>0</td>\n",
       "      <td>5</td>\n",
       "      <td>8</td>\n",
       "    </tr>\n",
       "    <tr>\n",
       "      <th>17115</th>\n",
       "      <td>2</td>\n",
       "      <td>0</td>\n",
       "      <td>7</td>\n",
       "      <td>5</td>\n",
       "      <td>0</td>\n",
       "      <td>12</td>\n",
       "      <td>4</td>\n",
       "    </tr>\n",
       "    <tr>\n",
       "      <th>14120</th>\n",
       "      <td>3</td>\n",
       "      <td>1</td>\n",
       "      <td>4</td>\n",
       "      <td>4</td>\n",
       "      <td>0</td>\n",
       "      <td>10</td>\n",
       "      <td>4</td>\n",
       "    </tr>\n",
       "    <tr>\n",
       "      <th>6202</th>\n",
       "      <td>0</td>\n",
       "      <td>0</td>\n",
       "      <td>3</td>\n",
       "      <td>3</td>\n",
       "      <td>0</td>\n",
       "      <td>6</td>\n",
       "      <td>5</td>\n",
       "    </tr>\n",
       "    <tr>\n",
       "      <th>...</th>\n",
       "      <td>...</td>\n",
       "      <td>...</td>\n",
       "      <td>...</td>\n",
       "      <td>...</td>\n",
       "      <td>...</td>\n",
       "      <td>...</td>\n",
       "      <td>...</td>\n",
       "    </tr>\n",
       "    <tr>\n",
       "      <th>11284</th>\n",
       "      <td>9</td>\n",
       "      <td>1</td>\n",
       "      <td>1</td>\n",
       "      <td>3</td>\n",
       "      <td>2</td>\n",
       "      <td>5</td>\n",
       "      <td>3</td>\n",
       "    </tr>\n",
       "    <tr>\n",
       "      <th>11964</th>\n",
       "      <td>3</td>\n",
       "      <td>0</td>\n",
       "      <td>6</td>\n",
       "      <td>6</td>\n",
       "      <td>0</td>\n",
       "      <td>5</td>\n",
       "      <td>3</td>\n",
       "    </tr>\n",
       "    <tr>\n",
       "      <th>5390</th>\n",
       "      <td>3</td>\n",
       "      <td>1</td>\n",
       "      <td>7</td>\n",
       "      <td>3</td>\n",
       "      <td>0</td>\n",
       "      <td>14</td>\n",
       "      <td>8</td>\n",
       "    </tr>\n",
       "    <tr>\n",
       "      <th>860</th>\n",
       "      <td>3</td>\n",
       "      <td>0</td>\n",
       "      <td>4</td>\n",
       "      <td>5</td>\n",
       "      <td>0</td>\n",
       "      <td>9</td>\n",
       "      <td>9</td>\n",
       "    </tr>\n",
       "    <tr>\n",
       "      <th>15795</th>\n",
       "      <td>0</td>\n",
       "      <td>0</td>\n",
       "      <td>3</td>\n",
       "      <td>5</td>\n",
       "      <td>0</td>\n",
       "      <td>14</td>\n",
       "      <td>6</td>\n",
       "    </tr>\n",
       "  </tbody>\n",
       "</table>\n",
       "<p>16671 rows × 7 columns</p>\n",
       "</div>"
      ],
      "text/plain": [
       "       Time_spent_Alone  Stage_fear  Social_event_attendance  Going_outside  \\\n",
       "11881                 3           0                        4              5   \n",
       "5199                  2           0                        7              3   \n",
       "17115                 2           0                        7              5   \n",
       "14120                 3           1                        4              4   \n",
       "6202                  0           0                        3              3   \n",
       "...                 ...         ...                      ...            ...   \n",
       "11284                 9           1                        1              3   \n",
       "11964                 3           0                        6              6   \n",
       "5390                  3           1                        7              3   \n",
       "860                   3           0                        4              5   \n",
       "15795                 0           0                        3              5   \n",
       "\n",
       "       Drained_after_socializing  Friends_circle_size  Post_frequency  \n",
       "11881                          0                   10               7  \n",
       "5199                           0                    5               8  \n",
       "17115                          0                   12               4  \n",
       "14120                          0                   10               4  \n",
       "6202                           0                    6               5  \n",
       "...                          ...                  ...             ...  \n",
       "11284                          2                    5               3  \n",
       "11964                          0                    5               3  \n",
       "5390                           0                   14               8  \n",
       "860                            0                    9               9  \n",
       "15795                          0                   14               6  \n",
       "\n",
       "[16671 rows x 7 columns]"
      ]
     },
     "metadata": {},
     "output_type": "display_data"
    },
    {
     "name": "stdout",
     "output_type": "stream",
     "text": [
      "X_test:\n"
     ]
    },
    {
     "data": {
      "application/vnd.microsoft.datawrangler.viewer.v0+json": {
       "columns": [
        {
         "name": "index",
         "rawType": "int64",
         "type": "integer"
        },
        {
         "name": "Time_spent_Alone",
         "rawType": "int64",
         "type": "integer"
        },
        {
         "name": "Stage_fear",
         "rawType": "int64",
         "type": "integer"
        },
        {
         "name": "Social_event_attendance",
         "rawType": "int64",
         "type": "integer"
        },
        {
         "name": "Going_outside",
         "rawType": "int64",
         "type": "integer"
        },
        {
         "name": "Drained_after_socializing",
         "rawType": "int64",
         "type": "integer"
        },
        {
         "name": "Friends_circle_size",
         "rawType": "int64",
         "type": "integer"
        },
        {
         "name": "Post_frequency",
         "rawType": "int64",
         "type": "integer"
        }
       ],
       "ref": "7f292c7f-2889-4339-a784-358ec4572867",
       "rows": [
        [
         "13209",
         "0",
         "0",
         "9",
         "7",
         "0",
         "8",
         "5"
        ],
        [
         "2740",
         "0",
         "0",
         "9",
         "5",
         "0",
         "6",
         "4"
        ],
        [
         "10249",
         "3",
         "0",
         "8",
         "7",
         "0",
         "10",
         "10"
        ],
        [
         "7608",
         "1",
         "0",
         "7",
         "5",
         "0",
         "12",
         "4"
        ],
        [
         "10528",
         "0",
         "0",
         "6",
         "4",
         "0",
         "6",
         "10"
        ],
        [
         "10242",
         "1",
         "0",
         "4",
         "6",
         "1",
         "14",
         "9"
        ],
        [
         "9162",
         "3",
         "0",
         "7",
         "7",
         "0",
         "8",
         "8"
        ],
        [
         "13113",
         "9",
         "2",
         "1",
         "3",
         "2",
         "4",
         "0"
        ],
        [
         "15335",
         "2",
         "0",
         "8",
         "6",
         "0",
         "14",
         "8"
        ],
        [
         "18196",
         "1",
         "0",
         "6",
         "6",
         "0",
         "14",
         "7"
        ],
        [
         "13371",
         "3",
         "1",
         "7",
         "5",
         "0",
         "7",
         "5"
        ],
        [
         "3353",
         "9",
         "2",
         "0",
         "2",
         "2",
         "4",
         "3"
        ],
        [
         "1182",
         "3",
         "0",
         "5",
         "7",
         "0",
         "10",
         "3"
        ],
        [
         "9270",
         "1",
         "0",
         "9",
         "5",
         "0",
         "11",
         "3"
        ],
        [
         "17376",
         "5",
         "1",
         "0",
         "2",
         "2",
         "2",
         "1"
        ],
        [
         "8694",
         "0",
         "0",
         "8",
         "5",
         "0",
         "13",
         "8"
        ],
        [
         "856",
         "9",
         "2",
         "2",
         "3",
         "2",
         "5",
         "1"
        ],
        [
         "705",
         "6",
         "2",
         "0",
         "1",
         "2",
         "5",
         "2"
        ],
        [
         "6451",
         "0",
         "0",
         "6",
         "4",
         "0",
         "11",
         "3"
        ],
        [
         "6624",
         "9",
         "2",
         "3",
         "1",
         "2",
         "5",
         "0"
        ],
        [
         "8591",
         "6",
         "2",
         "3",
         "0",
         "1",
         "3",
         "1"
        ],
        [
         "16603",
         "4",
         "2",
         "0",
         "1",
         "2",
         "5",
         "2"
        ],
        [
         "15213",
         "4",
         "0",
         "10",
         "5",
         "0",
         "11",
         "6"
        ],
        [
         "2279",
         "3",
         "0",
         "5",
         "4",
         "0",
         "4",
         "8"
        ],
        [
         "14066",
         "1",
         "0",
         "6",
         "6",
         "0",
         "10",
         "6"
        ],
        [
         "8965",
         "1",
         "0",
         "4",
         "3",
         "0",
         "7",
         "7"
        ],
        [
         "1157",
         "3",
         "0",
         "7",
         "5",
         "0",
         "14",
         "6"
        ],
        [
         "1163",
         "2",
         "0",
         "3",
         "5",
         "0",
         "14",
         "4"
        ],
        [
         "273",
         "1",
         "0",
         "5",
         "3",
         "0",
         "4",
         "7"
        ],
        [
         "16491",
         "3",
         "0",
         "8",
         "4",
         "0",
         "13",
         "4"
        ],
        [
         "6323",
         "9",
         "1",
         "3",
         "0",
         "2",
         "0",
         "0"
        ],
        [
         "3572",
         "2",
         "0",
         "4",
         "6",
         "0",
         "14",
         "9"
        ],
        [
         "3507",
         "1",
         "0",
         "8",
         "6",
         "0",
         "13",
         "5"
        ],
        [
         "11581",
         "5",
         "2",
         "2",
         "0",
         "2",
         "5",
         "3"
        ],
        [
         "13546",
         "1",
         "0",
         "8",
         "5",
         "0",
         "4",
         "5"
        ],
        [
         "18034",
         "9",
         "1",
         "0",
         "3",
         "2",
         "2",
         "2"
        ],
        [
         "8753",
         "6",
         "2",
         "4",
         "1",
         "2",
         "2",
         "0"
        ],
        [
         "4032",
         "1",
         "1",
         "6",
         "5",
         "0",
         "7",
         "6"
        ],
        [
         "15288",
         "2",
         "0",
         "5",
         "4",
         "0",
         "4",
         "6"
        ],
        [
         "6877",
         "2",
         "0",
         "5",
         "3",
         "0",
         "5",
         "5"
        ],
        [
         "14181",
         "1",
         "0",
         "8",
         "5",
         "0",
         "4",
         "6"
        ],
        [
         "16122",
         "0",
         "0",
         "5",
         "5",
         "0",
         "5",
         "9"
        ],
        [
         "11015",
         "0",
         "1",
         "6",
         "5",
         "0",
         "10",
         "7"
        ],
        [
         "4153",
         "2",
         "0",
         "5",
         "3",
         "0",
         "6",
         "6"
        ],
        [
         "2697",
         "0",
         "0",
         "3",
         "6",
         "0",
         "7",
         "7"
        ],
        [
         "16064",
         "11",
         "2",
         "2",
         "0",
         "2",
         "3",
         "3"
        ],
        [
         "18208",
         "1",
         "0",
         "8",
         "5",
         "0",
         "10",
         "6"
        ],
        [
         "251",
         "1",
         "0",
         "7",
         "6",
         "0",
         "5",
         "3"
        ],
        [
         "7771",
         "7",
         "2",
         "3",
         "1",
         "2",
         "4",
         "2"
        ],
        [
         "5863",
         "2",
         "0",
         "9",
         "4",
         "0",
         "11",
         "8"
        ]
       ],
       "shape": {
        "columns": 7,
        "rows": 1853
       }
      },
      "text/html": [
       "<div>\n",
       "<style scoped>\n",
       "    .dataframe tbody tr th:only-of-type {\n",
       "        vertical-align: middle;\n",
       "    }\n",
       "\n",
       "    .dataframe tbody tr th {\n",
       "        vertical-align: top;\n",
       "    }\n",
       "\n",
       "    .dataframe thead th {\n",
       "        text-align: right;\n",
       "    }\n",
       "</style>\n",
       "<table border=\"1\" class=\"dataframe\">\n",
       "  <thead>\n",
       "    <tr style=\"text-align: right;\">\n",
       "      <th></th>\n",
       "      <th>Time_spent_Alone</th>\n",
       "      <th>Stage_fear</th>\n",
       "      <th>Social_event_attendance</th>\n",
       "      <th>Going_outside</th>\n",
       "      <th>Drained_after_socializing</th>\n",
       "      <th>Friends_circle_size</th>\n",
       "      <th>Post_frequency</th>\n",
       "    </tr>\n",
       "  </thead>\n",
       "  <tbody>\n",
       "    <tr>\n",
       "      <th>13209</th>\n",
       "      <td>0</td>\n",
       "      <td>0</td>\n",
       "      <td>9</td>\n",
       "      <td>7</td>\n",
       "      <td>0</td>\n",
       "      <td>8</td>\n",
       "      <td>5</td>\n",
       "    </tr>\n",
       "    <tr>\n",
       "      <th>2740</th>\n",
       "      <td>0</td>\n",
       "      <td>0</td>\n",
       "      <td>9</td>\n",
       "      <td>5</td>\n",
       "      <td>0</td>\n",
       "      <td>6</td>\n",
       "      <td>4</td>\n",
       "    </tr>\n",
       "    <tr>\n",
       "      <th>10249</th>\n",
       "      <td>3</td>\n",
       "      <td>0</td>\n",
       "      <td>8</td>\n",
       "      <td>7</td>\n",
       "      <td>0</td>\n",
       "      <td>10</td>\n",
       "      <td>10</td>\n",
       "    </tr>\n",
       "    <tr>\n",
       "      <th>7608</th>\n",
       "      <td>1</td>\n",
       "      <td>0</td>\n",
       "      <td>7</td>\n",
       "      <td>5</td>\n",
       "      <td>0</td>\n",
       "      <td>12</td>\n",
       "      <td>4</td>\n",
       "    </tr>\n",
       "    <tr>\n",
       "      <th>10528</th>\n",
       "      <td>0</td>\n",
       "      <td>0</td>\n",
       "      <td>6</td>\n",
       "      <td>4</td>\n",
       "      <td>0</td>\n",
       "      <td>6</td>\n",
       "      <td>10</td>\n",
       "    </tr>\n",
       "    <tr>\n",
       "      <th>...</th>\n",
       "      <td>...</td>\n",
       "      <td>...</td>\n",
       "      <td>...</td>\n",
       "      <td>...</td>\n",
       "      <td>...</td>\n",
       "      <td>...</td>\n",
       "      <td>...</td>\n",
       "    </tr>\n",
       "    <tr>\n",
       "      <th>5658</th>\n",
       "      <td>1</td>\n",
       "      <td>1</td>\n",
       "      <td>9</td>\n",
       "      <td>5</td>\n",
       "      <td>0</td>\n",
       "      <td>10</td>\n",
       "      <td>8</td>\n",
       "    </tr>\n",
       "    <tr>\n",
       "      <th>8883</th>\n",
       "      <td>0</td>\n",
       "      <td>0</td>\n",
       "      <td>5</td>\n",
       "      <td>7</td>\n",
       "      <td>0</td>\n",
       "      <td>5</td>\n",
       "      <td>4</td>\n",
       "    </tr>\n",
       "    <tr>\n",
       "      <th>9093</th>\n",
       "      <td>8</td>\n",
       "      <td>2</td>\n",
       "      <td>3</td>\n",
       "      <td>2</td>\n",
       "      <td>2</td>\n",
       "      <td>1</td>\n",
       "      <td>3</td>\n",
       "    </tr>\n",
       "    <tr>\n",
       "      <th>9001</th>\n",
       "      <td>5</td>\n",
       "      <td>2</td>\n",
       "      <td>3</td>\n",
       "      <td>2</td>\n",
       "      <td>2</td>\n",
       "      <td>0</td>\n",
       "      <td>2</td>\n",
       "    </tr>\n",
       "    <tr>\n",
       "      <th>16550</th>\n",
       "      <td>2</td>\n",
       "      <td>0</td>\n",
       "      <td>4</td>\n",
       "      <td>6</td>\n",
       "      <td>0</td>\n",
       "      <td>8</td>\n",
       "      <td>3</td>\n",
       "    </tr>\n",
       "  </tbody>\n",
       "</table>\n",
       "<p>1853 rows × 7 columns</p>\n",
       "</div>"
      ],
      "text/plain": [
       "       Time_spent_Alone  Stage_fear  Social_event_attendance  Going_outside  \\\n",
       "13209                 0           0                        9              7   \n",
       "2740                  0           0                        9              5   \n",
       "10249                 3           0                        8              7   \n",
       "7608                  1           0                        7              5   \n",
       "10528                 0           0                        6              4   \n",
       "...                 ...         ...                      ...            ...   \n",
       "5658                  1           1                        9              5   \n",
       "8883                  0           0                        5              7   \n",
       "9093                  8           2                        3              2   \n",
       "9001                  5           2                        3              2   \n",
       "16550                 2           0                        4              6   \n",
       "\n",
       "       Drained_after_socializing  Friends_circle_size  Post_frequency  \n",
       "13209                          0                    8               5  \n",
       "2740                           0                    6               4  \n",
       "10249                          0                   10              10  \n",
       "7608                           0                   12               4  \n",
       "10528                          0                    6              10  \n",
       "...                          ...                  ...             ...  \n",
       "5658                           0                   10               8  \n",
       "8883                           0                    5               4  \n",
       "9093                           2                    1               3  \n",
       "9001                           2                    0               2  \n",
       "16550                          0                    8               3  \n",
       "\n",
       "[1853 rows x 7 columns]"
      ]
     },
     "metadata": {},
     "output_type": "display_data"
    },
    {
     "name": "stdout",
     "output_type": "stream",
     "text": [
      "y_train:\n"
     ]
    },
    {
     "data": {
      "application/vnd.microsoft.datawrangler.viewer.v0+json": {
       "columns": [
        {
         "name": "index",
         "rawType": "int64",
         "type": "integer"
        },
        {
         "name": "Personality",
         "rawType": "int64",
         "type": "integer"
        }
       ],
       "ref": "cb326711-3b23-4168-acb9-045cbf3fb451",
       "rows": [
        [
         "11881",
         "0"
        ],
        [
         "5199",
         "0"
        ],
        [
         "17115",
         "0"
        ],
        [
         "14120",
         "0"
        ],
        [
         "6202",
         "0"
        ],
        [
         "902",
         "1"
        ],
        [
         "17971",
         "0"
        ],
        [
         "11928",
         "0"
        ],
        [
         "181",
         "0"
        ],
        [
         "18448",
         "1"
        ],
        [
         "10264",
         "1"
        ],
        [
         "1383",
         "0"
        ],
        [
         "11092",
         "0"
        ],
        [
         "10479",
         "1"
        ],
        [
         "8500",
         "0"
        ],
        [
         "15489",
         "0"
        ],
        [
         "18377",
         "0"
        ],
        [
         "15720",
         "0"
        ],
        [
         "18318",
         "0"
        ],
        [
         "18434",
         "0"
        ],
        [
         "17482",
         "0"
        ],
        [
         "3599",
         "0"
        ],
        [
         "5598",
         "0"
        ],
        [
         "4202",
         "0"
        ],
        [
         "6907",
         "1"
        ],
        [
         "11832",
         "0"
        ],
        [
         "4767",
         "0"
        ],
        [
         "14535",
         "0"
        ],
        [
         "5702",
         "0"
        ],
        [
         "18470",
         "0"
        ],
        [
         "15947",
         "1"
        ],
        [
         "18195",
         "0"
        ],
        [
         "14843",
         "1"
        ],
        [
         "50",
         "1"
        ],
        [
         "4246",
         "1"
        ],
        [
         "6275",
         "1"
        ],
        [
         "7628",
         "0"
        ],
        [
         "8561",
         "0"
        ],
        [
         "13314",
         "0"
        ],
        [
         "16839",
         "1"
        ],
        [
         "5377",
         "0"
        ],
        [
         "17950",
         "0"
        ],
        [
         "10227",
         "0"
        ],
        [
         "410",
         "0"
        ],
        [
         "9431",
         "0"
        ],
        [
         "18463",
         "0"
        ],
        [
         "14387",
         "1"
        ],
        [
         "15377",
         "0"
        ],
        [
         "2312",
         "0"
        ],
        [
         "12401",
         "0"
        ]
       ],
       "shape": {
        "columns": 1,
        "rows": 16671
       }
      },
      "text/plain": [
       "11881    0\n",
       "5199     0\n",
       "17115    0\n",
       "14120    0\n",
       "6202     0\n",
       "        ..\n",
       "11284    1\n",
       "11964    0\n",
       "5390     0\n",
       "860      0\n",
       "15795    0\n",
       "Name: Personality, Length: 16671, dtype: int64"
      ]
     },
     "metadata": {},
     "output_type": "display_data"
    },
    {
     "name": "stdout",
     "output_type": "stream",
     "text": [
      "y_test:\n"
     ]
    },
    {
     "data": {
      "application/vnd.microsoft.datawrangler.viewer.v0+json": {
       "columns": [
        {
         "name": "index",
         "rawType": "int64",
         "type": "integer"
        },
        {
         "name": "Personality",
         "rawType": "int64",
         "type": "integer"
        }
       ],
       "ref": "539f4380-31cf-444f-ae2d-05a5f0c3541b",
       "rows": [
        [
         "13209",
         "0"
        ],
        [
         "2740",
         "0"
        ],
        [
         "10249",
         "0"
        ],
        [
         "7608",
         "0"
        ],
        [
         "10528",
         "0"
        ],
        [
         "10242",
         "0"
        ],
        [
         "9162",
         "0"
        ],
        [
         "13113",
         "1"
        ],
        [
         "15335",
         "0"
        ],
        [
         "18196",
         "0"
        ],
        [
         "13371",
         "0"
        ],
        [
         "3353",
         "1"
        ],
        [
         "1182",
         "0"
        ],
        [
         "9270",
         "0"
        ],
        [
         "17376",
         "1"
        ],
        [
         "8694",
         "0"
        ],
        [
         "856",
         "1"
        ],
        [
         "705",
         "1"
        ],
        [
         "6451",
         "0"
        ],
        [
         "6624",
         "1"
        ],
        [
         "8591",
         "1"
        ],
        [
         "16603",
         "1"
        ],
        [
         "15213",
         "0"
        ],
        [
         "2279",
         "0"
        ],
        [
         "14066",
         "0"
        ],
        [
         "8965",
         "0"
        ],
        [
         "1157",
         "0"
        ],
        [
         "1163",
         "0"
        ],
        [
         "273",
         "0"
        ],
        [
         "16491",
         "0"
        ],
        [
         "6323",
         "1"
        ],
        [
         "3572",
         "0"
        ],
        [
         "3507",
         "0"
        ],
        [
         "11581",
         "1"
        ],
        [
         "13546",
         "0"
        ],
        [
         "18034",
         "1"
        ],
        [
         "8753",
         "1"
        ],
        [
         "4032",
         "0"
        ],
        [
         "15288",
         "0"
        ],
        [
         "6877",
         "0"
        ],
        [
         "14181",
         "0"
        ],
        [
         "16122",
         "0"
        ],
        [
         "11015",
         "0"
        ],
        [
         "4153",
         "0"
        ],
        [
         "2697",
         "0"
        ],
        [
         "16064",
         "1"
        ],
        [
         "18208",
         "0"
        ],
        [
         "251",
         "0"
        ],
        [
         "7771",
         "1"
        ],
        [
         "5863",
         "0"
        ]
       ],
       "shape": {
        "columns": 1,
        "rows": 1853
       }
      },
      "text/plain": [
       "13209    0\n",
       "2740     0\n",
       "10249    0\n",
       "7608     0\n",
       "10528    0\n",
       "        ..\n",
       "5658     0\n",
       "8883     0\n",
       "9093     1\n",
       "9001     1\n",
       "16550    0\n",
       "Name: Personality, Length: 1853, dtype: int64"
      ]
     },
     "metadata": {},
     "output_type": "display_data"
    }
   ],
   "source": [
    "X_train, X_test, y_train, y_test = train_test_split(\n",
    "    df.drop([\"Personality\"], axis=1),\n",
    "    df[\"Personality\"],\n",
    "    test_size=0.1,\n",
    "    random_state=42\n",
    ")\n",
    "\n",
    "print(\"X_train:\")\n",
    "display(X_train)\n",
    "print(\"X_test:\")\n",
    "display(X_test)\n",
    "print(\"y_train:\")\n",
    "display(y_train)\n",
    "print(\"y_test:\")\n",
    "display(y_test)"
   ]
  },
  {
   "cell_type": "code",
   "execution_count": 4,
   "id": "f0b2ab6a",
   "metadata": {},
   "outputs": [
    {
     "name": "stdout",
     "output_type": "stream",
     "text": [
      "              precision    recall  f1-score   support\n",
      "\n",
      "           0       0.97      0.98      0.98      1356\n",
      "           1       0.96      0.93      0.94       497\n",
      "\n",
      "    accuracy                           0.97      1853\n",
      "   macro avg       0.97      0.96      0.96      1853\n",
      "weighted avg       0.97      0.97      0.97      1853\n",
      "\n"
     ]
    }
   ],
   "source": [
    "baysian_model = GaussianNB()\n",
    "baysian_model.fit(X_train, y_train)\n",
    "pred = baysian_model.predict(X_test)\n",
    "baysian_f1 = f1_score(y_test, pred, average='weighted')\n",
    "print(classification_report(y_test, pred))"
   ]
  },
  {
   "cell_type": "code",
   "execution_count": 5,
   "id": "cd8ffc3b",
   "metadata": {},
   "outputs": [
    {
     "name": "stdout",
     "output_type": "stream",
     "text": [
      "              precision    recall  f1-score   support\n",
      "\n",
      "           0       0.97      0.98      0.98      1356\n",
      "           1       0.96      0.93      0.94       497\n",
      "\n",
      "    accuracy                           0.97      1853\n",
      "   macro avg       0.97      0.96      0.96      1853\n",
      "weighted avg       0.97      0.97      0.97      1853\n",
      "\n"
     ]
    }
   ],
   "source": [
    "SGD_model = SGDClassifier(\n",
    "    learning_rate=\"adaptive\",\n",
    "    eta0=0.01,\n",
    "    early_stopping=True,\n",
    "    n_iter_no_change=60,\n",
    "    verbose=False\n",
    ")\n",
    "SGD_model.fit(X_train, y_train)\n",
    "pred = SGD_model.predict(X_test)\n",
    "SGD_f1 = f1_score(y_test, pred, average='weighted')\n",
    "print(classification_report(y_test, pred))"
   ]
  },
  {
   "cell_type": "code",
   "execution_count": 6,
   "id": "28459622",
   "metadata": {},
   "outputs": [
    {
     "name": "stdout",
     "output_type": "stream",
     "text": [
      "              precision    recall  f1-score   support\n",
      "\n",
      "           0       0.98      0.98      0.98      1356\n",
      "           1       0.96      0.93      0.94       497\n",
      "\n",
      "    accuracy                           0.97      1853\n",
      "   macro avg       0.97      0.96      0.96      1853\n",
      "weighted avg       0.97      0.97      0.97      1853\n",
      "\n"
     ]
    }
   ],
   "source": [
    "MLP_model = MLPClassifier(\n",
    "    hidden_layer_sizes=(100, 100),\n",
    "    learning_rate=\"adaptive\",\n",
    "    early_stopping=True,\n",
    "    n_iter_no_change=20,\n",
    "    verbose=False\n",
    ")\n",
    "MLP_model.fit(X_train, y_train)\n",
    "pred = MLP_model.predict(X_test)\n",
    "MLP_f1 = f1_score(y_test, pred, average='weighted')\n",
    "print(classification_report(y_test, pred))"
   ]
  },
  {
   "cell_type": "code",
   "execution_count": 7,
   "id": "49115f69",
   "metadata": {},
   "outputs": [
    {
     "name": "stdout",
     "output_type": "stream",
     "text": [
      "Baysian F1: 0.9696404751431222\n",
      "SGD F1: 0.9696404751431222\n",
      "MLP F1: 0.970192535673754\n",
      "MLP Classifier better\n"
     ]
    }
   ],
   "source": [
    "print(\"Baysian F1:\", baysian_f1)\n",
    "print(\"SGD F1:\", SGD_f1)\n",
    "print(\"MLP F1:\", MLP_f1)\n",
    "\n",
    "if max(baysian_f1, SGD_f1, MLP_f1) == baysian_f1:\n",
    "    model = baysian_model\n",
    "    print(\"Baysian Classifier better\")\n",
    "if max(baysian_f1, SGD_f1, MLP_f1) == SGD_f1:\n",
    "    model = SGD_model\n",
    "    print(\"SGD Classifier better\")\n",
    "if max(baysian_f1, SGD_f1, MLP_f1) == MLP_f1:\n",
    "    model = MLP_model\n",
    "    print(\"MLP Classifier better\")"
   ]
  },
  {
   "cell_type": "code",
   "execution_count": 8,
   "id": "487f3367",
   "metadata": {},
   "outputs": [
    {
     "data": {
      "application/vnd.microsoft.datawrangler.viewer.v0+json": {
       "columns": [
        {
         "name": "index",
         "rawType": "int64",
         "type": "integer"
        },
        {
         "name": "id",
         "rawType": "int64",
         "type": "integer"
        },
        {
         "name": "Time_spent_Alone",
         "rawType": "float64",
         "type": "float"
        },
        {
         "name": "Stage_fear",
         "rawType": "int64",
         "type": "integer"
        },
        {
         "name": "Social_event_attendance",
         "rawType": "float64",
         "type": "float"
        },
        {
         "name": "Going_outside",
         "rawType": "float64",
         "type": "float"
        },
        {
         "name": "Drained_after_socializing",
         "rawType": "int64",
         "type": "integer"
        },
        {
         "name": "Friends_circle_size",
         "rawType": "float64",
         "type": "float"
        },
        {
         "name": "Post_frequency",
         "rawType": "float64",
         "type": "float"
        }
       ],
       "ref": "e2ea6c4c-7352-48b6-85fc-f8838baaadf7",
       "rows": [
        [
         "0",
         "18524",
         "3.0",
         "0",
         "7.0",
         "4.0",
         "0",
         "6.0",
         "3.0"
        ],
        [
         "1",
         "18525",
         "0.0",
         "1",
         "0.0",
         "0.0",
         "1",
         "5.0",
         "1.0"
        ],
        [
         "2",
         "18526",
         "3.0",
         "0",
         "5.0",
         "6.0",
         "0",
         "15.0",
         "9.0"
        ],
        [
         "3",
         "18527",
         "3.0",
         "0",
         "4.0",
         "4.0",
         "0",
         "5.0",
         "6.0"
        ],
        [
         "4",
         "18528",
         "9.0",
         "1",
         "1.0",
         "2.0",
         "1",
         "1.0",
         "1.0"
        ],
        [
         "5",
         "18529",
         "2.0",
         "0",
         "5.0",
         "3.0",
         "0",
         "10.0",
         "4.0"
        ],
        [
         "6",
         "18530",
         "3.0",
         "0",
         "4.0",
         "5.0",
         "0",
         "15.0",
         "5.0"
        ],
        [
         "7",
         "18531",
         "11.0",
         "1",
         "2.0",
         "1.0",
         "1",
         "4.0",
         "1.0"
        ],
        [
         "8",
         "18532",
         "2.0",
         "0",
         "6.0",
         "3.0",
         "0",
         "9.0",
         "6.0"
        ],
        [
         "9",
         "18533",
         "8.0",
         "0",
         "2.0",
         "1.0",
         "1",
         "1.0",
         "1.0"
        ],
        [
         "10",
         "18534",
         "3.0",
         "0",
         "7.0",
         "3.0",
         "0",
         "15.0",
         "9.0"
        ],
        [
         "11",
         "18535",
         "1.0",
         "0",
         "7.0",
         "6.0",
         "0",
         "14.0",
         "10.0"
        ],
        [
         "12",
         "18536",
         "0.0",
         "1",
         "1.0",
         "1.0",
         "1",
         "5.0",
         "1.0"
        ],
        [
         "13",
         "18537",
         "0.0",
         "0",
         "9.0",
         "6.0",
         "0",
         "6.0",
         "9.0"
        ],
        [
         "14",
         "18538",
         "9.0",
         "1",
         "1.0",
         "0.0",
         "1",
         "3.0",
         "3.0"
        ],
        [
         "15",
         "18539",
         "1.0",
         "0",
         "8.0",
         "7.0",
         "0",
         "14.0",
         "3.0"
        ],
        [
         "16",
         "18540",
         "3.0",
         "0",
         "9.0",
         "6.0",
         "0",
         "6.0",
         "6.0"
        ],
        [
         "17",
         "18541",
         "3.0",
         "0",
         "6.0",
         "7.0",
         "0",
         "15.0",
         "3.0"
        ],
        [
         "18",
         "18542",
         "11.0",
         "1",
         "2.0",
         "0.0",
         "0",
         "0.0",
         "2.0"
        ],
        [
         "19",
         "18543",
         "3.0",
         "0",
         "8.0",
         "7.0",
         "0",
         "7.0",
         "5.0"
        ],
        [
         "20",
         "18544",
         "11.0",
         "1",
         "3.0",
         "1.0",
         "1",
         "5.0",
         "1.0"
        ],
        [
         "21",
         "18545",
         "10.0",
         "1",
         "0.0",
         "3.0",
         "1",
         "5.0",
         "1.0"
        ],
        [
         "22",
         "18546",
         "0.0",
         "0",
         "6.0",
         "6.0",
         "0",
         "15.0",
         "7.0"
        ],
        [
         "23",
         "18547",
         "4.0",
         "0",
         "2.0",
         "0.0",
         "1",
         "3.0",
         "3.0"
        ],
        [
         "24",
         "18548",
         "0.0",
         "0",
         "4.0",
         "3.0",
         "0",
         "12.0",
         "8.0"
        ],
        [
         "25",
         "18549",
         "3.0",
         "0",
         "4.0",
         "4.0",
         "0",
         "8.0",
         "6.0"
        ],
        [
         "26",
         "18550",
         "2.0",
         "0",
         "7.0",
         "5.0",
         "0",
         "10.0",
         "7.0"
        ],
        [
         "27",
         "18551",
         "2.0",
         "0",
         "4.0",
         "3.0",
         "0",
         "7.0",
         "3.0"
        ],
        [
         "28",
         "18552",
         "5.0",
         "1",
         "2.0",
         "2.0",
         "1",
         "2.0",
         "1.0"
        ],
        [
         "29",
         "18553",
         "9.0",
         "1",
         "2.0",
         "3.0",
         "1",
         "4.0",
         "1.0"
        ],
        [
         "30",
         "18554",
         "3.0",
         "0",
         "5.0",
         "5.0",
         "0",
         "13.0",
         "9.0"
        ],
        [
         "31",
         "18555",
         "0.0",
         "0",
         "4.0",
         "7.0",
         "0",
         "5.0",
         "6.0"
        ],
        [
         "32",
         "18556",
         "8.0",
         "1",
         "0.0",
         "2.0",
         "1",
         "2.0",
         "0.0"
        ],
        [
         "33",
         "18557",
         "3.0",
         "0",
         "6.0",
         "6.0",
         "0",
         "10.0",
         "4.0"
        ],
        [
         "34",
         "18558",
         "0.0",
         "0",
         "8.0",
         "4.0",
         "0",
         "5.0",
         "4.0"
        ],
        [
         "35",
         "18559",
         "0.0",
         "0",
         "5.0",
         "3.0",
         "0",
         "9.0",
         "3.0"
        ],
        [
         "36",
         "18560",
         "3.0",
         "0",
         "10.0",
         "7.0",
         "0",
         "11.0",
         "7.0"
        ],
        [
         "37",
         "18561",
         "3.0",
         "0",
         "8.0",
         "4.0",
         "0",
         "13.0",
         "7.0"
        ],
        [
         "38",
         "18562",
         "3.0",
         "0",
         "8.0",
         "3.0",
         "0",
         "12.0",
         "6.0"
        ],
        [
         "39",
         "18563",
         "1.0",
         "0",
         "5.0",
         "6.0",
         "0",
         "9.0",
         "9.0"
        ],
        [
         "40",
         "18564",
         "6.0",
         "1",
         "1.0",
         "3.0",
         "1",
         "1.0",
         "1.0"
        ],
        [
         "41",
         "18565",
         "4.0",
         "1",
         "3.0",
         "3.0",
         "1",
         "3.0",
         "2.0"
        ],
        [
         "42",
         "18566",
         "6.0",
         "1",
         "9.0",
         "2.0",
         "1",
         "5.0",
         "2.0"
        ],
        [
         "43",
         "18567",
         "6.0",
         "1",
         "0.0",
         "1.0",
         "1",
         "10.0",
         "1.0"
        ],
        [
         "44",
         "18568",
         "0.0",
         "0",
         "6.0",
         "4.0",
         "0",
         "6.0",
         "5.0"
        ],
        [
         "45",
         "18569",
         "8.0",
         "1",
         "3.0",
         "0.0",
         "0",
         "3.0",
         "1.0"
        ],
        [
         "46",
         "18570",
         "0.0",
         "0",
         "7.0",
         "3.0",
         "0",
         "10.0",
         "6.0"
        ],
        [
         "47",
         "18571",
         "7.0",
         "1",
         "2.0",
         "1.0",
         "1",
         "3.0",
         "2.0"
        ],
        [
         "48",
         "18572",
         "2.0",
         "0",
         "9.0",
         "7.0",
         "0",
         "14.0",
         "5.0"
        ],
        [
         "49",
         "18573",
         "2.0",
         "0",
         "6.0",
         "7.0",
         "0",
         "8.0",
         "7.0"
        ]
       ],
       "shape": {
        "columns": 8,
        "rows": 6175
       }
      },
      "text/html": [
       "<div>\n",
       "<style scoped>\n",
       "    .dataframe tbody tr th:only-of-type {\n",
       "        vertical-align: middle;\n",
       "    }\n",
       "\n",
       "    .dataframe tbody tr th {\n",
       "        vertical-align: top;\n",
       "    }\n",
       "\n",
       "    .dataframe thead th {\n",
       "        text-align: right;\n",
       "    }\n",
       "</style>\n",
       "<table border=\"1\" class=\"dataframe\">\n",
       "  <thead>\n",
       "    <tr style=\"text-align: right;\">\n",
       "      <th></th>\n",
       "      <th>id</th>\n",
       "      <th>Time_spent_Alone</th>\n",
       "      <th>Stage_fear</th>\n",
       "      <th>Social_event_attendance</th>\n",
       "      <th>Going_outside</th>\n",
       "      <th>Drained_after_socializing</th>\n",
       "      <th>Friends_circle_size</th>\n",
       "      <th>Post_frequency</th>\n",
       "    </tr>\n",
       "  </thead>\n",
       "  <tbody>\n",
       "    <tr>\n",
       "      <th>0</th>\n",
       "      <td>18524</td>\n",
       "      <td>3.0</td>\n",
       "      <td>0</td>\n",
       "      <td>7.0</td>\n",
       "      <td>4.0</td>\n",
       "      <td>0</td>\n",
       "      <td>6.0</td>\n",
       "      <td>3.0</td>\n",
       "    </tr>\n",
       "    <tr>\n",
       "      <th>1</th>\n",
       "      <td>18525</td>\n",
       "      <td>0.0</td>\n",
       "      <td>1</td>\n",
       "      <td>0.0</td>\n",
       "      <td>0.0</td>\n",
       "      <td>1</td>\n",
       "      <td>5.0</td>\n",
       "      <td>1.0</td>\n",
       "    </tr>\n",
       "    <tr>\n",
       "      <th>2</th>\n",
       "      <td>18526</td>\n",
       "      <td>3.0</td>\n",
       "      <td>0</td>\n",
       "      <td>5.0</td>\n",
       "      <td>6.0</td>\n",
       "      <td>0</td>\n",
       "      <td>15.0</td>\n",
       "      <td>9.0</td>\n",
       "    </tr>\n",
       "    <tr>\n",
       "      <th>3</th>\n",
       "      <td>18527</td>\n",
       "      <td>3.0</td>\n",
       "      <td>0</td>\n",
       "      <td>4.0</td>\n",
       "      <td>4.0</td>\n",
       "      <td>0</td>\n",
       "      <td>5.0</td>\n",
       "      <td>6.0</td>\n",
       "    </tr>\n",
       "    <tr>\n",
       "      <th>4</th>\n",
       "      <td>18528</td>\n",
       "      <td>9.0</td>\n",
       "      <td>1</td>\n",
       "      <td>1.0</td>\n",
       "      <td>2.0</td>\n",
       "      <td>1</td>\n",
       "      <td>1.0</td>\n",
       "      <td>1.0</td>\n",
       "    </tr>\n",
       "    <tr>\n",
       "      <th>...</th>\n",
       "      <td>...</td>\n",
       "      <td>...</td>\n",
       "      <td>...</td>\n",
       "      <td>...</td>\n",
       "      <td>...</td>\n",
       "      <td>...</td>\n",
       "      <td>...</td>\n",
       "      <td>...</td>\n",
       "    </tr>\n",
       "    <tr>\n",
       "      <th>6170</th>\n",
       "      <td>24694</td>\n",
       "      <td>3.0</td>\n",
       "      <td>0</td>\n",
       "      <td>5.0</td>\n",
       "      <td>5.0</td>\n",
       "      <td>0</td>\n",
       "      <td>9.0</td>\n",
       "      <td>6.0</td>\n",
       "    </tr>\n",
       "    <tr>\n",
       "      <th>6171</th>\n",
       "      <td>24695</td>\n",
       "      <td>8.0</td>\n",
       "      <td>1</td>\n",
       "      <td>2.0</td>\n",
       "      <td>1.0</td>\n",
       "      <td>1</td>\n",
       "      <td>0.0</td>\n",
       "      <td>0.0</td>\n",
       "    </tr>\n",
       "    <tr>\n",
       "      <th>6172</th>\n",
       "      <td>24696</td>\n",
       "      <td>2.0</td>\n",
       "      <td>0</td>\n",
       "      <td>4.0</td>\n",
       "      <td>3.0</td>\n",
       "      <td>0</td>\n",
       "      <td>9.0</td>\n",
       "      <td>7.0</td>\n",
       "    </tr>\n",
       "    <tr>\n",
       "      <th>6173</th>\n",
       "      <td>24697</td>\n",
       "      <td>3.0</td>\n",
       "      <td>0</td>\n",
       "      <td>4.0</td>\n",
       "      <td>4.0</td>\n",
       "      <td>0</td>\n",
       "      <td>11.0</td>\n",
       "      <td>9.0</td>\n",
       "    </tr>\n",
       "    <tr>\n",
       "      <th>6174</th>\n",
       "      <td>24698</td>\n",
       "      <td>0.0</td>\n",
       "      <td>1</td>\n",
       "      <td>1.0</td>\n",
       "      <td>1.0</td>\n",
       "      <td>1</td>\n",
       "      <td>1.0</td>\n",
       "      <td>0.0</td>\n",
       "    </tr>\n",
       "  </tbody>\n",
       "</table>\n",
       "<p>6175 rows × 8 columns</p>\n",
       "</div>"
      ],
      "text/plain": [
       "         id  Time_spent_Alone  Stage_fear  Social_event_attendance  \\\n",
       "0     18524               3.0           0                      7.0   \n",
       "1     18525               0.0           1                      0.0   \n",
       "2     18526               3.0           0                      5.0   \n",
       "3     18527               3.0           0                      4.0   \n",
       "4     18528               9.0           1                      1.0   \n",
       "...     ...               ...         ...                      ...   \n",
       "6170  24694               3.0           0                      5.0   \n",
       "6171  24695               8.0           1                      2.0   \n",
       "6172  24696               2.0           0                      4.0   \n",
       "6173  24697               3.0           0                      4.0   \n",
       "6174  24698               0.0           1                      1.0   \n",
       "\n",
       "      Going_outside  Drained_after_socializing  Friends_circle_size  \\\n",
       "0               4.0                          0                  6.0   \n",
       "1               0.0                          1                  5.0   \n",
       "2               6.0                          0                 15.0   \n",
       "3               4.0                          0                  5.0   \n",
       "4               2.0                          1                  1.0   \n",
       "...             ...                        ...                  ...   \n",
       "6170            5.0                          0                  9.0   \n",
       "6171            1.0                          1                  0.0   \n",
       "6172            3.0                          0                  9.0   \n",
       "6173            4.0                          0                 11.0   \n",
       "6174            1.0                          1                  1.0   \n",
       "\n",
       "      Post_frequency  \n",
       "0                3.0  \n",
       "1                1.0  \n",
       "2                9.0  \n",
       "3                6.0  \n",
       "4                1.0  \n",
       "...              ...  \n",
       "6170             6.0  \n",
       "6171             0.0  \n",
       "6172             7.0  \n",
       "6173             9.0  \n",
       "6174             0.0  \n",
       "\n",
       "[6175 rows x 8 columns]"
      ]
     },
     "metadata": {},
     "output_type": "display_data"
    }
   ],
   "source": [
    "sub_df = pd.read_csv(\"../data/test.csv\")\n",
    "imputer = SimpleImputer(strategy=\"most_frequent\")\n",
    "le = LabelEncoder()\n",
    "for feature in sub_df.columns:\n",
    "    sub_df[feature] = imputer.fit_transform(sub_df[[feature]]).flatten()\n",
    "    if feature == \"Stage_fear\" or feature == \"Drained_after_socializing\":\n",
    "        sub_df[feature] = le.fit_transform(sub_df[feature])\n",
    "display(sub_df)"
   ]
  },
  {
   "cell_type": "code",
   "execution_count": 9,
   "id": "3964fab7",
   "metadata": {},
   "outputs": [
    {
     "data": {
      "application/vnd.microsoft.datawrangler.viewer.v0+json": {
       "columns": [
        {
         "name": "index",
         "rawType": "int64",
         "type": "integer"
        },
        {
         "name": "id",
         "rawType": "int64",
         "type": "integer"
        },
        {
         "name": "Personality",
         "rawType": "object",
         "type": "string"
        }
       ],
       "ref": "c7fb4070-f743-44f2-9cfc-4da1cf5c4e0e",
       "rows": [
        [
         "0",
         "18524",
         "Extrovert"
        ],
        [
         "1",
         "18525",
         "Introvert"
        ],
        [
         "2",
         "18526",
         "Extrovert"
        ],
        [
         "3",
         "18527",
         "Extrovert"
        ],
        [
         "4",
         "18528",
         "Introvert"
        ],
        [
         "5",
         "18529",
         "Extrovert"
        ],
        [
         "6",
         "18530",
         "Extrovert"
        ],
        [
         "7",
         "18531",
         "Introvert"
        ],
        [
         "8",
         "18532",
         "Extrovert"
        ],
        [
         "9",
         "18533",
         "Introvert"
        ],
        [
         "10",
         "18534",
         "Extrovert"
        ],
        [
         "11",
         "18535",
         "Extrovert"
        ],
        [
         "12",
         "18536",
         "Introvert"
        ],
        [
         "13",
         "18537",
         "Extrovert"
        ],
        [
         "14",
         "18538",
         "Introvert"
        ],
        [
         "15",
         "18539",
         "Extrovert"
        ],
        [
         "16",
         "18540",
         "Extrovert"
        ],
        [
         "17",
         "18541",
         "Extrovert"
        ],
        [
         "18",
         "18542",
         "Introvert"
        ],
        [
         "19",
         "18543",
         "Extrovert"
        ],
        [
         "20",
         "18544",
         "Introvert"
        ],
        [
         "21",
         "18545",
         "Introvert"
        ],
        [
         "22",
         "18546",
         "Extrovert"
        ],
        [
         "23",
         "18547",
         "Introvert"
        ],
        [
         "24",
         "18548",
         "Extrovert"
        ],
        [
         "25",
         "18549",
         "Extrovert"
        ],
        [
         "26",
         "18550",
         "Extrovert"
        ],
        [
         "27",
         "18551",
         "Extrovert"
        ],
        [
         "28",
         "18552",
         "Introvert"
        ],
        [
         "29",
         "18553",
         "Introvert"
        ],
        [
         "30",
         "18554",
         "Extrovert"
        ],
        [
         "31",
         "18555",
         "Extrovert"
        ],
        [
         "32",
         "18556",
         "Introvert"
        ],
        [
         "33",
         "18557",
         "Extrovert"
        ],
        [
         "34",
         "18558",
         "Extrovert"
        ],
        [
         "35",
         "18559",
         "Extrovert"
        ],
        [
         "36",
         "18560",
         "Extrovert"
        ],
        [
         "37",
         "18561",
         "Extrovert"
        ],
        [
         "38",
         "18562",
         "Extrovert"
        ],
        [
         "39",
         "18563",
         "Extrovert"
        ],
        [
         "40",
         "18564",
         "Introvert"
        ],
        [
         "41",
         "18565",
         "Introvert"
        ],
        [
         "42",
         "18566",
         "Extrovert"
        ],
        [
         "43",
         "18567",
         "Introvert"
        ],
        [
         "44",
         "18568",
         "Extrovert"
        ],
        [
         "45",
         "18569",
         "Introvert"
        ],
        [
         "46",
         "18570",
         "Extrovert"
        ],
        [
         "47",
         "18571",
         "Introvert"
        ],
        [
         "48",
         "18572",
         "Extrovert"
        ],
        [
         "49",
         "18573",
         "Extrovert"
        ]
       ],
       "shape": {
        "columns": 2,
        "rows": 6175
       }
      },
      "text/html": [
       "<div>\n",
       "<style scoped>\n",
       "    .dataframe tbody tr th:only-of-type {\n",
       "        vertical-align: middle;\n",
       "    }\n",
       "\n",
       "    .dataframe tbody tr th {\n",
       "        vertical-align: top;\n",
       "    }\n",
       "\n",
       "    .dataframe thead th {\n",
       "        text-align: right;\n",
       "    }\n",
       "</style>\n",
       "<table border=\"1\" class=\"dataframe\">\n",
       "  <thead>\n",
       "    <tr style=\"text-align: right;\">\n",
       "      <th></th>\n",
       "      <th>id</th>\n",
       "      <th>Personality</th>\n",
       "    </tr>\n",
       "  </thead>\n",
       "  <tbody>\n",
       "    <tr>\n",
       "      <th>0</th>\n",
       "      <td>18524</td>\n",
       "      <td>Extrovert</td>\n",
       "    </tr>\n",
       "    <tr>\n",
       "      <th>1</th>\n",
       "      <td>18525</td>\n",
       "      <td>Introvert</td>\n",
       "    </tr>\n",
       "    <tr>\n",
       "      <th>2</th>\n",
       "      <td>18526</td>\n",
       "      <td>Extrovert</td>\n",
       "    </tr>\n",
       "    <tr>\n",
       "      <th>3</th>\n",
       "      <td>18527</td>\n",
       "      <td>Extrovert</td>\n",
       "    </tr>\n",
       "    <tr>\n",
       "      <th>4</th>\n",
       "      <td>18528</td>\n",
       "      <td>Introvert</td>\n",
       "    </tr>\n",
       "    <tr>\n",
       "      <th>...</th>\n",
       "      <td>...</td>\n",
       "      <td>...</td>\n",
       "    </tr>\n",
       "    <tr>\n",
       "      <th>6170</th>\n",
       "      <td>24694</td>\n",
       "      <td>Extrovert</td>\n",
       "    </tr>\n",
       "    <tr>\n",
       "      <th>6171</th>\n",
       "      <td>24695</td>\n",
       "      <td>Introvert</td>\n",
       "    </tr>\n",
       "    <tr>\n",
       "      <th>6172</th>\n",
       "      <td>24696</td>\n",
       "      <td>Extrovert</td>\n",
       "    </tr>\n",
       "    <tr>\n",
       "      <th>6173</th>\n",
       "      <td>24697</td>\n",
       "      <td>Extrovert</td>\n",
       "    </tr>\n",
       "    <tr>\n",
       "      <th>6174</th>\n",
       "      <td>24698</td>\n",
       "      <td>Introvert</td>\n",
       "    </tr>\n",
       "  </tbody>\n",
       "</table>\n",
       "<p>6175 rows × 2 columns</p>\n",
       "</div>"
      ],
      "text/plain": [
       "         id Personality\n",
       "0     18524   Extrovert\n",
       "1     18525   Introvert\n",
       "2     18526   Extrovert\n",
       "3     18527   Extrovert\n",
       "4     18528   Introvert\n",
       "...     ...         ...\n",
       "6170  24694   Extrovert\n",
       "6171  24695   Introvert\n",
       "6172  24696   Extrovert\n",
       "6173  24697   Extrovert\n",
       "6174  24698   Introvert\n",
       "\n",
       "[6175 rows x 2 columns]"
      ]
     },
     "metadata": {},
     "output_type": "display_data"
    }
   ],
   "source": [
    "sub_pred = model.predict(sub_df.drop([\"id\"], axis=1))\n",
    "sub_pred = [\"Extrovert\" if e == 0 else \"Introvert\" for e in sub_pred]\n",
    "submission = pd.DataFrame({\"id\": sub_df[\"id\"], \"Personality\": sub_pred})\n",
    "display(submission)\n",
    "submission.to_csv(\"../data/submission.csv\", index=False)"
   ]
  }
 ],
 "metadata": {
  "kernelspec": {
   "display_name": "Python 3",
   "language": "python",
   "name": "python3"
  },
  "language_info": {
   "codemirror_mode": {
    "name": "ipython",
    "version": 3
   },
   "file_extension": ".py",
   "mimetype": "text/x-python",
   "name": "python",
   "nbconvert_exporter": "python",
   "pygments_lexer": "ipython3",
   "version": "3.13.5"
  }
 },
 "nbformat": 4,
 "nbformat_minor": 5
}
